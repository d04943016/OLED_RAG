{
 "cells": [
  {
   "cell_type": "code",
   "execution_count": 1,
   "metadata": {},
   "outputs": [],
   "source": [
    "# 匯入套件和金鑰\n",
    "import os, sys\n",
    "\n",
    "from rich import print as pprint\n",
    "from langchain_openai import ChatOpenAI\n",
    "\n",
    "from dotenv import load_dotenv\n",
    "load_dotenv()\n",
    "\n",
    "from langchain_community.document_loaders import PyPDFLoader\n",
    "from langchain.prompts import PromptTemplate\n",
    "from langchain_core.output_parsers import JsonOutputParser\n",
    "\n",
    "sys.path.append( os.path.join('..') )\n",
    "from src.paper_extractor import metadata_extractor"
   ]
  },
  {
   "cell_type": "code",
   "execution_count": 2,
   "metadata": {},
   "outputs": [
    {
     "data": {
      "text/html": [
       "<pre style=\"white-space:pre;overflow-x:auto;line-height:normal;font-family:Menlo,'DejaVu Sans Mono',consolas,'Courier New',monospace\">The PDF file has <span style=\"color: #008080; text-decoration-color: #008080; font-weight: bold\">12</span> pages\n",
       "</pre>\n"
      ],
      "text/plain": [
       "The PDF file has \u001b[1;36m12\u001b[0m pages\n"
      ]
     },
     "metadata": {},
     "output_type": "display_data"
    }
   ],
   "source": [
    "# load PDF file\n",
    "pdf_filepath = '/Users/weikai/Library/CloudStorage/Dropbox/paper/CCWu'\n",
    "pdf_filename = 'CCWu 2021 Modified distributed Bragg reflector for protecting organic light-emitting diode displays against ultraviolet light.pdf'\n",
    "\n",
    "loader = PyPDFLoader(file_path=os.path.join(pdf_filepath, pdf_filename))\n",
    "docs = loader.load()\n",
    "pprint(f'The PDF file has {len(docs)} pages')\n",
    "\n",
    "# pprint(docs[0])"
   ]
  },
  {
   "cell_type": "code",
   "execution_count": 3,
   "metadata": {},
   "outputs": [],
   "source": [
    "chat_model = ChatOpenAI(model='gpt-4o', api_key=os.getenv(\"OPENAI_API_KEY\"), temperature=0.0)"
   ]
  },
  {
   "cell_type": "code",
   "execution_count": 4,
   "metadata": {},
   "outputs": [
    {
     "name": "stderr",
     "output_type": "stream",
     "text": [
      "100%|██████████| 12/12 [01:19<00:00,  6.59s/it]\n"
     ]
    }
   ],
   "source": [
    "metadata = metadata_extractor.get_metadata(docs, chat_model)"
   ]
  },
  {
   "cell_type": "code",
   "execution_count": 5,
   "metadata": {},
   "outputs": [
    {
     "data": {
      "text/html": [
       "<pre style=\"white-space:pre;overflow-x:auto;line-height:normal;font-family:Menlo,'DejaVu Sans Mono',consolas,'Courier New',monospace\"><span style=\"color: #800080; text-decoration-color: #800080; font-weight: bold\">AcademicPaperMetadata</span><span style=\"font-weight: bold\">(</span>\n",
       "    <span style=\"color: #808000; text-decoration-color: #808000\">title</span>=<span style=\"color: #008000; text-decoration-color: #008000\">'Modified distributed Bragg reflector for protecting organic light-emitting diode displays against </span>\n",
       "<span style=\"color: #008000; text-decoration-color: #008000\">ultraviolet light'</span>,\n",
       "    <span style=\"color: #808000; text-decoration-color: #808000\">authors</span>=<span style=\"font-weight: bold\">[</span>\n",
       "        <span style=\"color: #008000; text-decoration-color: #008000\">'KAI-CHEN LIN'</span>,\n",
       "        <span style=\"color: #008000; text-decoration-color: #008000\">'WEI-KAI LEE'</span>,\n",
       "        <span style=\"color: #008000; text-decoration-color: #008000\">'BO-KAI WANG'</span>,\n",
       "        <span style=\"color: #008000; text-decoration-color: #008000\">'YU-HSING LIN'</span>,\n",
       "        <span style=\"color: #008000; text-decoration-color: #008000\">'HSIEN-HUNG CHEN'</span>,\n",
       "        <span style=\"color: #008000; text-decoration-color: #008000\">'YI-HWA SONG'</span>,\n",
       "        <span style=\"color: #008000; text-decoration-color: #008000\">'YU-HSIN HUANG'</span>,\n",
       "        <span style=\"color: #008000; text-decoration-color: #008000\">'LI-WEI SHIH'</span>,\n",
       "        <span style=\"color: #008000; text-decoration-color: #008000\">'CHUNG-CHI WU'</span>\n",
       "    <span style=\"font-weight: bold\">]</span>,\n",
       "    <span style=\"color: #808000; text-decoration-color: #808000\">publish_year</span>=<span style=\"color: #008000; text-decoration-color: #008000\">'2021'</span>,\n",
       "    <span style=\"color: #808000; text-decoration-color: #808000\">publish_month</span>=<span style=\"color: #008000; text-decoration-color: #008000\">'3'</span>,\n",
       "    <span style=\"color: #808000; text-decoration-color: #808000\">publish_day</span>=<span style=\"color: #008000; text-decoration-color: #008000\">'1'</span>,\n",
       "    <span style=\"color: #808000; text-decoration-color: #808000\">abstract</span>=<span style=\"color: #008000; text-decoration-color: #008000\">'Sunlight/UV (ultraviolet)-induced degradation is still a critical issue for outdoor applications of </span>\n",
       "<span style=\"color: #008000; text-decoration-color: #008000\">organic light-emitting diode (OLED) displays. Therefore, effective UV-blocking structures that can prevent OLED </span>\n",
       "<span style=\"color: #008000; text-decoration-color: #008000\">displays from sunlight/UV degradation and still keep the OLED panels’ display performance is necessary. In this </span>\n",
       "<span style=\"color: #008000; text-decoration-color: #008000\">report, modified distributed Bragg reflector (DBR) structures having UV-absorbing dielectric materials and adjusted</span>\n",
       "<span style=\"color: #008000; text-decoration-color: #008000\">layer/pair thicknesses were developed to realize effective UV blocking properties (nearly 0% transmittance below </span>\n",
       "<span style=\"color: #008000; text-decoration-color: #008000\">400nm), constantly high transmittance like glass in the visible range (∼92%) required for display applications, and</span>\n",
       "<span style=\"color: #008000; text-decoration-color: #008000\">sharp transition in transmission between the UV and the visible ranges. Furthermore, under the rigorous IEC </span>\n",
       "<span style=\"color: #008000; text-decoration-color: #008000\">60068-2-5 solar test condition, it was verified that the developed modified, UV-blocking DBR can effectively </span>\n",
       "<span style=\"color: #008000; text-decoration-color: #008000\">enhance the OLED panel’s resistance against UV/solar-induced degradation, effectively reducing voltage shifts of </span>\n",
       "<span style=\"color: #008000; text-decoration-color: #008000\">OLED devices after repeated solar test cycles.'</span>,\n",
       "    <span style=\"color: #808000; text-decoration-color: #808000\">affliations</span>=<span style=\"font-weight: bold\">[</span>\n",
       "        <span style=\"color: #008000; text-decoration-color: #008000\">'Graduate Institute of Electronics Engineering, Graduate Institute of Photonics and Optoelectronics and </span>\n",
       "<span style=\"color: #008000; text-decoration-color: #008000\">Department of Electrical Engineering, National Taiwan University, Taipei 106, Taiwan'</span>,\n",
       "        <span style=\"color: #008000; text-decoration-color: #008000\">'Graduate Institute of Electronics Engineering, Graduate Institute of Photonics and Optoelectronics and </span>\n",
       "<span style=\"color: #008000; text-decoration-color: #008000\">Department of Electrical Engineering, National Taiwan University, Taipei 106, Taiwan'</span>,\n",
       "        <span style=\"color: #008000; text-decoration-color: #008000\">'Graduate Institute of Electronics Engineering, Graduate Institute of Photonics and Optoelectronics and </span>\n",
       "<span style=\"color: #008000; text-decoration-color: #008000\">Department of Electrical Engineering, National Taiwan University, Taipei 106, Taiwan'</span>,\n",
       "        <span style=\"color: #008000; text-decoration-color: #008000\">'AU Optronics Corporation, Hsinchu 300, Taiwan'</span>,\n",
       "        <span style=\"color: #008000; text-decoration-color: #008000\">'AU Optronics Corporation, Hsinchu 300, Taiwan'</span>,\n",
       "        <span style=\"color: #008000; text-decoration-color: #008000\">'AU Optronics Corporation, Hsinchu 300, Taiwan'</span>,\n",
       "        <span style=\"color: #008000; text-decoration-color: #008000\">'Graduate Institute of Electronics Engineering, Graduate Institute of Photonics and Optoelectronics and </span>\n",
       "<span style=\"color: #008000; text-decoration-color: #008000\">Department of Electrical Engineering, National Taiwan University, Taipei 106, Taiwan'</span>,\n",
       "        <span style=\"color: #008000; text-decoration-color: #008000\">'AU Optronics Corporation, Hsinchu 300, Taiwan'</span>,\n",
       "        <span style=\"color: #008000; text-decoration-color: #008000\">'Graduate Institute of Electronics Engineering, Graduate Institute of Photonics and Optoelectronics and </span>\n",
       "<span style=\"color: #008000; text-decoration-color: #008000\">Department of Electrical Engineering, National Taiwan University, Taipei 106, Taiwan'</span>\n",
       "    <span style=\"font-weight: bold\">]</span>,\n",
       "    <span style=\"color: #808000; text-decoration-color: #808000\">emails</span>=<span style=\"font-weight: bold\">{</span><span style=\"color: #008000; text-decoration-color: #008000\">'CHUNG-CHI WU'</span>: <span style=\"color: #008000; text-decoration-color: #008000\">'wucc@ntu.edu.tw'</span><span style=\"font-weight: bold\">}</span>,\n",
       "    <span style=\"color: #808000; text-decoration-color: #808000\">paper_publisher</span>=<span style=\"color: #008000; text-decoration-color: #008000\">'Optical Society of America'</span>,\n",
       "    <span style=\"color: #808000; text-decoration-color: #808000\">DOI</span>=<span style=\"color: #008000; text-decoration-color: #008000\">'https://doi.org/10.1364/OE.418105'</span>,\n",
       "    <span style=\"color: #808000; text-decoration-color: #808000\">Journal</span>=<span style=\"color: #008000; text-decoration-color: #008000\">'Optics Express'</span>,\n",
       "    <span style=\"color: #808000; text-decoration-color: #808000\">first_authors</span>=<span style=\"font-weight: bold\">[</span><span style=\"color: #008000; text-decoration-color: #008000\">'KAI-CHEN LIN'</span><span style=\"font-weight: bold\">]</span>,\n",
       "    <span style=\"color: #808000; text-decoration-color: #808000\">keywords</span>=<span style=\"font-weight: bold\">[</span><span style=\"color: #008000; text-decoration-color: #008000\">'UV-blocking'</span>, <span style=\"color: #008000; text-decoration-color: #008000\">'OLED displays'</span>, <span style=\"color: #008000; text-decoration-color: #008000\">'distributed Bragg reflector'</span>, <span style=\"color: #008000; text-decoration-color: #008000\">'UV degradation'</span>, <span style=\"color: #008000; text-decoration-color: #008000\">'solar test'</span><span style=\"font-weight: bold\">]</span>,\n",
       "    <span style=\"color: #808000; text-decoration-color: #808000\">citation_format</span>=<span style=\"color: #008000; text-decoration-color: #008000\">'N/A'</span>,\n",
       "    <span style=\"color: #808000; text-decoration-color: #808000\">section_titles</span>=<span style=\"font-weight: bold\">[</span>\n",
       "        <span style=\"color: #008000; text-decoration-color: #008000\">'Introduction'</span>,\n",
       "        <span style=\"color: #008000; text-decoration-color: #008000\">'Strategies to design the UV-blocking optical structures'</span>,\n",
       "        <span style=\"color: #008000; text-decoration-color: #008000\">'Fabrication and characterization of UV-blocking structures'</span>,\n",
       "        <span style=\"color: #008000; text-decoration-color: #008000\">'Solar test and OLED’s characterization'</span>,\n",
       "        <span style=\"color: #008000; text-decoration-color: #008000\">'Conclusion'</span>\n",
       "    <span style=\"font-weight: bold\">]</span>,\n",
       "    <span style=\"color: #808000; text-decoration-color: #808000\">figure_captions</span>=<span style=\"font-weight: bold\">[</span>\n",
       "        <span style=\"color: #008000; text-decoration-color: #008000\">'Fig. 1.(a) Schematic structure of the typical top-emitting OLED panel. (b) Measured transmission spectrum </span>\n",
       "<span style=\"color: #008000; text-decoration-color: #008000\">of a typical circular polarizer.'</span>,\n",
       "        <span style=\"color: #008000; text-decoration-color: #008000\">'Fig. 2. Schematic illustration of (a) conventional DBR design, (b) 1st design of the modified DBR </span>\n",
       "<span style=\"color: #008000; text-decoration-color: #008000\">structure, and (c) 2nd design of the modified DBR structure. The red curve in each panel represents the schematic </span>\n",
       "<span style=\"color: #008000; text-decoration-color: #008000\">distribution of the electric field intensity (magnitude) at the resonant wavelength.'</span>,\n",
       "        <span style=\"color: #008000; text-decoration-color: #008000\">'Fig. 3.Refractive indexes ( n) and extinction coefficients ( k) of (a) TiO 2, and (b) SiO x. Measured </span>\n",
       "<span style=\"color: #008000; text-decoration-color: #008000\">transmittance (T)), reflectance (R), and absorptance (A) spectra of (c) a 30-nm TiO2 film and (d) a 60-nm SiO x </span>\n",
       "<span style=\"color: #008000; text-decoration-color: #008000\">film deposited on glass substrates.'</span>,\n",
       "        <span style=\"color: #008000; text-decoration-color: #008000\">'Fig. 4.(a)-(c)Calculatedtransmittancespectraof6,7,and8-pairDBRs. (d)-(f)Calculated </span>\n",
       "<span style=\"color: #008000; text-decoration-color: #008000\">reflectancespectraof6,7,8-pairDBRs. (g-)-(i)Calculatedabsorptancespectraof6,7,8-pair DBRs.'</span>,\n",
       "        <span style=\"color: #008000; text-decoration-color: #008000\">'Fig. 5. Simulated distributions of total electric field intensities in the 6-pair DBRs for wavelengths of </span>\n",
       "<span style=\"color: #008000; text-decoration-color: #008000\">300nm, 370nm, and 493nm: (a) the conventional DBR structure, (b) 2nd modified DBR design.'</span>,\n",
       "        <span style=\"color: #008000; text-decoration-color: #008000\">'Fig. 6. Calculated (a) transmittance spectra, (b) reflectance spectra, and (c) absorptance spectra for 2nd</span>\n",
       "<span style=\"color: #008000; text-decoration-color: #008000\">modified DBR structures with 6 pairs and λT=350nm, 360nm, 370nm, 380nm, and 390nm.'</span>,\n",
       "        <span style=\"color: #008000; text-decoration-color: #008000\">'Fig. 7.Cross-section SEM images of the UV-blocking, 2ndmodified DBRs: (a) 6 pairs, and (b) 7 pairs.'</span>,\n",
       "        <span style=\"color: #008000; text-decoration-color: #008000\">'Figure8(a)andFig.8(b)showthetransmittancespectraofthefabricated6-and7-pair2nd modified DBR structures, </span>\n",
       "<span style=\"color: #008000; text-decoration-color: #008000\">respectively. The high and rather constant transmittance in the visible range and the rather sharp transmittance </span>\n",
       "<span style=\"color: #008000; text-decoration-color: #008000\">transition around 420-450nm (HEV) are consistent with the simulation and design, confirming the usefulness of the </span>\n",
       "<span style=\"color: #008000; text-decoration-color: #008000\">DBR design strategy for OLED'</span>,\n",
       "        <span style=\"color: #008000; text-decoration-color: #008000\">'Fig. 8.Transmittance spectra of the UV-blocking, 2ndmodified DBRs: (a) 6 pairs, and (b) 7 pair. Insets in </span>\n",
       "<span style=\"color: #008000; text-decoration-color: #008000\">(a) and (b) show photos of the corresponding DBR samples taken under a color image background and the normal </span>\n",
       "<span style=\"color: #008000; text-decoration-color: #008000\">lighting condition (top) and under a black background and the normal lighting condition (bottom).'</span>,\n",
       "        <span style=\"color: #008000; text-decoration-color: #008000\">'Fig. 9. Threesolartestingarchitectureswithtop-emittingOLEDs: (a) Ahavingnopolarizer and no UV-blocking </span>\n",
       "<span style=\"color: #008000; text-decoration-color: #008000\">structure, (b) Bhaving polarizer but no UV-blocking structure, and (c) Chaving both polarizer and UV-blocking </span>\n",
       "<span style=\"color: #008000; text-decoration-color: #008000\">structure on the cover lens.'</span>,\n",
       "        <span style=\"color: #008000; text-decoration-color: #008000\">'Fig. 10. Voltage shifts ( ∆V) of OLEDs vs. solar test cycles under the current density of 10mA/cm2: for </span>\n",
       "<span style=\"color: #008000; text-decoration-color: #008000\">various test architectures and UV-blocking structures.'</span>\n",
       "    <span style=\"font-weight: bold\">]</span>,\n",
       "    <span style=\"color: #808000; text-decoration-color: #808000\">table_captions</span>=<span style=\"font-weight: bold\">[</span><span style=\"color: #008000; text-decoration-color: #008000\">'Table 1. Spectral energy distribution of IEC 60068-2-5.'</span><span style=\"font-weight: bold\">]</span>,\n",
       "    <span style=\"color: #808000; text-decoration-color: #808000\">read_next_page</span>=<span style=\"color: #008000; text-decoration-color: #008000\">'True'</span>\n",
       "<span style=\"font-weight: bold\">)</span>\n",
       "</pre>\n"
      ],
      "text/plain": [
       "\u001b[1;35mAcademicPaperMetadata\u001b[0m\u001b[1m(\u001b[0m\n",
       "    \u001b[33mtitle\u001b[0m=\u001b[32m'Modified distributed Bragg reflector for protecting organic light-emitting diode displays against \u001b[0m\n",
       "\u001b[32multraviolet light'\u001b[0m,\n",
       "    \u001b[33mauthors\u001b[0m=\u001b[1m[\u001b[0m\n",
       "        \u001b[32m'KAI-CHEN LIN'\u001b[0m,\n",
       "        \u001b[32m'WEI-KAI LEE'\u001b[0m,\n",
       "        \u001b[32m'BO-KAI WANG'\u001b[0m,\n",
       "        \u001b[32m'YU-HSING LIN'\u001b[0m,\n",
       "        \u001b[32m'HSIEN-HUNG CHEN'\u001b[0m,\n",
       "        \u001b[32m'YI-HWA SONG'\u001b[0m,\n",
       "        \u001b[32m'YU-HSIN HUANG'\u001b[0m,\n",
       "        \u001b[32m'LI-WEI SHIH'\u001b[0m,\n",
       "        \u001b[32m'CHUNG-CHI WU'\u001b[0m\n",
       "    \u001b[1m]\u001b[0m,\n",
       "    \u001b[33mpublish_year\u001b[0m=\u001b[32m'2021'\u001b[0m,\n",
       "    \u001b[33mpublish_month\u001b[0m=\u001b[32m'3'\u001b[0m,\n",
       "    \u001b[33mpublish_day\u001b[0m=\u001b[32m'1'\u001b[0m,\n",
       "    \u001b[33mabstract\u001b[0m=\u001b[32m'Sunlight/UV \u001b[0m\u001b[32m(\u001b[0m\u001b[32multraviolet\u001b[0m\u001b[32m)\u001b[0m\u001b[32m-induced degradation is still a critical issue for outdoor applications of \u001b[0m\n",
       "\u001b[32morganic light-emitting diode \u001b[0m\u001b[32m(\u001b[0m\u001b[32mOLED\u001b[0m\u001b[32m)\u001b[0m\u001b[32m displays. Therefore, effective UV-blocking structures that can prevent OLED \u001b[0m\n",
       "\u001b[32mdisplays from sunlight/UV degradation and still keep the OLED panels’ display performance is necessary. In this \u001b[0m\n",
       "\u001b[32mreport, modified distributed Bragg reflector \u001b[0m\u001b[32m(\u001b[0m\u001b[32mDBR\u001b[0m\u001b[32m)\u001b[0m\u001b[32m structures having UV-absorbing dielectric materials and adjusted\u001b[0m\n",
       "\u001b[32mlayer/pair thicknesses were developed to realize effective UV blocking properties \u001b[0m\u001b[32m(\u001b[0m\u001b[32mnearly 0% transmittance below \u001b[0m\n",
       "\u001b[32m400nm\u001b[0m\u001b[32m)\u001b[0m\u001b[32m, constantly high transmittance like glass in the visible range \u001b[0m\u001b[32m(\u001b[0m\u001b[32m∼92%\u001b[0m\u001b[32m)\u001b[0m\u001b[32m required for display applications, and\u001b[0m\n",
       "\u001b[32msharp transition in transmission between the UV and the visible ranges. Furthermore, under the rigorous IEC \u001b[0m\n",
       "\u001b[32m60068-2-5 solar test condition, it was verified that the developed modified, UV-blocking DBR can effectively \u001b[0m\n",
       "\u001b[32menhance the OLED panel’s resistance against UV/solar-induced degradation, effectively reducing voltage shifts of \u001b[0m\n",
       "\u001b[32mOLED devices after repeated solar test cycles.'\u001b[0m,\n",
       "    \u001b[33maffliations\u001b[0m=\u001b[1m[\u001b[0m\n",
       "        \u001b[32m'Graduate Institute of Electronics Engineering, Graduate Institute of Photonics and Optoelectronics and \u001b[0m\n",
       "\u001b[32mDepartment of Electrical Engineering, National Taiwan University, Taipei 106, Taiwan'\u001b[0m,\n",
       "        \u001b[32m'Graduate Institute of Electronics Engineering, Graduate Institute of Photonics and Optoelectronics and \u001b[0m\n",
       "\u001b[32mDepartment of Electrical Engineering, National Taiwan University, Taipei 106, Taiwan'\u001b[0m,\n",
       "        \u001b[32m'Graduate Institute of Electronics Engineering, Graduate Institute of Photonics and Optoelectronics and \u001b[0m\n",
       "\u001b[32mDepartment of Electrical Engineering, National Taiwan University, Taipei 106, Taiwan'\u001b[0m,\n",
       "        \u001b[32m'AU Optronics Corporation, Hsinchu 300, Taiwan'\u001b[0m,\n",
       "        \u001b[32m'AU Optronics Corporation, Hsinchu 300, Taiwan'\u001b[0m,\n",
       "        \u001b[32m'AU Optronics Corporation, Hsinchu 300, Taiwan'\u001b[0m,\n",
       "        \u001b[32m'Graduate Institute of Electronics Engineering, Graduate Institute of Photonics and Optoelectronics and \u001b[0m\n",
       "\u001b[32mDepartment of Electrical Engineering, National Taiwan University, Taipei 106, Taiwan'\u001b[0m,\n",
       "        \u001b[32m'AU Optronics Corporation, Hsinchu 300, Taiwan'\u001b[0m,\n",
       "        \u001b[32m'Graduate Institute of Electronics Engineering, Graduate Institute of Photonics and Optoelectronics and \u001b[0m\n",
       "\u001b[32mDepartment of Electrical Engineering, National Taiwan University, Taipei 106, Taiwan'\u001b[0m\n",
       "    \u001b[1m]\u001b[0m,\n",
       "    \u001b[33memails\u001b[0m=\u001b[1m{\u001b[0m\u001b[32m'CHUNG-CHI WU'\u001b[0m: \u001b[32m'wucc@ntu.edu.tw'\u001b[0m\u001b[1m}\u001b[0m,\n",
       "    \u001b[33mpaper_publisher\u001b[0m=\u001b[32m'Optical Society of America'\u001b[0m,\n",
       "    \u001b[33mDOI\u001b[0m=\u001b[32m'https://doi.org/10.1364/OE.418105'\u001b[0m,\n",
       "    \u001b[33mJournal\u001b[0m=\u001b[32m'Optics Express'\u001b[0m,\n",
       "    \u001b[33mfirst_authors\u001b[0m=\u001b[1m[\u001b[0m\u001b[32m'KAI-CHEN LIN'\u001b[0m\u001b[1m]\u001b[0m,\n",
       "    \u001b[33mkeywords\u001b[0m=\u001b[1m[\u001b[0m\u001b[32m'UV-blocking'\u001b[0m, \u001b[32m'OLED displays'\u001b[0m, \u001b[32m'distributed Bragg reflector'\u001b[0m, \u001b[32m'UV degradation'\u001b[0m, \u001b[32m'solar test'\u001b[0m\u001b[1m]\u001b[0m,\n",
       "    \u001b[33mcitation_format\u001b[0m=\u001b[32m'N/A'\u001b[0m,\n",
       "    \u001b[33msection_titles\u001b[0m=\u001b[1m[\u001b[0m\n",
       "        \u001b[32m'Introduction'\u001b[0m,\n",
       "        \u001b[32m'Strategies to design the UV-blocking optical structures'\u001b[0m,\n",
       "        \u001b[32m'Fabrication and characterization of UV-blocking structures'\u001b[0m,\n",
       "        \u001b[32m'Solar test and OLED’s characterization'\u001b[0m,\n",
       "        \u001b[32m'Conclusion'\u001b[0m\n",
       "    \u001b[1m]\u001b[0m,\n",
       "    \u001b[33mfigure_captions\u001b[0m=\u001b[1m[\u001b[0m\n",
       "        \u001b[32m'Fig. 1.\u001b[0m\u001b[32m(\u001b[0m\u001b[32ma\u001b[0m\u001b[32m)\u001b[0m\u001b[32m Schematic structure of the typical top-emitting OLED panel. \u001b[0m\u001b[32m(\u001b[0m\u001b[32mb\u001b[0m\u001b[32m)\u001b[0m\u001b[32m Measured transmission spectrum \u001b[0m\n",
       "\u001b[32mof a typical circular polarizer.'\u001b[0m,\n",
       "        \u001b[32m'Fig. 2. Schematic illustration of \u001b[0m\u001b[32m(\u001b[0m\u001b[32ma\u001b[0m\u001b[32m)\u001b[0m\u001b[32m conventional DBR design, \u001b[0m\u001b[32m(\u001b[0m\u001b[32mb\u001b[0m\u001b[32m)\u001b[0m\u001b[32m 1st design of the modified DBR \u001b[0m\n",
       "\u001b[32mstructure, and \u001b[0m\u001b[32m(\u001b[0m\u001b[32mc\u001b[0m\u001b[32m)\u001b[0m\u001b[32m 2nd design of the modified DBR structure. The red curve in each panel represents the schematic \u001b[0m\n",
       "\u001b[32mdistribution of the electric field intensity \u001b[0m\u001b[32m(\u001b[0m\u001b[32mmagnitude\u001b[0m\u001b[32m)\u001b[0m\u001b[32m at the resonant wavelength.'\u001b[0m,\n",
       "        \u001b[32m'Fig. 3.Refractive indexes \u001b[0m\u001b[32m(\u001b[0m\u001b[32m n\u001b[0m\u001b[32m)\u001b[0m\u001b[32m and extinction coefficients \u001b[0m\u001b[32m(\u001b[0m\u001b[32m k\u001b[0m\u001b[32m)\u001b[0m\u001b[32m of \u001b[0m\u001b[32m(\u001b[0m\u001b[32ma\u001b[0m\u001b[32m)\u001b[0m\u001b[32m TiO 2, and \u001b[0m\u001b[32m(\u001b[0m\u001b[32mb\u001b[0m\u001b[32m)\u001b[0m\u001b[32m SiO x. Measured \u001b[0m\n",
       "\u001b[32mtransmittance \u001b[0m\u001b[32m(\u001b[0m\u001b[32mT\u001b[0m\u001b[32m)\u001b[0m\u001b[32m)\u001b[0m\u001b[32m, reflectance \u001b[0m\u001b[32m(\u001b[0m\u001b[32mR\u001b[0m\u001b[32m)\u001b[0m\u001b[32m, and absorptance \u001b[0m\u001b[32m(\u001b[0m\u001b[32mA\u001b[0m\u001b[32m)\u001b[0m\u001b[32m spectra of \u001b[0m\u001b[32m(\u001b[0m\u001b[32mc\u001b[0m\u001b[32m)\u001b[0m\u001b[32m a 30-nm TiO2 film and \u001b[0m\u001b[32m(\u001b[0m\u001b[32md\u001b[0m\u001b[32m)\u001b[0m\u001b[32m a 60-nm SiO x \u001b[0m\n",
       "\u001b[32mfilm deposited on glass substrates.'\u001b[0m,\n",
       "        \u001b[32m'Fig. 4.\u001b[0m\u001b[32m(\u001b[0m\u001b[32ma\u001b[0m\u001b[32m)\u001b[0m\u001b[32m-\u001b[0m\u001b[32m(\u001b[0m\u001b[32mc\u001b[0m\u001b[32m)\u001b[0m\u001b[32mCalculatedtransmittancespectraof6,7,and8-pairDBRs. \u001b[0m\u001b[32m(\u001b[0m\u001b[32md\u001b[0m\u001b[32m)\u001b[0m\u001b[32m-\u001b[0m\u001b[32m(\u001b[0m\u001b[32mf\u001b[0m\u001b[32m)\u001b[0m\u001b[32mCalculated \u001b[0m\n",
       "\u001b[32mreflectancespectraof6,7,8-pairDBRs. \u001b[0m\u001b[32m(\u001b[0m\u001b[32mg-\u001b[0m\u001b[32m)\u001b[0m\u001b[32m-\u001b[0m\u001b[32m(\u001b[0m\u001b[32mi\u001b[0m\u001b[32m)\u001b[0m\u001b[32mCalculatedabsorptancespectraof6,7,8-pair DBRs.'\u001b[0m,\n",
       "        \u001b[32m'Fig. 5. Simulated distributions of total electric field intensities in the 6-pair DBRs for wavelengths of \u001b[0m\n",
       "\u001b[32m300nm, 370nm, and 493nm: \u001b[0m\u001b[32m(\u001b[0m\u001b[32ma\u001b[0m\u001b[32m)\u001b[0m\u001b[32m the conventional DBR structure, \u001b[0m\u001b[32m(\u001b[0m\u001b[32mb\u001b[0m\u001b[32m)\u001b[0m\u001b[32m 2nd modified DBR design.'\u001b[0m,\n",
       "        \u001b[32m'Fig. 6. Calculated \u001b[0m\u001b[32m(\u001b[0m\u001b[32ma\u001b[0m\u001b[32m)\u001b[0m\u001b[32m transmittance spectra, \u001b[0m\u001b[32m(\u001b[0m\u001b[32mb\u001b[0m\u001b[32m)\u001b[0m\u001b[32m reflectance spectra, and \u001b[0m\u001b[32m(\u001b[0m\u001b[32mc\u001b[0m\u001b[32m)\u001b[0m\u001b[32m absorptance spectra for 2nd\u001b[0m\n",
       "\u001b[32mmodified DBR structures with 6 pairs and \u001b[0m\u001b[32mλT\u001b[0m\u001b[32m=\u001b[0m\u001b[32m350nm\u001b[0m\u001b[32m, 360nm, 370nm, 380nm, and 390nm.'\u001b[0m,\n",
       "        \u001b[32m'Fig. 7.Cross-section SEM images of the UV-blocking, 2ndmodified DBRs: \u001b[0m\u001b[32m(\u001b[0m\u001b[32ma\u001b[0m\u001b[32m)\u001b[0m\u001b[32m 6 pairs, and \u001b[0m\u001b[32m(\u001b[0m\u001b[32mb\u001b[0m\u001b[32m)\u001b[0m\u001b[32m 7 pairs.'\u001b[0m,\n",
       "        \u001b[32m'Figure8\u001b[0m\u001b[32m(\u001b[0m\u001b[32ma\u001b[0m\u001b[32m)\u001b[0m\u001b[32mandFig.8\u001b[0m\u001b[32m(\u001b[0m\u001b[32mb\u001b[0m\u001b[32m)\u001b[0m\u001b[32mshowthetransmittancespectraofthefabricated6-and7-pair2nd modified DBR structures, \u001b[0m\n",
       "\u001b[32mrespectively. The high and rather constant transmittance in the visible range and the rather sharp transmittance \u001b[0m\n",
       "\u001b[32mtransition around 420-450nm \u001b[0m\u001b[32m(\u001b[0m\u001b[32mHEV\u001b[0m\u001b[32m)\u001b[0m\u001b[32m are consistent with the simulation and design, confirming the usefulness of the \u001b[0m\n",
       "\u001b[32mDBR design strategy for OLED'\u001b[0m,\n",
       "        \u001b[32m'Fig. 8.Transmittance spectra of the UV-blocking, 2ndmodified DBRs: \u001b[0m\u001b[32m(\u001b[0m\u001b[32ma\u001b[0m\u001b[32m)\u001b[0m\u001b[32m 6 pairs, and \u001b[0m\u001b[32m(\u001b[0m\u001b[32mb\u001b[0m\u001b[32m)\u001b[0m\u001b[32m 7 pair. Insets in \u001b[0m\n",
       "\u001b[32m(\u001b[0m\u001b[32ma\u001b[0m\u001b[32m)\u001b[0m\u001b[32m and \u001b[0m\u001b[32m(\u001b[0m\u001b[32mb\u001b[0m\u001b[32m)\u001b[0m\u001b[32m show photos of the corresponding DBR samples taken under a color image background and the normal \u001b[0m\n",
       "\u001b[32mlighting condition \u001b[0m\u001b[32m(\u001b[0m\u001b[32mtop\u001b[0m\u001b[32m)\u001b[0m\u001b[32m and under a black background and the normal lighting condition \u001b[0m\u001b[32m(\u001b[0m\u001b[32mbottom\u001b[0m\u001b[32m)\u001b[0m\u001b[32m.'\u001b[0m,\n",
       "        \u001b[32m'Fig. 9. Threesolartestingarchitectureswithtop-emittingOLEDs: \u001b[0m\u001b[32m(\u001b[0m\u001b[32ma\u001b[0m\u001b[32m)\u001b[0m\u001b[32m Ahavingnopolarizer and no UV-blocking \u001b[0m\n",
       "\u001b[32mstructure, \u001b[0m\u001b[32m(\u001b[0m\u001b[32mb\u001b[0m\u001b[32m)\u001b[0m\u001b[32m Bhaving polarizer but no UV-blocking structure, and \u001b[0m\u001b[32m(\u001b[0m\u001b[32mc\u001b[0m\u001b[32m)\u001b[0m\u001b[32m Chaving both polarizer and UV-blocking \u001b[0m\n",
       "\u001b[32mstructure on the cover lens.'\u001b[0m,\n",
       "        \u001b[32m'Fig. 10. Voltage shifts \u001b[0m\u001b[32m(\u001b[0m\u001b[32m ∆V\u001b[0m\u001b[32m)\u001b[0m\u001b[32m of OLEDs vs. solar test cycles under the current density of 10mA/cm2: for \u001b[0m\n",
       "\u001b[32mvarious test architectures and UV-blocking structures.'\u001b[0m\n",
       "    \u001b[1m]\u001b[0m,\n",
       "    \u001b[33mtable_captions\u001b[0m=\u001b[1m[\u001b[0m\u001b[32m'Table 1. Spectral energy distribution of IEC 60068-2-5.'\u001b[0m\u001b[1m]\u001b[0m,\n",
       "    \u001b[33mread_next_page\u001b[0m=\u001b[32m'True'\u001b[0m\n",
       "\u001b[1m)\u001b[0m\n"
      ]
     },
     "metadata": {},
     "output_type": "display_data"
    }
   ],
   "source": [
    "pprint( metadata )"
   ]
  },
  {
   "cell_type": "code",
   "execution_count": null,
   "metadata": {},
   "outputs": [],
   "source": []
  },
  {
   "cell_type": "code",
   "execution_count": null,
   "metadata": {},
   "outputs": [],
   "source": []
  },
  {
   "cell_type": "code",
   "execution_count": null,
   "metadata": {},
   "outputs": [],
   "source": []
  },
  {
   "cell_type": "code",
   "execution_count": null,
   "metadata": {},
   "outputs": [],
   "source": []
  }
 ],
 "metadata": {
  "kernelspec": {
   "display_name": "OLED_RAG",
   "language": "python",
   "name": "python3"
  },
  "language_info": {
   "codemirror_mode": {
    "name": "ipython",
    "version": 3
   },
   "file_extension": ".py",
   "mimetype": "text/x-python",
   "name": "python",
   "nbconvert_exporter": "python",
   "pygments_lexer": "ipython3",
   "version": "3.12.1"
  }
 },
 "nbformat": 4,
 "nbformat_minor": 2
}
