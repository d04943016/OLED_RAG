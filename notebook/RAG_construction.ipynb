{
 "cells": [
  {
   "cell_type": "markdown",
   "metadata": {},
   "source": [
    "# Environment"
   ]
  },
  {
   "cell_type": "code",
   "execution_count": 1,
   "metadata": {},
   "outputs": [],
   "source": [
    "# !pip install langchain langchain_openai rich\n",
    "# !pip install pypdf chromadb rapidocr-onnxruntime"
   ]
  },
  {
   "cell_type": "markdown",
   "metadata": {},
   "source": [
    "# Import"
   ]
  },
  {
   "cell_type": "code",
   "execution_count": 11,
   "metadata": {},
   "outputs": [],
   "source": [
    "# 匯入套件和金鑰\n",
    "import os\n",
    "from rich import print as pprint\n",
    "from langchain_openai import ChatOpenAI\n",
    "\n",
    "from dotenv import load_dotenv\n",
    "load_dotenv()\n",
    "\n",
    "from langchain_community.document_loaders import PyPDFLoader\n",
    "from langchain.indexes import VectorstoreIndexCreator\n",
    "from langchain_openai import OpenAIEmbeddings\n",
    "from langchain_community.vectorstores import Chroma\n",
    "\n",
    "from langchain_core.output_parsers import StrOutputParser\n",
    "from langchain_core.prompts import ChatPromptTemplate\n",
    "from langchain_core.runnables import RunnablePassthrough"
   ]
  },
  {
   "cell_type": "code",
   "execution_count": 3,
   "metadata": {},
   "outputs": [],
   "source": [
    "# load LLM model\n",
    "chat_model = ChatOpenAI(model_name=\"gpt-3.5-turbo\", api_key=os.getenv(\"OPENAI_API_KEY\"))"
   ]
  },
  {
   "cell_type": "code",
   "execution_count": 4,
   "metadata": {},
   "outputs": [
    {
     "data": {
      "text/html": [
       "<pre style=\"white-space:pre;overflow-x:auto;line-height:normal;font-family:Menlo,'DejaVu Sans Mono',consolas,'Courier New',monospace\">The PDF file has <span style=\"color: #008080; text-decoration-color: #008080; font-weight: bold\">12</span> pages\n",
       "</pre>\n"
      ],
      "text/plain": [
       "The PDF file has \u001b[1;36m12\u001b[0m pages\n"
      ]
     },
     "metadata": {},
     "output_type": "display_data"
    }
   ],
   "source": [
    "# load PDF file\n",
    "pdf_filepath = '/Users/weikai/Library/CloudStorage/Dropbox/paper/CCWu'\n",
    "pdf_filename = 'CCWu 2021 Modified distributed Bragg reflector for protecting organic light-emitting diode displays against ultraviolet light.pdf'\n",
    "\n",
    "loader = PyPDFLoader(file_path=os.path.join(pdf_filepath, pdf_filename))\n",
    "docs = loader.load()\n",
    "pprint(f'The PDF file has {len(docs)} pages')\n",
    "\n",
    "# pprint(docs[0])"
   ]
  },
  {
   "cell_type": "code",
   "execution_count": 5,
   "metadata": {},
   "outputs": [
    {
     "name": "stderr",
     "output_type": "stream",
     "text": [
      "/Users/weikai/opt/anaconda3/envs/OLED_RAG/lib/python3.12/site-packages/langchain/indexes/vectorstore.py:129: UserWarning: Using InMemoryVectorStore as the default vectorstore.This memory store won't persist data. You should explicitlyspecify a vectorstore when using VectorstoreIndexCreator\n",
      "  warnings.warn(\n"
     ]
    }
   ],
   "source": [
    "# load embeddings model\n",
    "embeddings_model=OpenAIEmbeddings(model='text-embedding-3-large')\n",
    "index = VectorstoreIndexCreator(embedding=embeddings_model).from_loaders([loader])"
   ]
  },
  {
   "cell_type": "code",
   "execution_count": 6,
   "metadata": {},
   "outputs": [
    {
     "data": {
      "text/html": [
       "<pre style=\"white-space:pre;overflow-x:auto;line-height:normal;font-family:Menlo,'DejaVu Sans Mono',consolas,'Courier New',monospace\">The key idea of this paper is to design a UV-<span style=\"color: #800080; text-decoration-color: #800080\">/</span><span style=\"color: #ff00ff; text-decoration-color: #ff00ff\">HEV-blocking</span> structure using a combination of UV absorption materials\n",
       "and optical structures to achieve effective UV/HEV blocking, high visible transmission, and a sharp spectral \n",
       "transition between UV/HEV blocking and transmissive regions. The goal is to protect OLED panels from solar \n",
       "degradation by reducing the detrimental effects of sunlight irradiation. The study explores the effectiveness of \n",
       "different architectures, including the use of UV-blocking DBRs, to provide this protection.\n",
       "</pre>\n"
      ],
      "text/plain": [
       "The key idea of this paper is to design a UV-\u001b[35m/\u001b[0m\u001b[95mHEV-blocking\u001b[0m structure using a combination of UV absorption materials\n",
       "and optical structures to achieve effective UV/HEV blocking, high visible transmission, and a sharp spectral \n",
       "transition between UV/HEV blocking and transmissive regions. The goal is to protect OLED panels from solar \n",
       "degradation by reducing the detrimental effects of sunlight irradiation. The study explores the effectiveness of \n",
       "different architectures, including the use of UV-blocking DBRs, to provide this protection.\n"
      ]
     },
     "metadata": {},
     "output_type": "display_data"
    }
   ],
   "source": [
    "query = \"What is the key idea of this paper?\"\n",
    "response = index.query(llm=chat_model, question=query)\n",
    "pprint(response)"
   ]
  },
  {
   "cell_type": "code",
   "execution_count": 8,
   "metadata": {},
   "outputs": [
    {
     "data": {
      "text/plain": [
       "<langchain_community.vectorstores.chroma.Chroma at 0x11afeb0b0>"
      ]
     },
     "execution_count": 8,
     "metadata": {},
     "output_type": "execute_result"
    }
   ],
   "source": [
    "Chroma.from_documents(documents=docs,\n",
    "                      embedding=embeddings_model,\n",
    "                      persist_directory='./chromadb',\n",
    "                      collection_metadata={\"hnsw:space\": \"cosine\"})"
   ]
  },
  {
   "cell_type": "code",
   "execution_count": 13,
   "metadata": {},
   "outputs": [],
   "source": [
    "db = Chroma(persist_directory='./chromadb', \n",
    "            embedding_function=embeddings_model)"
   ]
  },
  {
   "cell_type": "code",
   "execution_count": 14,
   "metadata": {},
   "outputs": [
    {
     "name": "stdout",
     "output_type": "stream",
     "text": [
      "傳回 2 筆資料\n"
     ]
    }
   ],
   "source": [
    "retriever = db.as_retriever(search_type=\"similarity\",\n",
    "                            search_kwargs={\"k\": 2})\n",
    "\n",
    "retrieved_docs = retriever.invoke(\"紅燈右轉\")\n",
    "print(f'傳回 {len(retrieved_docs)} 筆資料')"
   ]
  },
  {
   "cell_type": "code",
   "execution_count": 15,
   "metadata": {},
   "outputs": [],
   "source": [
    "str_parser = StrOutputParser()\n",
    "template = (\n",
    "    \"請根據以下內容加上自身判斷回答問題:\\n\"\n",
    "    \"{context}\\n\"\n",
    "    \"問題: {question}\"\n",
    "    )\n",
    "prompt = ChatPromptTemplate.from_template(template)\n",
    "chain = (\n",
    "    {\"context\": retriever, \"question\": RunnablePassthrough()}\n",
    "    | prompt\n",
    "    | chat_model\n",
    "    | str_parser\n",
    ")"
   ]
  },
  {
   "cell_type": "code",
   "execution_count": 17,
   "metadata": {},
   "outputs": [
    {
     "data": {
      "text/html": [
       "<pre style=\"white-space:pre;overflow-x:auto;line-height:normal;font-family:Menlo,'DejaVu Sans Mono',consolas,'Courier New',monospace\">這篇論文的主要想法是開發了一種修改後的分佈式布拉格反射器（DBR）結構，由吸收紫外線和介電材料組成，用於保護有機發光二\n",
       "極管（OLED）面板免受紫外線/HEV輻射和降解的影響，從而加強它們在戶外應用的能力。通過調節DBR對中高折射率/低折射率層的\n",
       "厚度，設計和製造了6對和7對具有幾個顯著優點的UV阻擋結構，例如在整個光譜範圍內高達91％的恒定高透射率，深藍/近紫外區域\n",
       "透射率的急劇下降，以及對UV/HEV光的有效保護，使其適合於將其融入OLED顯示面板，對顯示色彩和效率幾乎沒有影響。\n",
       "</pre>\n"
      ],
      "text/plain": [
       "這篇論文的主要想法是開發了一種修改後的分佈式布拉格反射器（DBR）結構，由吸收紫外線和介電材料組成，用於保護有機發光二\n",
       "極管（OLED）面板免受紫外線/HEV輻射和降解的影響，從而加強它們在戶外應用的能力。通過調節DBR對中高折射率/低折射率層的\n",
       "厚度，設計和製造了6對和7對具有幾個顯著優點的UV阻擋結構，例如在整個光譜範圍內高達91％的恒定高透射率，深藍/近紫外區域\n",
       "透射率的急劇下降，以及對UV/HEV光的有效保護，使其適合於將其融入OLED顯示面板，對顯示色彩和效率幾乎沒有影響。\n"
      ]
     },
     "metadata": {},
     "output_type": "display_data"
    }
   ],
   "source": [
    "pprint(chain.invoke(\"What is the key idea of this paper?\"))"
   ]
  },
  {
   "cell_type": "code",
   "execution_count": 18,
   "metadata": {},
   "outputs": [],
   "source": [
    "rag_chain_from_docs = (\n",
    "    prompt\n",
    "    | chat_model\n",
    "    | StrOutputParser()\n",
    ")"
   ]
  },
  {
   "cell_type": "code",
   "execution_count": 20,
   "metadata": {},
   "outputs": [],
   "source": [
    "from langchain_core.runnables import RunnableParallel\n",
    "\n",
    "rag_chain_with_source = RunnableParallel(\n",
    "    {\"context\": retriever, \"question\": RunnablePassthrough()}\n",
    ").assign(answer=rag_chain_from_docs)"
   ]
  },
  {
   "cell_type": "code",
   "execution_count": 24,
   "metadata": {},
   "outputs": [
    {
     "name": "stdout",
     "output_type": "stream",
     "text": [
      "\n",
      "\n",
      "question: What is the key idea of this paper?"
     ]
    },
    {
     "name": "stdout",
     "output_type": "stream",
     "text": [
      "\n",
      "\n",
      "context: [Document(page_content='Research Article Vol. 29, No. 5 / 1 March 2021 / Optics Express 7660\\nis the peak wavelength of the first ripple in the conventional DBR (Fig. 4(a)), the peak-to-valley\\nmodulation of the total electric field in the conventional DBR (Fig. 5(a)) is larger than that in the\\n2ndmodified DBR (Fig. 5(b)). Since the total field is composed of waves propagating toward +z\\nand-z,largerpeak-to-valleymodulationindicatesthatmoresimilarintensitiesbetween +zand-z\\npropagatingwaves(strongercollectivereflection). Meanwhile,thelowpeak-to-valleymodulation\\ninthe2ndmodifiedDBRshowsthatadjustingthelayerthicknessesinthefirstpairandthelast\\npair can effectively suppressing the intensity of the -z propagating (reflecting) wave and thus\\nsubstantially enhance the overall transmittance.\\nFig. 5.Simulated distributions of total electric field intensities in the 6-pair DBRs for\\nwavelengthsof300nm,370nm,and493nm: (a)theconventionalDBRstructure,(b)2nd\\nmodified DBR design.\\nFollowingthe2ndmodifiedDBRdesignstrategy,Fig.6showscalculatedT-R-Aspectrafor\\n6-pair 2ndmodified DBR structures with varied λTof 350nm to 390nm (while more detailed\\nproperties are summarized in Table S2 of Supplement 1). It is seen that boundaries/edges of\\ntheir transmittance and reflection spectra can be readily blue-shifted with reducing the target\\nresonant wavelength λT(simply by adjusting the layer thicknesses), if desired (e.g., when deeper\\nblue OLED pixels is desired and adopted and thus a different balance between blue EL and UV\\nblockingisrequired). This(easyandprecisetuningofthetransitionwavelengthandsharpness\\nofthetransmittancespectrum)perhapsisaparticularadvantageandconvenienceofusingthe\\nDBRstructureforUVblocking,comparedtootherapproaches(e.g.,simplyusingabsorption\\nproperties of materials). From these results, it is also clear that for a blue OLED pixel with\\nELpeakingaround460nm, λTof370nmgivesareasonablebalancebetweenblueELandUV\\nblocking.\\nFig. 6.Calculated (a) transmittance spectra, (b) reflectance spectra, and (c) absorptance\\nspectra for 2ndmodified DBR structures with 6 pairs and λT=350nm, 360nm, 370nm,\\n380nm, and 390nm.\\nIt is also worthy of stressing other advantages of the current modified DBR design compared\\nto conventional DBR designs. Although DBR is a common technology, it is still generally', metadata={'page': 6, 'source': '/Users/weikai/Library/CloudStorage/Dropbox/paper/CCWu/CCWu 2021 Modified distributed Bragg reflector for protecting organic light-emitting diode displays against ultraviolet light.pdf'}), Document(page_content='Research Article Vol. 29, No. 5 / 1 March 2021 / Optics Express 7664\\n(architecture A)sufferlargevoltageshift( ∆V=2.62Vafter25testcycles),clearlymanifesting\\ndetrimentaleffectofsunlightirradiationonOLEDs. Thepolarizerinarchitecture B(conventional\\nOLEDpanelstructure)providespartialUVprotectionandthusreduces ∆V(∆V=1.3∼1.5Vafter\\n25 cycles). Finally, combining the polarizer and UV-blocking DBR (architecture C) provides\\nfurther protection of OLED panels against solar degradation, and ∆V after 25 test cycles is\\nfurtherreduceddownto ∆V∼0.8V,confirmingeffectivenessofthedesignedUV-blockingDBRs\\nherein. Itisalsonoticedthatboth6-pairand7-pairUV-blockingDBRsstructuresprovidesimilar\\nprotection against UV/HEV light. Table S4 in Supplement 1 further provides a summary of\\nthe luminanceof theOLED device undera sameoperation voltage (4V) before andafter being\\nsubjectedtothesolartestarchitectures A,B,and C(with6-pair2ndmodifiedDBRstructure),\\nagain confirming effectiveness of the designed UV-blocking DBR structures.\\n5. Conclusion\\nIn summary, we developed modified DBR structures composed of UV-absorbing and dielectric\\nmaterials for protecting OLED panels against UV/HEV irradiation and degradation, thus\\nstrengtheningtheiroutdoorapplications. Bytuningthicknessesofhigh-index/low-indexlayers\\nin the DBR pairs, we designed and fabricated 6-pair and 7-pair UV-blocking structures with\\nseveral significant merits, such as nearly constant high transmittance of up to 91% over the\\nwhole spectral range, very sharp drop of transmittance around the deep-blue/near-UV region,\\nand effective protection against UV/HEV light, making them suitable for incorporation into\\nOLED display panels with minimal impacts on display colors and efficiencies, etc. Furthermore,\\nwe also studied the total electric fields in the modified DBR structure. The simulation results\\nreveal that in the modified UV-blocking DBR structure, the reflection at visible wavelengths can\\nbe effectively suppressed by adjusting the thicknesses of the first and the last pair in the DBR\\nstructure. SuchUV/HEV-blockingstructureswithhighandflattransmittanceinthevisiblerange\\nare applicable not only in displays but maybe also in the other areas requiring high-performance\\noptical thin-film coating. Finally, solar test experiments of OLED panels verified usefulness\\nof developed UV-blocking DBRs for reducing UV/HEV/solar-induced degradation and voltage\\nshifts in OLED devices.\\nFunding. AU Optronics.\\nDisclosures. The authors declare that there are no conflicts of interest related to this article.\\nSupplemental document. See Supplement 1 for supporting content.\\nReferences\\n1.Y. Zhang, M. M. A. Abdelmalek, Q. Wang, and H. Aziz, “Degradation mechanism in simplified phosphorescent\\norganiclight-emittingdevicesutilizingonematerialforholetransportandemitterhost,”Appl.Phys.Lett. 103(6),\\n063307 (2013).\\n2.H.J.O.Colditz,R.Kurt,andM.Büchel,“Photodegradationandwavelengthdependencyofbluepolymerlight-emitting\\ndiode devices,” Appl. Phys. Lett. 87(25), 253505 (2005).\\n3.K.Thangaraju,J.Kumar,P.Amaladass,A.K.Mohanakrishnan,andV.Narayanan,“Studyonphotoluminescence\\nfrom tris-(8-hydroxyquinoline) aluminum thin films and influence of light,” Appl. Phys. Lett. 89(8), 082106 (2006).\\n4.R.Seifert,S.Scholz,B.Lüssem,andK.Leo,“Comparisonofultraviolet-andchargeinduceddegradationphenomena\\nin blue fluorescent organic light emitting diodes,” Appl. Phys. Lett. 97(1), 013308 (2010).\\n5.Q. Wang, G.Williams, T. Tsui, andH. Aziz,“Photochemical deteriorationof the organic/metalcontacts inorganic\\noptoelectronic devices,” J. Appl. Phys. 112(6), 064502 (2012).\\n6.S. Scholz, K. Walzer, and K. Leo, “Analysis of Complete Organic Semiconductor Devices by Laser Desorp-\\ntion/Ionization Time-of-Flight Mass Spectrometry,” Adv. Funct. Mater. 18(17), 2541–2547 (2008).\\n7.F.P.Rosselli,W.G.Quirino,C.Legnani,V.L.Calil,K.C.Teixeira,A.A.Leitão,R.B.Capaz,M.Cremona,and\\nC.A.Achete,“Experimentalandtheoreticalinvestigationoftris-(8-hydroxy-quinolinate)aluminum(Alq 3)photo\\ndegradation,” Org. Electron. 10(8), 1417–1423 (2009).\\n8.Q.Wang,Y.Luo,andH.Aziz,“Photodegradationoftheorganic/metalcathodeinterfaceinorganiclight-emitting\\ndevices,” Appl. Phys. Lett. 97(6), 063309 (2010).', metadata={'page': 10, 'source': '/Users/weikai/Library/CloudStorage/Dropbox/paper/CCWu/CCWu 2021 Modified distributed Bragg reflector for protecting organic light-emitting diode displays against ultraviolet light.pdf'})]\n",
      "\n",
      "answer: 這篇論文的主要想法是開發了修改後的分佈布拉格反射器（DBR）結構，由吸收紫外線和介電質材料組成，用於保護有機發光二極管（OLED）面板免受紫外線/HEV照射和降解，以加強其戶外應用。通過調整DBR對中高折射率/低折射率層的厚度，設計和製造了6對和7對UV阻擋結構，具有幾個顯著的優點，如在整個光譜範圍內高達91%的近乎恆定高透射率，深藍/近紫外區域透射率急劇下降，以及有效保護免受UV/HEV光照的影響。"
     ]
    }
   ],
   "source": [
    "def chat(query):\n",
    "    output = {}\n",
    "    curr_key = None\n",
    "    for chunk in rag_chain_with_source.stream(query):\n",
    "        for key in chunk:\n",
    "            if key not in output:\n",
    "                output[key] = chunk[key]\n",
    "            else:\n",
    "                output[key] += chunk[key]\n",
    "            if key != curr_key:\n",
    "                print(f\"\\n\\n{key}: {chunk[key]}\", end=\"\", flush=True)\n",
    "            else:\n",
    "                print(chunk[key], end=\"\", flush=True)\n",
    "            curr_key = key\n",
    "chat(\"What is the key idea of this paper?\")"
   ]
  },
  {
   "cell_type": "code",
   "execution_count": null,
   "metadata": {},
   "outputs": [],
   "source": []
  }
 ],
 "metadata": {
  "kernelspec": {
   "display_name": "OLED_RAG",
   "language": "python",
   "name": "python3"
  },
  "language_info": {
   "codemirror_mode": {
    "name": "ipython",
    "version": 3
   },
   "file_extension": ".py",
   "mimetype": "text/x-python",
   "name": "python",
   "nbconvert_exporter": "python",
   "pygments_lexer": "ipython3",
   "version": "3.12.1"
  }
 },
 "nbformat": 4,
 "nbformat_minor": 2
}
