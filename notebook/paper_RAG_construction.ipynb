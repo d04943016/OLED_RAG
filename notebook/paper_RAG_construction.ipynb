{
 "cells": [
  {
   "cell_type": "code",
   "execution_count": 1,
   "metadata": {},
   "outputs": [],
   "source": [
    "# 匯入套件和金鑰\n",
    "import os, sys\n",
    "from tqdm import tqdm\n",
    "import faiss\n",
    "\n",
    "from dotenv import load_dotenv\n",
    "load_dotenv()\n",
    "\n",
    "from rich import print as pprint\n",
    "from langchain.text_splitter import RecursiveCharacterTextSplitter\n",
    "from langchain_openai import OpenAIEmbeddings\n",
    "\n",
    "sys.path.append( os.path.join('..') )\n",
    "from src.paper_extractor import vector_based_RAG"
   ]
  },
  {
   "cell_type": "markdown",
   "metadata": {},
   "source": [
    "# Get embedding model"
   ]
  },
  {
   "cell_type": "code",
   "execution_count": 2,
   "metadata": {},
   "outputs": [],
   "source": [
    "# load embeddings model\n",
    "embeddings_model=OpenAIEmbeddings(model='text-embedding-3-large')"
   ]
  },
  {
   "cell_type": "markdown",
   "metadata": {},
   "source": [
    "# Get database"
   ]
  },
  {
   "cell_type": "code",
   "execution_count": 3,
   "metadata": {},
   "outputs": [
    {
     "name": "stdout",
     "output_type": "stream",
     "text": [
      "Database connected: ./database/vector_db/metadata\n",
      "Is database exists    :  True\n",
      "Is database connected :  True\n",
      "Data number           :  1986\n",
      "Data max id           :  1986\n",
      "check datanumber      :  True\n"
     ]
    }
   ],
   "source": [
    "database_path = './database/vector_db/'\n",
    "database_name = 'metadata'\n",
    "dimension = vector_based_RAG.DEFAULT_EMBEDDIMG_DIMENSION\n",
    "text_splitter = RecursiveCharacterTextSplitter(chunk_size = vector_based_RAG.DEFAULT_CHUNK_SIZE, chunk_overlap = vector_based_RAG.DEFAULT_CHUNK_OVERLAP)\n",
    "\n",
    "vector_db = vector_based_RAG.MyVectorDatabaseWithEmbeddedModel(\n",
    "        embeddings_model = embeddings_model,\n",
    "        text_splitter = text_splitter,\n",
    "        database_path = database_path,\n",
    "        database_name = database_name,\n",
    "        dimension = dimension,\n",
    "        verbose = True,\n",
    ")\n",
    "vector_db.connect();\n",
    "\n",
    "print(f'Is database exists    : ', vector_db.is_database_exist() )\n",
    "print(f'Is database connected : ', vector_db.is_connected())\n",
    "print(f'Data number           : ', len(vector_db))\n",
    "print(f'Data max id           : ', vector_db._get_max_id())\n",
    "print(f'check datanumber      : ', vector_db.check_datanumber_in_database())"
   ]
  },
  {
   "cell_type": "markdown",
   "metadata": {},
   "source": [
    "# Insert 1 file"
   ]
  },
  {
   "cell_type": "code",
   "execution_count": 4,
   "metadata": {},
   "outputs": [],
   "source": [
    "# load PDF file\n",
    "pdf_filepath = '/Users/weikai/Library/CloudStorage/Dropbox/paper/CCWu'\n",
    "pdf_filename = 'CCWu 2021 Modified distributed Bragg reflector for protecting organic light-emitting diode displays against ultraviolet light.pdf'\n",
    "pdf_filename = 'CCWu 2022 Analyses of emission efficiencies of white organic light-emitting diodes having multiple emitters in single emitting layer.pdf'\n",
    "# pdf_filename = 'CCWu 2019 Three‐dimensional pixel configurations for optical outcoupling of OLED displays-optical simulation.pdf'\n",
    "# pdf_filename = 'CCWu 2013 Analyzing nanostructures in mesogenic host–guest systems for polarized phosphorescence.pdf'\n",
    "# pdf_filename = 'CCWu 2022 Analyses of emission efficiencies of white organic light-emitting diodes having multiple emitters in single emitting layer.pdf'"
   ]
  },
  {
   "cell_type": "code",
   "execution_count": 5,
   "metadata": {},
   "outputs": [
    {
     "name": "stderr",
     "output_type": "stream",
     "text": [
      "0it [00:00, ?it/s]\n"
     ]
    }
   ],
   "source": [
    "vector_db.insert_pdf_file(pdf_filepath, pdf_filename, progress = True, force = False);"
   ]
  },
  {
   "cell_type": "markdown",
   "metadata": {},
   "source": [
    "# Insert Multiple File into database"
   ]
  },
  {
   "cell_type": "code",
   "execution_count": 6,
   "metadata": {},
   "outputs": [],
   "source": [
    "# pdf_filepath = '/Users/weikai/Library/CloudStorage/Dropbox/paper/CCWu'\n",
    "# pdf_filenames = [ fname for fname in os.listdir(pdf_filepath) if fname.endswith('.pdf') and not vector_db.is_pdf_file_in_database(pdf_filepath = pdf_filepath, pdf_filename = fname) ]\n",
    "\n",
    "# for pdf_filename in tqdm( pdf_filenames ):\n",
    "#     vector_db.insert_pdf_file(pdf_filepath, pdf_filename, progress = False, force = False);\n",
    "        "
   ]
  },
  {
   "cell_type": "code",
   "execution_count": 7,
   "metadata": {},
   "outputs": [
    {
     "name": "stdout",
     "output_type": "stream",
     "text": [
      "Is database exists    :  True\n",
      "Is database connected :  True\n",
      "Data number           :  1986\n",
      "Data max id           :  1986\n",
      "check datanumber      :  True\n"
     ]
    }
   ],
   "source": [
    "print(f'Is database exists    : ', vector_db.is_database_exist() )\n",
    "print(f'Is database connected : ', vector_db.is_connected())\n",
    "print(f'Data number           : ', len(vector_db))\n",
    "print(f'Data max id           : ', vector_db._get_max_id())\n",
    "print(f'check datanumber      : ', vector_db.check_datanumber_in_database())\n",
    "# vector_db._get_datanumber_in_faiss_index(), vector_db._get_datanumber_in_sqlite3()"
   ]
  },
  {
   "cell_type": "code",
   "execution_count": 14,
   "metadata": {},
   "outputs": [
    {
     "data": {
      "text/plain": [
       "(array([0.8926856 , 0.9222262 , 0.97053367, 0.9805174 , 0.9968083 ],\n",
       "       dtype=float32),\n",
       " array([1908, 1915, 1919, 1914,   87]))"
      ]
     },
     "execution_count": 14,
     "metadata": {},
     "output_type": "execute_result"
    }
   ],
   "source": [
    "ans, D, I = vector_db.query('what is SpiroAC-TRZ', k = 5, get_distance_and_index=True, format = 'page')\n",
    "D, I"
   ]
  },
  {
   "cell_type": "code",
   "execution_count": 16,
   "metadata": {},
   "outputs": [
    {
     "name": "stdout",
     "output_type": "stream",
     "text": [
      "[Paper] /Users/weikai/Library/CloudStorage/Dropbox/paper/CCWu/CCWu 2016 Sky-Blue Organic Light Emitting Diode with 37% External Quantum Efﬁciency Using Thermally Activated Delayed Fluorescence from Spiroacridine-Triazine Hybrid SI.pdf\n",
      "Page: 2\n",
      "    \n",
      "  \n",
      "S-2 \n",
      " DPAC -TRZ : The crude residue thus obtained was washed several times with 5:95 (v/v) \n",
      "dichloromethane -hexane mixture (until TLC indicated complete removal of the unreacted \n",
      "starting materials) and subjected to gradient vacuum sublimation (two times)  to obtain the \n",
      "analytically pure material as a light yellow powder. This compound is relatively less soluble \n",
      "in common organic solvents which causes several order of yield loss if subjected to \n",
      "purification through column chromatography. Yield: 55 -60 %. 1H NMR (CDCl 3, 400 M Hz) δ \n",
      "(ppm): 8.93 (d, J = 8.4 Hz, 2H), 8.80 (dd, J = 8.0 Hz, 4H), 7.64 -7.57 (m, 6H), 7.31 -7.27 (m, \n",
      "8H), 7.10 -7.02 (m, 6H), 6.94 -6.91 (m, 4H), 6.53 (d, J = 8.0 Hz, 2H). 13C NMR was not \n",
      "possible because of low solubility . HRMS (ESI, m/z) calcd. for C 46H33N4 (M+H)+: 641.2705. \n",
      "Found: 641.2695.  \n",
      " \n",
      "SpiroAC -TRZ : The crude thus obtained was purified through column chromatography over \n",
      "silica using a gradient polarity up to 50:50 (v/v) dichloromethane -hexane mixture, re -\n",
      "precipitated twi ce from dichloromethane -hexane mixture (1:10 v/v) and further through \n",
      "vacuum sublimation to yield the desired materials as a light yellow solid. Yield: 55 -60 %. 1H \n",
      "NMR (CDCl 3, 400 MHz) δ (ppm): 9.12 (d, J = 8.4 Hz, 2H), 8.85 (dd, J = 7.8 Hz, 4H), 7.82 \n",
      "(d, J = 7.2 Hz, 2H), 7.74 (d, J = 8.4 Hz, 2H), 7.67 -7.60 (m, 6H), 7.48 (d, J = 7.6 Hz, 2H), \n",
      "7.42-7.38 (m, 2H), 7.31 -7.27 (m, 2H), 6.97 -6.93 (m, 2H), 6.63 -6.59 (m, 2H), 6.48 -6.44 (m, \n",
      "4H). 13C NMR (CDCl 3, 100 MHz) δ (ppm): 171.9 (C), 171.1 (C), 156.5 (C), 145.1 (C), 141.0 \n",
      "(C), 139.2 (C), 136.5 (C), 136.1 (C), 132.7 (CH), 131.8 (CH), 131.6 (CH), 129.1 (CH), 128.7 \n",
      "(CH), 128.4 (CH), 127.9 (CH), 127.6 (CH), 127.3 (CH), 125.8 (C), 124.9 (CH), 120.8 (CH), \n",
      "119.9 (CH), 114.6 (CH), 56.8 (C). HRMS (ESI, m/z) calcd. for C 46H31N4 (M+H)+: 639.2549. \n",
      "Found: 639.2540.  \n",
      " \n",
      "\n",
      "\n",
      "[Paper] /Users/weikai/Library/CloudStorage/Dropbox/paper/CCWu/CCWu 2016 Sky-Blue Organic Light Emitting Diode with 37% External Quantum Efﬁciency Using Thermally Activated Delayed Fluorescence from Spiroacridine-Triazine Hybrid SI.pdf\n",
      "Page: 9\n",
      "    \n",
      "  \n",
      "S-9 \n",
      "  \n",
      " \n",
      " \n",
      " \n",
      " \n",
      "Figure S 4. DSC  traces  of (a) SpiroAC -TRZ , (b) DPAC -TRZ , and (c) DMAC -TRZ . \n",
      " \n",
      "\n",
      "\n",
      "[Paper] /Users/weikai/Library/CloudStorage/Dropbox/paper/CCWu/CCWu 2016 Sky-Blue Organic Light Emitting Diode with 37% External Quantum Efﬁciency Using Thermally Activated Delayed Fluorescence from Spiroacridine-Triazine Hybrid SI.pdf\n",
      "Page: 12\n",
      "    \n",
      "  \n",
      "S-12 \n",
      "  \n",
      " \n",
      " \n",
      " \n",
      " \n",
      " \n",
      " \n",
      " \n",
      " \n",
      " \n",
      " \n",
      " \n",
      "Figure  S6. Steady -state PL (fluorescence) spectra of SpiroAC -TRZ , DPAC -TRZ , and \n",
      "DMAC -TRZ in the toluene solution at a concentration of 10-5 M. \n",
      " \n",
      "\n",
      "\n",
      "[Paper] /Users/weikai/Library/CloudStorage/Dropbox/paper/CCWu/CCWu 2016 Sky-Blue Organic Light Emitting Diode with 37% External Quantum Efﬁciency Using Thermally Activated Delayed Fluorescence from Spiroacridine-Triazine Hybrid SI.pdf\n",
      "Page: 8\n",
      "    \n",
      "  \n",
      "S-8 \n",
      " Thermal Properties : Differential scanning calorimetry (DSC) analyses were performed on a \n",
      "TA Instrument DSC -2920 Low -Temperature Difference Scanning Calorimeter at a heatin g \n",
      "rate of 10 oC min-1 from 25 to 380 oC under nitrogen. For the first run, the sample was heated \n",
      "to the temperature higher than it s melting point to give an isotropic liquid sample. The s ample \n",
      "was then quenched with liquid nitrogen before the second -run an alysis. Thermogravimetric \n",
      "analysis (TGA) was undertaken with a TGA Q500 instrument. The thermal stability of the \n",
      "samples under a nitrogen atmosphere was determined by measuring their 5% weight loss \n",
      "while heating at a rate of 10 oC min-1 from 25 to 600 oC. \n",
      " \n",
      "Figure S 3. TGA data of (a) SpiroAC -TRZ , (b) DPAC -TRZ , and (c) DMAC -TRZ . \n",
      "\n",
      "\n",
      "[Paper] /Users/weikai/Library/CloudStorage/Dropbox/paper/CCWu/CCWu 2016 Sky-Blue Organic Light Emitting Diode with 37% External Quantum Efﬁciency Using Thermally Activated Delayed Fluorescence from Spiroacridine-Triazine Hybrid.pdf\n",
      "Page: 3\n",
      "6979\n",
      " wileyonlinelibrary.com © 2016 WILEY-VCH Verlag GmbH & Co. KGaA, WeinheimCOMMUNICATION\n",
      "to 334 °C of  DMAC-TRZ  . Meanwhile, signiﬁ  cantly higher \n",
      "glass transition temperatures of 155 and 136 °C (vs 90 °C of \n",
      " DMAC-TRZ  ) are observed for  SpiroAC-TRZ   and  DPAC-TRZ  , \n",
      "respectively. Cyclic voltammetry of  SpiroAC-TRZ   and \n",
      " DPAC-TRZ   (see Figure S2 in the Supporting Information for \n",
      "details) reveals both quasi-reversible oxidation and reduction, similar to  DMAC-TRZ  , and indicates their promising bipolar \n",
      "electrochemical characteristics. Oxidation/reduction poten-tials of all three compounds and HOMO/LUMO levels derived therein are summarized in Table  1 . The introduction of diaryl substitution leads to slightly higher oxidation potentials and thus slightly deeper HOMO levels (while keeping reduction potentials and LUMO levels more or less intact), enlarging the energy gap. This result clearly indicates the weaker electron-donating behavior of diaryl-substituted acridine as compared to that of dimethyl-substituted counterpart. \n",
      " Emitting dipole orinetations of these compounds (12 wt% in \n",
      "the mCPCN host) were characterized by the angle- and polari-zation-resolved photoluminescence (see the Supporting Infor-mation for details). \n",
      "[ 4,6,8,16,17 ]  Measured  p -polarized PL intensities \n",
      "(at the PL peak wavelength) as a function of the emission angle for three compounds in mCPCN are shown in  Figure     3  a–c. \n",
      "The measured curves are compared to simulated curves with different horizontal dipole ratios Θ \n",
      "//  (e.g., Θ //  = 100% for fully \n",
      "horizontal dipoles and Θ //  = 67% for the isotropic dipole ori-\n",
      "entation) to extract Θ // ‘s of different compounds in emitting \n",
      "layers. Θ // ‘s thus determined for  SpiroAC-TRZ  ,  DPAC-TRZ  , and  DMAC-TRZ   (Table  1 ) are 83%, 78%, and 72%, repectively. \n",
      " SpiroAC-TRZ   having the bulky, rigid, sterical, and planar spiro-\n",
      "biphenyl substitution exhibits a strongest tendency of orienting emitting dipoles horizontally in a same mCPCN host. It is worth noting that although there have been reports of TADF materials showing even higher Θ \n",
      "// , nevertheless the compound \n",
      " SpiroAC-TRZ   here is the ﬁ  rst demonstration of a TADF emitter \n",
      "simulataneously having ≈100% PLQY and high Θ //  above \n",
      "80%. In addition, it is interesting to notice that, compared to TADF emitters previously reported to have high Θ \n",
      "// , [ 8,17 ]  the \n",
      "compound  SpiroAC-TRZ   here achieves a high Θ //  with a rela-\n",
      "tively smaller molecular weight and simpler molecular struc-ture. Figure  3 d further depicts the horizontal dipole ratios Θ \n",
      "//  \n",
      "of the three compounds as a function of the doping concen-tration (see the Supporting Information for all detailed angle- and polarization-resolved PL data), including the cases of non-doped (pure) ﬁ  lms (i.e., 100%). They hardly show dependence \n",
      "on the doping concentration, suggesting that in these cases the tendency of preferential dipole orientation is more a natural characteristic of compounds themselves and is not strongly perturbed/affected by the host. To further elucidate mecha-nisms of molecular and dipole orientations, spectroscopic ellipsometry was conducted on nondoped (pure) ﬁ  lms of the \n",
      "three compounds. Figure  3 e–g depicts the ordinary (in-plane) and extraordinary (out-of-plane) refractive indices ( n  \n",
      "o ,  n  e ) and \n",
      "extinction coefﬁ  cients ( k  o ,  k  e ) of pure (nondoped) ﬁ  lms of the \n",
      "three compounds, which clearly indicate strongest anisotropic optical properties and largest difference between in-plane and out-of-plane ICT absorption (350–450 nm) for  SpiroAC-TRZ   \n",
      "(than for  DPAC-TRZ   and  DMAC-TRZ  ). Quantum chemical \n",
      "calculation reveals that the  S  \n",
      "0 - S  1  transition dipole moment of \n",
      "the acridine-triazine hybrid is mainly along the long axis of the molecular structure (Figure  3 h). Such results thus suggest that these compounds have a natural tendency to align their molec-ular long axes horizontally upon anchoring onto a surface. That  SpiroAC-TRZ   exhibits the strongest anisotropy and highest \n",
      "horizontal dipole ratio Θ \n",
      "//  is perhaps due to its overall more \n",
      "planar and balanced/symmetrical structure compared to the other two compounds, since spirobiphenyl and triphenyltria-zine on two sides of acridine are nearly coplanar (Figure  1 ). In addition, the highest  T  \n",
      "g  of  SpiroAC-TRZ   may also help to sup-\n",
      "press surface mobility/orientational rearrangement during ﬁ  lm \n",
      "deposition and have molecular/dipole orientations frozen. [ 21,22 ]   \n",
      " All the three compounds were applied for EL studies using \n",
      "the common device architecture of: glass substrate/ Indium tin oxide (ITO)/MoO \n",
      "3  (1 nm)/ Di-[4-(N,N-ditolyl-amino)-phenyl]-\n",
      "cyclohexane (TAPC) (50 nm)/ N,N-dicarbazolyl-3,5-benzene (mCP) (10 nm)/mCPCN doped with TADF dopants (12 wt%, 20 nm)/ Tris-[3-(3-pyridyl)mesityl]borane (3TPYMB) (50 nm)/LiF (0.5 nm)/Al (150 nm). ITO and Al were anode and cathode, repsectiely. TAPC and mCP were hole-transport layers (HTL). \n",
      "[ 4,9,20 ]  The bipolar mCPCN host constituted the emit-\n",
      "ting layer. 3TPYMB was the electron-transport layer (ETL). [ 4,9,20 ]  \n",
      "MoO 3  and LiF were employed as hole and electron-injection \n",
      "layers. [ 4 ]  Further details of device fabrication and characteriza-\n",
      "tion can be found in the Supporting Information. \n",
      " Representative EL characteristics of OLEDs using \n",
      " SpiroAC-TRZ  ,  DPAC-TRZ  , and  DMAC-TRZ   (with doping \n",
      "concentration of 12 wt%) are shown in  Figure     4  a–d, while \n",
      "Adv. Mater.  2016 , 28, 6976–6983www.advmat.de\n",
      "www.MaterialsViews.com\n",
      "  Table 1.    The summary of physical and photophysical properties of \n",
      " DMAC-TRZ  ,  DPAC-TRZ  , and  SpiroAC-TRZ .   \n",
      " SpiroAC-TRZ DPAC-TRZ DMAC-TRZ\n",
      " λ  max, ﬂ    a)  [nm] 480 478 495\n",
      " λ  max, ph   a)  [nm] 483 482 504\n",
      "Δ E  ST  a)  [meV] 72 133 62\n",
      " Φ  PL  a)  [%] 100 82 90\n",
      " Φ  PF  a)  [%] 79 70 59\n",
      " Φ  DF  a)  [%] 21 12 31\n",
      " τ  PF  a)  [ns] 17 15 20\n",
      " τ  DF  a)  [µs] 2.1 2.9 1.9\n",
      " Θ  //  a)  [%] 83 78 72\n",
      " T  d  b)  [°C] 353 368 334\n",
      " T  g  c)  [°C] 155 136 90\n",
      " E  1/2  oxd)  [V] 1.06 1.08 0.97\n",
      " E  1/2  redd)  [V] −1.49 −1.49 −1.46\n",
      "HOMO e)  [eV] 5.70 5.72 5.61\n",
      "LUMO f)  [eV] 3.12 3.12 3.12\n",
      "    a) Fluorescence maximum wavelength, phosphorescence maximum wavelength, \n",
      "energy gap between lowest singlet and triplet states, photoluminescence quantum yield, the quantum yield for the prompt ﬂ  uorescence, the quantum yield for the \n",
      "delayed ﬂ  uorescence, lifetime of the prompt component in transient PL, lifetime \n",
      "of the delayed component in transient PL, and horizontal dipole ratio measured in doped mCPCN ﬁ  lms (with 12 wt% doping concentration);  \n",
      "b) Decomposition \n",
      "temperature corresponding to 5% weight loss in the thermogravimetric analyses;  \n",
      "c) Glass transition temperature;  d) Oxidation and reduction half-wave potentials in \n",
      "cyclic voltammetry;  e) HOMO level calculated from the oxidation half-wave poten-\n",
      "tial;  f) LUMO level estimated from the reduction onset potential.   \n",
      "\n",
      "\n"
     ]
    }
   ],
   "source": [
    "for r in ans:\n",
    "    print( f'[Paper] {r.metadata['source']}' )\n",
    "    print( f'Page: {r.metadata['page']}' )\n",
    "    print( r.page_content )\n",
    "    print( '\\n' )"
   ]
  },
  {
   "cell_type": "code",
   "execution_count": null,
   "metadata": {},
   "outputs": [],
   "source": []
  },
  {
   "cell_type": "code",
   "execution_count": null,
   "metadata": {},
   "outputs": [],
   "source": []
  },
  {
   "cell_type": "code",
   "execution_count": null,
   "metadata": {},
   "outputs": [],
   "source": []
  }
 ],
 "metadata": {
  "kernelspec": {
   "display_name": "OLED_RAG",
   "language": "python",
   "name": "python3"
  },
  "language_info": {
   "codemirror_mode": {
    "name": "ipython",
    "version": 3
   },
   "file_extension": ".py",
   "mimetype": "text/x-python",
   "name": "python",
   "nbconvert_exporter": "python",
   "pygments_lexer": "ipython3",
   "version": "3.12.1"
  }
 },
 "nbformat": 4,
 "nbformat_minor": 2
}
