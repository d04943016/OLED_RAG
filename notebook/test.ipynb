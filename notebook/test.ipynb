{
 "cells": [
  {
   "cell_type": "code",
   "execution_count": 4,
   "metadata": {},
   "outputs": [],
   "source": [
    "from dotenv import load_dotenv\n",
    "load_dotenv()\n",
    "import os\n",
    "\n",
    "from openai import OpenAI"
   ]
  },
  {
   "cell_type": "code",
   "execution_count": 5,
   "metadata": {},
   "outputs": [],
   "source": [
    "client = OpenAI(api_key=os.environ['OPEN_API_KEY'])"
   ]
  },
  {
   "cell_type": "code",
   "execution_count": 7,
   "metadata": {},
   "outputs": [
    {
     "name": "stdout",
     "output_type": "stream",
     "text": [
      "ChatCompletionMessage(content='In the world of code, there lies a mystic art,\\nWhere loops and functions play their sacred part.\\nBut lo! Beyond the realm of mundane iterations,\\nThere dwells a concept that defies expectations.\\n\\nRecursion, oh recursion, a paradox so sublime,\\nWhere the solution hides within the passage of time.\\nA function calling itself, a dance of repetition,\\nUnraveling problems with digital precision.\\n\\nImagine Alice, lost in a labyrinth so vast,\\nIn search of her destination, her journey must be cast.\\nWith each step, she asks herself, \"Where should I go?\"\\nRecursion, as a guide, whispers the answer, just so.\\n\\nShe ponders, \"If I\\'ve reached a dead-end blockade,\\nI shall retreat, my previous path remade.\\nBut if a path waits, undiscovered in its grace,\\nI shall explore, and forward I shall embrace.\"\\n\\nThus, an algorithm forms, a method unveiled,\\nWith recursion as its essence, the foundation now nailed.\\nAlice steps forward, and through the maze she wanders,\\nFollowing her intuition, as each call she ponders.\\n\\nWithin the code, her method defined,\\nCalls itself, till her victory is entwined.\\nWith each recursive leap, paths traverse the unknown,\\nUnraveling the labyrinth, its secrets all shown.\\n\\nYet caution, seeker, as recursion bewares,\\nInfinite loops lie hidden, waiting in snares.\\nBase cases must exist, to halt the endless dive,\\nFor without a stopping point, the program won\\'t survive.\\n\\nLike a phoenix reborn, recursion does ignite,\\nSolving problems, both simple and affright.\\nFrom fractals to trees, and sorting arrays,\\nRecursion paints beauty in the programmer\\'s craze.\\n\\nSo to those who wield code, with logic as their guide,\\nEmbrace the enigmatic, with recursion by your side.\\nFor in this poetic dance, where loops do transcend,\\nThe recursive spirit, through code, shall ascend.', role='assistant', function_call=None, tool_calls=None)\n"
     ]
    }
   ],
   "source": [
    "# completion = client.chat.completions.create(\n",
    "#   model=\"gpt-3.5-turbo\",\n",
    "#   messages=[\n",
    "#     {\"role\": \"system\", \"content\": \"You are a poetic assistant, skilled in explaining complex programming concepts with creative flair.\"},\n",
    "#     {\"role\": \"user\", \"content\": \"Compose a poem that explains the concept of recursion in programming.\"}\n",
    "#   ]\n",
    "# )\n",
    "\n",
    "# print(completion.choices[0].message)"
   ]
  },
  {
   "cell_type": "code",
   "execution_count": 9,
   "metadata": {},
   "outputs": [
    {
     "name": "stdout",
     "output_type": "stream",
     "text": [
      "In the world of code, there lies a mystic art,\n",
      "Where loops and functions play their sacred part.\n",
      "But lo! Beyond the realm of mundane iterations,\n",
      "There dwells a concept that defies expectations.\n",
      "\n",
      "Recursion, oh recursion, a paradox so sublime,\n",
      "Where the solution hides within the passage of time.\n",
      "A function calling itself, a dance of repetition,\n",
      "Unraveling problems with digital precision.\n",
      "\n",
      "Imagine Alice, lost in a labyrinth so vast,\n",
      "In search of her destination, her journey must be cast.\n",
      "With each step, she asks herself, \"Where should I go?\"\n",
      "Recursion, as a guide, whispers the answer, just so.\n",
      "\n",
      "She ponders, \"If I've reached a dead-end blockade,\n",
      "I shall retreat, my previous path remade.\n",
      "But if a path waits, undiscovered in its grace,\n",
      "I shall explore, and forward I shall embrace.\"\n",
      "\n",
      "Thus, an algorithm forms, a method unveiled,\n",
      "With recursion as its essence, the foundation now nailed.\n",
      "Alice steps forward, and through the maze she wanders,\n",
      "Following her intuition, as each call she ponders.\n",
      "\n",
      "Within the code, her method defined,\n",
      "Calls itself, till her victory is entwined.\n",
      "With each recursive leap, paths traverse the unknown,\n",
      "Unraveling the labyrinth, its secrets all shown.\n",
      "\n",
      "Yet caution, seeker, as recursion bewares,\n",
      "Infinite loops lie hidden, waiting in snares.\n",
      "Base cases must exist, to halt the endless dive,\n",
      "For without a stopping point, the program won't survive.\n",
      "\n",
      "Like a phoenix reborn, recursion does ignite,\n",
      "Solving problems, both simple and affright.\n",
      "From fractals to trees, and sorting arrays,\n",
      "Recursion paints beauty in the programmer's craze.\n",
      "\n",
      "So to those who wield code, with logic as their guide,\n",
      "Embrace the enigmatic, with recursion by your side.\n",
      "For in this poetic dance, where loops do transcend,\n",
      "The recursive spirit, through code, shall ascend.\n"
     ]
    }
   ],
   "source": [
    "print(completion.choices[0].message.content)"
   ]
  },
  {
   "cell_type": "code",
   "execution_count": 23,
   "metadata": {},
   "outputs": [],
   "source": [
    "filepath = '/Users/weikai/Library/CloudStorage/Dropbox/paper/CCWu'\n",
    "filename = 'CCWu 2023 Fully electromagnetic wave optic simulation and analyses of the cross-scale reflective 3D OLED pixel configuration.pdf'\n",
    "full_path = os.path.join( filepath, filename )\n"
   ]
  },
  {
   "cell_type": "code",
   "execution_count": 25,
   "metadata": {},
   "outputs": [],
   "source": [
    "file = client.files.create(\n",
    "  file=open(full_path, \"rb\"),\n",
    "  purpose='assistants'\n",
    ")"
   ]
  },
  {
   "cell_type": "code",
   "execution_count": 26,
   "metadata": {},
   "outputs": [
    {
     "data": {
      "text/plain": [
       "FileObject(id='file-vBqBjb3j4Lir1zHiJ75dWbA9', bytes=5665892, created_at=1706534886, filename='CCWu 2023 Fully electromagnetic wave optic simulation and analyses of the cross-scale reflective 3D OLED pixel configuration.pdf', object='file', purpose='assistants', status='processed', status_details=None)"
      ]
     },
     "execution_count": 26,
     "metadata": {},
     "output_type": "execute_result"
    }
   ],
   "source": [
    "file"
   ]
  },
  {
   "cell_type": "code",
   "execution_count": 28,
   "metadata": {},
   "outputs": [
    {
     "data": {
      "text/plain": [
       "FileObject(id='file-vBqBjb3j4Lir1zHiJ75dWbA9', bytes=5665892, created_at=1706534886, filename='CCWu 2023 Fully electromagnetic wave optic simulation and analyses of the cross-scale reflective 3D OLED pixel configuration.pdf', object='file', purpose='assistants', status='processed', status_details=None)"
      ]
     },
     "execution_count": 28,
     "metadata": {},
     "output_type": "execute_result"
    }
   ],
   "source": [
    "retrieved_file = client.files.retrieve(file.id)\n",
    "retrieved_file\n",
    "     "
   ]
  },
  {
   "cell_type": "code",
   "execution_count": 30,
   "metadata": {},
   "outputs": [],
   "source": [
    "assistant = client.beta.assistants.create(\n",
    "  instructions=\"Use the file provided as your knowledge base to best respond to customer queries.\",\n",
    "  model=\"gpt-4-1106-preview\",\n",
    "  tools=[\n",
    "      { \"type\": \"retrieval\" }\n",
    "    ],\n",
    "  file_ids=[retrieved_file.id]\n",
    ")"
   ]
  },
  {
   "cell_type": "code",
   "execution_count": 33,
   "metadata": {},
   "outputs": [
    {
     "data": {
      "text/plain": [
       "Thread(id='thread_k1tvlXmAqCnY4nfA0GaXDnAl', created_at=1706535160, metadata={}, object='thread')"
      ]
     },
     "execution_count": 33,
     "metadata": {},
     "output_type": "execute_result"
    }
   ],
   "source": [
    "thread = client.beta.threads.create()\n",
    "thread"
   ]
  },
  {
   "cell_type": "code",
   "execution_count": 34,
   "metadata": {},
   "outputs": [
    {
     "data": {
      "text/plain": [
       "ThreadMessage(id='msg_SjfTyoPRZwoB61NABjgIWNtD', assistant_id=None, content=[MessageContentText(text=Text(annotations=[], value='Please show me the content architecture of this report'), type='text')], created_at=1706535165, file_ids=[], metadata={}, object='thread.message', role='user', run_id=None, thread_id='thread_k1tvlXmAqCnY4nfA0GaXDnAl')"
      ]
     },
     "execution_count": 34,
     "metadata": {},
     "output_type": "execute_result"
    }
   ],
   "source": [
    "thread_message = client.beta.threads.messages.create(\n",
    "  thread_id=thread.id,\n",
    "  role=\"user\",\n",
    "  content=\"Please show me the content architecture of this report\",\n",
    ")\n",
    "thread_message"
   ]
  },
  {
   "cell_type": "code",
   "execution_count": 38,
   "metadata": {},
   "outputs": [
    {
     "data": {
      "text/plain": [
       "Assistant(id='asst_SdavywjmHSelhtbAJnnZi5Yi', created_at=1706534963, description=None, file_ids=['file-vBqBjb3j4Lir1zHiJ75dWbA9'], instructions='Use the file provided as your knowledge base to best respond to customer queries.', metadata={}, model='gpt-4-1106-preview', name=None, object='assistant', tools=[ToolRetrieval(type='retrieval')])"
      ]
     },
     "execution_count": 38,
     "metadata": {},
     "output_type": "execute_result"
    }
   ],
   "source": [
    "updated_assistant = client.beta.assistants.update(\n",
    "  assistant.id,\n",
    "  tools=[{\"type\": \"retrieval\"}],\n",
    "  file_ids=[retrieved_file.id],\n",
    ")\n",
    "\n",
    "updated_assistant"
   ]
  },
  {
   "cell_type": "code",
   "execution_count": 39,
   "metadata": {},
   "outputs": [],
   "source": [
    "run = client.beta.threads.runs.create(\n",
    "  thread_id=thread.id,\n",
    "  assistant_id=updated_assistant.id\n",
    ")\n",
    "     "
   ]
  },
  {
   "cell_type": "code",
   "execution_count": 41,
   "metadata": {},
   "outputs": [],
   "source": [
    "\n",
    "run = client.beta.threads.runs.create(\n",
    "  thread_id=thread.id,\n",
    "  assistant_id=updated_assistant.id\n",
    ")"
   ]
  },
  {
   "cell_type": "code",
   "execution_count": 43,
   "metadata": {},
   "outputs": [],
   "source": [
    "retrieved_run = client.beta.threads.runs.retrieve(\n",
    "  thread_id=thread.id,\n",
    "  run_id=run.id\n",
    ")"
   ]
  },
  {
   "cell_type": "code",
   "execution_count": 44,
   "metadata": {},
   "outputs": [
    {
     "data": {
      "text/plain": [
       "Run(id='run_JtZQykUUJTcuwrgrrocqCD4e', assistant_id='asst_SdavywjmHSelhtbAJnnZi5Yi', cancelled_at=None, completed_at=1706535257, created_at=1706535252, expires_at=None, failed_at=None, file_ids=['file-vBqBjb3j4Lir1zHiJ75dWbA9'], instructions='Use the file provided as your knowledge base to best respond to customer queries.', last_error=None, metadata={}, model='gpt-4-1106-preview', object='thread.run', required_action=None, started_at=1706535252, status='completed', thread_id='thread_k1tvlXmAqCnY4nfA0GaXDnAl', tools=[ToolAssistantToolsRetrieval(type='retrieval')], usage=Usage(completion_tokens=130, prompt_tokens=2817, total_tokens=2947))"
      ]
     },
     "execution_count": 44,
     "metadata": {},
     "output_type": "execute_result"
    }
   ],
   "source": [
    "retrieved_run"
   ]
  },
  {
   "cell_type": "code",
   "execution_count": 45,
   "metadata": {},
   "outputs": [
    {
     "data": {
      "text/plain": [
       "[ThreadMessage(id='msg_UAwAxfxgD5yfL1Q2V6iQJlkr', assistant_id='asst_SdavywjmHSelhtbAJnnZi5Yi', content=[MessageContentText(text=Text(annotations=[], value='Based on the preview and bookmarks provided, the content architecture, or the report\\'s structure, for \"Fully electromagnetic wave optic simulation and analyses of the cross-scale reflective 3D OLED pixel configuration\" is as follows:\\n\\n1. Introduction\\n2. Methods\\n3. Results and discussion\\n4. Conclusion\\n5. Declaration of competing interest\\n6. Data availability\\n7. Acknowledgements\\n8. References\\n\\nThe report appears to be a scientific article that discusses the advancement in OLED displays, specifically focusing on the optical out-coupling and power efficiency through a novel 3D OLED pixel structure and its full electromagnetic wave optic simulation.'), type='text')], created_at=1706535253, file_ids=[], metadata={}, object='thread.message', role='assistant', run_id='run_JtZQykUUJTcuwrgrrocqCD4e', thread_id='thread_k1tvlXmAqCnY4nfA0GaXDnAl'),\n",
       " ThreadMessage(id='msg_73C5RlPFCth8OhZrg1lpxKN0', assistant_id='asst_SdavywjmHSelhtbAJnnZi5Yi', content=[MessageContentText(text=Text(annotations=[], value='The content architecture of the report titled \"Fully electromagnetic wave optic simulation and analyses of the cross-scale reflective 3D OLED pixel configuration\" is organized into the following sections:\\n\\n1. Introduction\\n2. Methods\\n3. Results and discussion\\n4. Conclusion\\n5. Declaration of competing interest\\n6. Data availability\\n7. Acknowledgements\\n8. References\\n\\nThe report focuses on improving the optical out-coupling and power efficiency of organic light-emitting diode (OLED) displays through a reflective three-dimensional (3D) OLED pixel structure. The authors discuss the use of full electromagnetic wave optics simulation to handle detailed emission properties of this architecture which spans multiple scales, from nanostructures to larger, irregular, and aperiodic features.'), type='text')], created_at=1706535241, file_ids=[], metadata={}, object='thread.message', role='assistant', run_id='run_stdFuu2N8ww1Un02cDZylaU5', thread_id='thread_k1tvlXmAqCnY4nfA0GaXDnAl'),\n",
       " ThreadMessage(id='msg_Mzc6JQdcIJqSbe36mnIvL5Sw', assistant_id=None, content=[MessageContentText(text=Text(annotations=[], value='Please show me the content architecture of this report'), type='text')], created_at=1706535183, file_ids=[], metadata={}, object='thread.message', role='user', run_id=None, thread_id='thread_k1tvlXmAqCnY4nfA0GaXDnAl'),\n",
       " ThreadMessage(id='msg_SjfTyoPRZwoB61NABjgIWNtD', assistant_id=None, content=[MessageContentText(text=Text(annotations=[], value='Please show me the content architecture of this report'), type='text')], created_at=1706535165, file_ids=[], metadata={}, object='thread.message', role='user', run_id=None, thread_id='thread_k1tvlXmAqCnY4nfA0GaXDnAl')]"
      ]
     },
     "execution_count": 45,
     "metadata": {},
     "output_type": "execute_result"
    }
   ],
   "source": [
    "\n",
    "thread_messages = client.beta.threads.messages.list(thread.id)\n",
    "thread_messages.data\n",
    "     "
   ]
  },
  {
   "cell_type": "code",
   "execution_count": 46,
   "metadata": {},
   "outputs": [
    {
     "name": "stdout",
     "output_type": "stream",
     "text": [
      "Based on the preview and bookmarks provided, the content architecture, or the report's structure, for \"Fully electromagnetic wave optic simulation and analyses of the cross-scale reflective 3D OLED pixel configuration\" is as follows:\n",
      "\n",
      "1. Introduction\n",
      "2. Methods\n",
      "3. Results and discussion\n",
      "4. Conclusion\n",
      "5. Declaration of competing interest\n",
      "6. Data availability\n",
      "7. Acknowledgements\n",
      "8. References\n",
      "\n",
      "The report appears to be a scientific article that discusses the advancement in OLED displays, specifically focusing on the optical out-coupling and power efficiency through a novel 3D OLED pixel structure and its full electromagnetic wave optic simulation.\n"
     ]
    }
   ],
   "source": [
    "print(thread_messages.data[0].content[0].text.value)\n"
   ]
  }
 ],
 "metadata": {
  "kernelspec": {
   "display_name": "OLED_RAG",
   "language": "python",
   "name": "python3"
  },
  "language_info": {
   "codemirror_mode": {
    "name": "ipython",
    "version": 3
   },
   "file_extension": ".py",
   "mimetype": "text/x-python",
   "name": "python",
   "nbconvert_exporter": "python",
   "pygments_lexer": "ipython3",
   "version": "3.12.1"
  }
 },
 "nbformat": 4,
 "nbformat_minor": 2
}
