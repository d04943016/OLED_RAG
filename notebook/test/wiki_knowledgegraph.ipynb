{
 "cells": [
  {
   "cell_type": "code",
   "execution_count": 174,
   "metadata": {},
   "outputs": [],
   "source": [
    "import os\n",
    "from tqdm import tqdm \n",
    "\n",
    "from dotenv import load_dotenv\n",
    "load_dotenv()\n",
    "\n",
    "from openai import OpenAI\n",
    "\n",
    "import pandas as pd\n",
    "import random\n",
    "\n",
    "import ast\n",
    "\n",
    "# Wikipedia API\n",
    "import wikipedia as wp\n",
    "from wikipedia.exceptions import DisambiguationError, PageError\n",
    "\n",
    "# Plotting\n",
    "import networkx as nx\n",
    "import matplotlib.pyplot as plt"
   ]
  },
  {
   "cell_type": "markdown",
   "metadata": {},
   "source": [
    "# Wiki Extractor"
   ]
  },
  {
   "cell_type": "code",
   "execution_count": 175,
   "metadata": {},
   "outputs": [],
   "source": [
    "def paragraph2sentences(paragraph):\n",
    "    sentences = paragraph.split('.')\n",
    "    return sentences\n",
    "class MyWikiPage:\n",
    "    def __init__(self, query):\n",
    "        self.page = wp.page(query)\n",
    "        self.content = None\n",
    "        self.paragraphs = None\n",
    "        self.sentences = None\n",
    "    def get_content(self):\n",
    "        if self.content is None:\n",
    "            self.content = self.page.content\n",
    "        return self.content\n",
    "    def get_paragraphs(self):\n",
    "        if self.paragraphs is None:\n",
    "            self.paragraphs = self.get_content().split('\\n')\n",
    "            self.paragraphs = [p for p in self.paragraphs if p != '' and len(p)>10 ]\n",
    "        return self.paragraphs\n",
    "    def get_sentences(self, paragraph_num = None):\n",
    "        if self.sentences is None:\n",
    "            self.sentences = [ paragraph2sentences(p) for p in self.get_paragraphs() ]\n",
    "        if paragraph_num is None:\n",
    "            return self.sentences\n",
    "        return self.sentences[paragraph_num]"
   ]
  },
  {
   "cell_type": "code",
   "execution_count": 176,
   "metadata": {},
   "outputs": [],
   "source": [
    "queries = ['plasma(physics)', 'Inductive Plasma', 'Capacitively Coupled Plasma', 'Inductively Coupled Plasma']\n",
    "wiki_pages = [ MyWikiPage(q) for q in queries ]"
   ]
  },
  {
   "cell_type": "code",
   "execution_count": 177,
   "metadata": {},
   "outputs": [
    {
     "data": {
      "text/plain": [
       "\"Plasma (from Ancient Greek  πλάσμα (plásma) 'moldable substance') is one of four fundamental states of matter (the other three being solid, liquid, and gas) characterized by the presence of a significant portion of charged particles in any combination of ions or electrons. It is the most abundant form of ordinary matter in the universe, mostly in stars (including the Sun), but also dominating the rarefied intracluster medium and intergalactic medium.\""
      ]
     },
     "execution_count": 177,
     "metadata": {},
     "output_type": "execute_result"
    }
   ],
   "source": [
    "paragraph = wiki_pages[0].get_paragraphs()[0]\n",
    "paragraph"
   ]
  },
  {
   "cell_type": "code",
   "execution_count": 178,
   "metadata": {},
   "outputs": [
    {
     "data": {
      "text/plain": [
       "\"Plasma (from Ancient Greek  πλάσμα (plásma) 'moldable substance') is one of four fundamental states of matter (the other three being solid, liquid, and gas) characterized by the presence of a significant portion of charged particles in any combination of ions or electrons\""
      ]
     },
     "execution_count": 178,
     "metadata": {},
     "output_type": "execute_result"
    }
   ],
   "source": [
    "sentences = wiki_pages[0].get_sentences(paragraph_num=0)\n",
    "sentences[0]"
   ]
  },
  {
   "cell_type": "markdown",
   "metadata": {},
   "source": [
    "# Construct agent"
   ]
  },
  {
   "cell_type": "code",
   "execution_count": 179,
   "metadata": {},
   "outputs": [],
   "source": [
    "# Replace with your OpenAI API key\n",
    "openai = OpenAI(api_key=os.environ['OPEN_API_KEY'])\n",
    "\n",
    "# Send a message to ChatGPT\n",
    "system_message = '''Given a prompt delimited by triple backticks, perform the following actions:\\n'''\\\n",
    "                 '''(1) identify as many relations among entities as possible\\n'''\\\n",
    "                 '''(2) output is a list of [\"ENTITY1\",\"RELATION\",\"ENTITY2\"]\\n'''\\\n",
    "                 '''    please use \"\" to wrap the entity and relation and don't forget to use [] for a triplet\\n'''\\\n",
    "                 '''(3) use ,\\\\n to separate each relation\\n'''\\\n",
    "                 '''(4) use , to separate each ENTITY and RELATION\\n'''\\\n",
    "                 '''(5) If the given paragraph is not meaningful, please return CANNOT_BE_READABLE\\n'''\\\n",
    "                 '''(6) please change all the character to lowercase\\n'''\\\n",
    "                 '''(7) If the given sentence is not English, please translate to English\\n'''\\\n",
    "                 '''The most important entity types are: person, organization, location, physical terminology, material, title, material, chemical reaction, and so on.\\n'''\\\n",
    "                 '''Before extract the relations, please see the whole paragraph first and please merge the same semantics (including ENTITY and RELATION) as possible.\\n'''\\\n",
    "                 '''Also check the true or false of the triple, if it is ambiguous or not scientific, please don't output that relation. \\n'''\n",
    "\n",
    "def get_relations_from_LLM( content ):\n",
    "    completion = openai.chat.completions.create(\n",
    "        model=\"gpt-4\", # 'gpt-4', 'gpt-3.5-turbo'\n",
    "        messages=[\n",
    "              {\"role\": \"system\", \"content\": system_message},\n",
    "              {\"role\": \"user\", \"content\": content}\n",
    "        ]\n",
    "    )\n",
    "    return completion.choices[0].message.content"
   ]
  },
  {
   "cell_type": "code",
   "execution_count": 180,
   "metadata": {},
   "outputs": [
    {
     "name": "stdout",
     "output_type": "stream",
     "text": [
      "Given a prompt delimited by triple backticks, perform the following actions:\n",
      "(1) identify as many relations among entities as possible\n",
      "(2) output is a list of [\"ENTITY1\",\"RELATION\",\"ENTITY2\"]\n",
      "    please use \"\" to wrap the entity and relation and don't forget to use [] for a triplet\n",
      "(3) use ,\\n to separate each relation\n",
      "(4) use , to separate each ENTITY and RELATION\n",
      "(5) If the given paragraph is not meaningful, please return CANNOT_BE_READABLE\n",
      "(6) please change all the character to lowercase\n",
      "(7) If the given sentence is not English, please translate to English\n",
      "The most important entity types are: person, organization, location, physical terminology, material, title, material, chemical reaction, and so on.\n",
      "Before extract the relations, please see the whole paragraph first and please merge the same semantics (including ENTITY and RELATION) as possible.\n",
      "Also check the true or false of the triple, if it is ambiguous or not scientific, please don't output that relation. \n",
      "\n"
     ]
    }
   ],
   "source": [
    "print(system_message)"
   ]
  },
  {
   "cell_type": "markdown",
   "metadata": {},
   "source": [
    "# Extract Relation"
   ]
  },
  {
   "cell_type": "code",
   "execution_count": 181,
   "metadata": {},
   "outputs": [],
   "source": [
    "def sentence2relation(sentence:str):\n",
    "    sentences = sentence.split(',\\n')\n",
    "    relations = []\n",
    "    for s in sentences:\n",
    "        try:\n",
    "            tmp = ast.literal_eval(s) \n",
    "            if len(tmp) == 3:\n",
    "                relations.append( tmp )\n",
    "        except:\n",
    "            pass\n",
    "    return relations"
   ]
  },
  {
   "cell_type": "code",
   "execution_count": 182,
   "metadata": {},
   "outputs": [
    {
     "data": {
      "text/plain": [
       "[['plasma', 'is', 'one of four fundamental states of matter'],\n",
       " ['four fundamental states of matter', 'include', 'solid'],\n",
       " ['four fundamental states of matter', 'include', 'liquid'],\n",
       " ['four fundamental states of matter', 'include', 'gas'],\n",
       " ['four fundamental states of matter', 'include', 'plasma'],\n",
       " ['plasma',\n",
       "  'characterized by',\n",
       "  'presence of a significant portion of charged particles in any combination of ions or electrons'],\n",
       " ['plasma', 'is', 'the most abundant form of ordinary matter in the universe'],\n",
       " ['ordinary matter in the universe', 'mostly present in', 'stars'],\n",
       " ['stars', 'include', 'the sun'],\n",
       " ['ordinary matter in the universe',\n",
       "  'dominates',\n",
       "  'rarefied intracluster medium'],\n",
       " ['ordinary matter in the universe', 'dominates', 'intergalactic medium']]"
      ]
     },
     "execution_count": 182,
     "metadata": {},
     "output_type": "execute_result"
    }
   ],
   "source": [
    "# single paragraph test \n",
    "paragraph = wiki_pages[0].get_paragraphs()[0] \n",
    "contents = get_relations_from_LLM(paragraph)\n",
    "sentence2relation(contents)"
   ]
  },
  {
   "cell_type": "code",
   "execution_count": 183,
   "metadata": {},
   "outputs": [
    {
     "name": "stdout",
     "output_type": "stream",
     "text": [
      "Now processing query - plasma(physics) (1/4) ...\n"
     ]
    },
    {
     "name": "stderr",
     "output_type": "stream",
     "text": [
      "100%|██████████| 1/1 [00:07<00:00,  7.79s/it]"
     ]
    },
    {
     "name": "stdout",
     "output_type": "stream",
     "text": [
      "- relation number : 13\n"
     ]
    },
    {
     "name": "stderr",
     "output_type": "stream",
     "text": [
      "\n"
     ]
    }
   ],
   "source": [
    "# extract relation from wiki pages\n",
    "relations_dict = {}\n",
    "for ii, query in enumerate( queries[0:1] ):\n",
    "    print(f'Now processing query - {query} ({ii+1}/{len(queries)}) ...')\n",
    "    relation_query = []\n",
    "    for paragraph in tqdm( wiki_pages[ii].get_paragraphs()[0:1] ):\n",
    "        contents = get_relations_from_LLM( paragraph )\n",
    "        relation_query += sentence2relation( contents )\n",
    "    print(f'- relation number : {len(relation_query)}')\n",
    "    relations_dict[query] = relation_query"
   ]
  },
  {
   "cell_type": "code",
   "execution_count": 199,
   "metadata": {},
   "outputs": [
    {
     "name": "stdout",
     "output_type": "stream",
     "text": [
      "plasma(physics) (query) has 16 entities, 5 relation, 13 total relation lines\n"
     ]
    }
   ],
   "source": [
    "# add relation between page name and entities\n",
    "new_relations_dict = {}\n",
    "for query, relations in relations_dict.items():\n",
    "    total_entities = set( [ relation[0] for relation in relations] + [ relation[2] for relation in relations ] )\n",
    "    total_relations = set( [relation[1] for relation in relations] )\n",
    "    print(f'{query} (query) has {len(total_entities)} entities, {len(total_relations)} relation, {len(relations)} total relation lines')\n",
    "    new_relations = relations.copy() \\\n",
    "                    + [ [entity.lower(), 'is entity of', query.lower() ] for entity in total_entities ] \\\n",
    "                    + [ [query.lower(),  'has entity of',entity.lower()] for entity in total_entities ] \n",
    "    new_relations_dict[query] = new_relations"
   ]
  },
  {
   "cell_type": "markdown",
   "metadata": {},
   "source": [
    "# Construct Graph"
   ]
  },
  {
   "cell_type": "code",
   "execution_count": 200,
   "metadata": {},
   "outputs": [
    {
     "name": "stdout",
     "output_type": "stream",
     "text": [
      "Merged entity number   : 16\n",
      "Merged relation number : 5\n",
      "Merged relation lines  : 13\n"
     ]
    }
   ],
   "source": [
    "merged_relations = []\n",
    "for query, relations in new_relations_dict.items():\n",
    "     merged_relations += relations\n",
    "\n",
    "total_entities_tmp = set( [ relation[0] for relation in merged_relations] + [ relation[2] for relation in merged_relations ] )\n",
    "total_relations_tmp = set( [relation[1] for relation in merged_relations] )\n",
    "print(f'Merged entity number   : {len(total_entities_tmp)}')\n",
    "print(f'Merged relation number : {len(total_relations_tmp)}')\n",
    "print(f'Merged relation lines  : {len(merged_relations)}')"
   ]
  },
  {
   "cell_type": "code",
   "execution_count": 201,
   "metadata": {},
   "outputs": [],
   "source": [
    "# Create a directed graph\n",
    "G = nx.DiGraph()\n",
    "\n",
    "# Add nodes and edges to the graph\n",
    "for source, relationship, target in merged_relations:\n",
    "    G.add_node(source)\n",
    "    G.add_node(target)\n",
    "    G.add_edge(source, target, label=relationship)"
   ]
  },
  {
   "cell_type": "markdown",
   "metadata": {},
   "source": [
    "# Plot Graph"
   ]
  },
  {
   "cell_type": "code",
   "execution_count": 202,
   "metadata": {},
   "outputs": [
    {
     "data": {
      "image/png": "[encoded data removed]",
      "text/plain": [
       "<Figure size 640x480 with 1 Axes>"
      ]
     },
     "metadata": {},
     "output_type": "display_data"
    }
   ],
   "source": [
    "font_size = 5\n",
    "\n",
    "# Define node positions in a circular layout\n",
    "pos = nx.spring_layout(G, k=0.1, iterations=20)\n",
    "\n",
    "# Draw the nodes\n",
    "nx.draw(G, pos, with_labels=True, node_size=2000, node_color='lightblue', font_size=font_size, font_weight='bold')\n",
    "\n",
    "# Draw the edge labels\n",
    "edge_labels = nx.get_edge_attributes(G,'label')\n",
    "nx.draw_networkx_edge_labels(G, pos, edge_labels=edge_labels, font_size=font_size)\n",
    "\n",
    "plt.title(\"Knowledge Graph of Plasma and Related Concepts\")\n",
    "plt.axis('off') # Turn off the axis\n",
    "plt.show()"
   ]
  },
  {
   "cell_type": "code",
   "execution_count": 188,
   "metadata": {},
   "outputs": [
    {
     "ename": "NameError",
     "evalue": "name 'G_merged' is not defined",
     "output_type": "error",
     "traceback": [
      "\u001b[0;31m---------------------------------------------------------------------------\u001b[0m",
      "\u001b[0;31mNameError\u001b[0m                                 Traceback (most recent call last)",
      "Cell \u001b[0;32mIn[188], line 2\u001b[0m\n\u001b[1;32m      1\u001b[0m \u001b[38;5;66;03m# Correcting the mistake in adding the new edges with proper source, target, and relationship attributes\u001b[39;00m\n\u001b[0;32m----> 2\u001b[0m \u001b[43mG_merged\u001b[49m\u001b[38;5;241m.\u001b[39madd_edge(\u001b[38;5;124m\"\u001b[39m\u001b[38;5;124mCapacitively Coupled Plasma\u001b[39m\u001b[38;5;124m\"\u001b[39m, \u001b[38;5;124m\"\u001b[39m\u001b[38;5;124mInduction Plasma\u001b[39m\u001b[38;5;124m\"\u001b[39m, relationship\u001b[38;5;241m=\u001b[39m\u001b[38;5;124m\"\u001b[39m\u001b[38;5;124mis one kind of\u001b[39m\u001b[38;5;124m\"\u001b[39m)\n\u001b[1;32m      3\u001b[0m G_merged\u001b[38;5;241m.\u001b[39madd_edge(\u001b[38;5;124m\"\u001b[39m\u001b[38;5;124mInductively Coupled Plasma\u001b[39m\u001b[38;5;124m\"\u001b[39m, \u001b[38;5;124m\"\u001b[39m\u001b[38;5;124mInduction Plasma\u001b[39m\u001b[38;5;124m\"\u001b[39m, relationship\u001b[38;5;241m=\u001b[39m\u001b[38;5;124m\"\u001b[39m\u001b[38;5;124mis one kind of\u001b[39m\u001b[38;5;124m\"\u001b[39m)\n\u001b[1;32m      5\u001b[0m \u001b[38;5;66;03m# Since the graph structure is updated, let's use the kamada_kawai_layout for visualization\u001b[39;00m\n",
      "\u001b[0;31mNameError\u001b[0m: name 'G_merged' is not defined"
     ]
    }
   ],
   "source": [
    "# Correcting the mistake in adding the new edges with proper source, target, and relationship attributes\n",
    "G_merged.add_edge(\"Capacitively Coupled Plasma\", \"Induction Plasma\", relationship=\"is one kind of\")\n",
    "G_merged.add_edge(\"Inductively Coupled Plasma\", \"Induction Plasma\", relationship=\"is one kind of\")\n",
    "\n",
    "# Since the graph structure is updated, let's use the kamada_kawai_layout for visualization\n",
    "pos_merged_updated = nx.kamada_kawai_layout(G_merged)\n",
    "\n",
    "# Drawing the updated graph with correct method\n",
    "plt.figure(figsize=(20, 14))\n",
    "nx.draw(G_merged, pos_merged_updated, with_labels=True, node_size=[node_sizes[node] for node in G_merged.nodes()], node_color=corrected_desaturated_blended_colors, font_size=10, font_weight=\"bold\", edge_color=\"gray\")\n",
    "nx.draw_networkx_edge_labels(G_merged, pos_merged_updated, edge_labels={(u, v): d['relationship'] for u, v, d in G_merged.edges(data=True)}, font_color='darkblue')\n",
    "plt.title(\"Updated Knowledge Graph with Hierarchical Relationships\", size=20)\n",
    "plt.axis('off')\n",
    "plt.show()\n"
   ]
  },
  {
   "cell_type": "code",
   "execution_count": null,
   "metadata": {},
   "outputs": [],
   "source": [
    "# Correcting the use of an undefined variable 'specific_colors_updated' by defining a new specific colors mapping\n",
    "# for the updated graph that includes \"Plasma Physics\" as a node.\n",
    "\n",
    "# Define specific colors for the main plasma types and \"Plasma Physics\"\n",
    "specific_colors_for_physics = {\n",
    "    \"Induction Plasma\": \"red\",\n",
    "    \"Capacitively Coupled Plasma\": \"green\",\n",
    "    \"Inductively Coupled Plasma\": \"blue\",\n",
    "    \"Plasma Physics\": \"purple\",  # Assigning a new color for the \"Plasma Physics\" node\n",
    "}\n",
    "\n",
    "# Apply the specific colors to nodes, defaulting to a neutral color for other nodes\n",
    "colors_for_physics = [specific_colors_for_physics.get(node, \"#D0D0D0\") for node in G_merged.nodes()]\n",
    "\n",
    "# Drawing the graph with the addition of \"Plasma Physics\" relationship\n",
    "plt.figure(figsize=(20, 14))\n",
    "nx.draw(G_merged, pos_with_physics, with_labels=True, node_size=[node_sizes.get(node, 3000) for node in G_merged.nodes()], node_color=colors_for_physics, font_size=10, font_weight=\"bold\", edge_color=\"gray\")\n",
    "nx.draw_networkx_edge_labels(G_merged, pos_with_physics, edge_labels={(u, v): d['relationship'] for u, v, d in G_merged.edges(data=True)}, font_color='darkblue')\n",
    "plt.title(\"Extended Knowledge Graph with Applications of Plasma Physics\", size=20)\n",
    "plt.axis('off')\n",
    "plt.show()\n"
   ]
  },
  {
   "cell_type": "code",
   "execution_count": null,
   "metadata": {},
   "outputs": [],
   "source": [
    "# Importing numpy for numerical operations\n",
    "import numpy as np\n",
    "\n",
    "# Recalculating the center using numpy for the corrected approach\n",
    "center_x, center_y = np.mean([np.array(pos) for pos in pos_centered.values()], axis=0)\n",
    "\n",
    "# Manually adjust \"Plasma Physics\" to the center of the layout\n",
    "pos_centered[\"Plasma Physics\"] = (center_x, center_y)\n",
    "\n",
    "# Redrawing the graph with \"Plasma Physics\" centered and using desaturated colors\n",
    "plt.figure(figsize=(20, 14))\n",
    "nx.draw(G_merged, pos_centered, with_labels=True, node_size=[node_sizes.get(node, 3000) for node in G_merged.nodes()], node_color=desaturated_colors_for_nodes, font_size=10, font_weight=\"bold\", edge_color=\"gray\")\n",
    "nx.draw_networkx_edge_labels(G_merged, pos_centered, edge_labels={(u, v): d['relationship'] for u, v, d in G_merged.edges(data=True)}, font_color='darkblue')\n",
    "plt.title(\"Knowledge Graph with Centered Plasma Physics in Desaturated Colors\", size=20)\n",
    "plt.axis('off')\n",
    "plt.show()\n"
   ]
  },
  {
   "cell_type": "code",
   "execution_count": null,
   "metadata": {},
   "outputs": [],
   "source": []
  },
  {
   "cell_type": "code",
   "execution_count": null,
   "metadata": {},
   "outputs": [],
   "source": []
  },
  {
   "cell_type": "code",
   "execution_count": null,
   "metadata": {},
   "outputs": [],
   "source": []
  }
 ],
 "metadata": {
  "kernelspec": {
   "display_name": "OLED_RAG",
   "language": "python",
   "name": "python3"
  },
  "language_info": {
   "codemirror_mode": {
    "name": "ipython",
    "version": 3
   },
   "file_extension": ".py",
   "mimetype": "text/x-python",
   "name": "python",
   "nbconvert_exporter": "python",
   "pygments_lexer": "ipython3",
   "version": "3.12.1"
  }
 },
 "nbformat": 4,
 "nbformat_minor": 2
}
