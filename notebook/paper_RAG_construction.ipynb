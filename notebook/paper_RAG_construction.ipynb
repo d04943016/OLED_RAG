{
 "cells": [
  {
   "cell_type": "code",
   "execution_count": 1,
   "metadata": {},
   "outputs": [],
   "source": [
    "# 匯入套件和金鑰\n",
    "import os, sys\n",
    "from tqdm import tqdm\n",
    "import faiss\n",
    "\n",
    "from dotenv import load_dotenv\n",
    "load_dotenv()\n",
    "\n",
    "from rich import print as pprint\n",
    "\n",
    "from langchain_community.document_loaders import PyPDFLoader\n",
    "from langchain.text_splitter import RecursiveCharacterTextSplitter\n",
    "\n",
    "\n",
    "from langchain.indexes import VectorstoreIndexCreator\n",
    "from langchain_openai import OpenAIEmbeddings\n",
    "\n",
    "from langchain_community.vectorstores import Chroma\n",
    "\n",
    "from langchain_core.output_parsers import StrOutputParser\n",
    "from langchain_core.prompts import ChatPromptTemplate\n",
    "from langchain_core.runnables import RunnablePassthrough\n",
    "\n",
    "\n",
    "sys.path.append( os.path.join('..') )\n",
    "from src.paper_extractor import vector_based_RAG"
   ]
  },
  {
   "cell_type": "markdown",
   "metadata": {},
   "source": [
    "# Get embedding model"
   ]
  },
  {
   "cell_type": "code",
   "execution_count": 2,
   "metadata": {},
   "outputs": [],
   "source": [
    "# load embeddings model\n",
    "embeddings_model=OpenAIEmbeddings(model='text-embedding-3-large')"
   ]
  },
  {
   "cell_type": "markdown",
   "metadata": {},
   "source": [
    "# Get database"
   ]
  },
  {
   "cell_type": "code",
   "execution_count": 3,
   "metadata": {},
   "outputs": [
    {
     "name": "stdout",
     "output_type": "stream",
     "text": [
      "Database connected: ./database/vector_db/metadata\n",
      "Is database exists    :  True\n",
      "Is database connected :  True\n",
      "Data number           :  1986\n",
      "Data max id           :  1986\n",
      "check datanumber      :  True\n"
     ]
    }
   ],
   "source": [
    "database_path = './database/vector_db/'\n",
    "database_name = 'metadata'\n",
    "dimension = vector_based_RAG.DEFAULT_EMBEDDIMG_DIMENSION\n",
    "text_splitter = RecursiveCharacterTextSplitter(chunk_size = vector_based_RAG.DEFAULT_CHUNK_SIZE, chunk_overlap = vector_based_RAG.DEFAULT_CHUNK_OVERLAP)\n",
    "\n",
    "vector_db = vector_based_RAG.MyVectorDatabaseWithEmbeddedModel(\n",
    "        embeddings_model = embeddings_model,\n",
    "        text_splitter = text_splitter,\n",
    "        database_path = database_path,\n",
    "        database_name = database_name,\n",
    "        dimension = dimension,\n",
    "        verbose = True,\n",
    ")\n",
    "vector_db.connect();\n",
    "\n",
    "print(f'Is database exists    : ', vector_db.is_database_exist() )\n",
    "print(f'Is database connected : ', vector_db.is_connected())\n",
    "print(f'Data number           : ', len(vector_db))\n",
    "print(f'Data max id           : ', vector_db._get_max_id())\n",
    "print(f'check datanumber      : ', vector_db.check_datanumber_in_database())"
   ]
  },
  {
   "cell_type": "markdown",
   "metadata": {},
   "source": [
    "# Insert 1 file"
   ]
  },
  {
   "cell_type": "code",
   "execution_count": 4,
   "metadata": {},
   "outputs": [],
   "source": [
    "# load PDF file\n",
    "pdf_filepath = '/Users/weikai/Library/CloudStorage/Dropbox/paper/CCWu'\n",
    "pdf_filename = 'CCWu 2021 Modified distributed Bragg reflector for protecting organic light-emitting diode displays against ultraviolet light.pdf'\n",
    "pdf_filename = 'CCWu 2022 Analyses of emission efficiencies of white organic light-emitting diodes having multiple emitters in single emitting layer.pdf'\n",
    "# pdf_filename = 'CCWu 2019 Three‐dimensional pixel configurations for optical outcoupling of OLED displays-optical simulation.pdf'\n",
    "# pdf_filename = 'CCWu 2013 Analyzing nanostructures in mesogenic host–guest systems for polarized phosphorescence.pdf'\n",
    "# pdf_filename = 'CCWu 2022 Analyses of emission efficiencies of white organic light-emitting diodes having multiple emitters in single emitting layer.pdf'"
   ]
  },
  {
   "cell_type": "code",
   "execution_count": 5,
   "metadata": {},
   "outputs": [
    {
     "name": "stderr",
     "output_type": "stream",
     "text": [
      "0it [00:00, ?it/s]\n"
     ]
    }
   ],
   "source": [
    "vector_db.insert_pdf_file(pdf_filepath, pdf_filename, progress = True, force = False);"
   ]
  },
  {
   "cell_type": "markdown",
   "metadata": {},
   "source": [
    "# Insert Multiple File into database"
   ]
  },
  {
   "cell_type": "code",
   "execution_count": 6,
   "metadata": {},
   "outputs": [],
   "source": [
    "# pdf_filepath = '/Users/weikai/Library/CloudStorage/Dropbox/paper/CCWu'\n",
    "# pdf_filenames = [ fname for fname in os.listdir(pdf_filepath) if fname.endswith('.pdf') and not vector_db.is_pdf_file_in_database(pdf_filepath = pdf_filepath, pdf_filename = fname) ]\n",
    "\n",
    "# for pdf_filename in tqdm( pdf_filenames ):\n",
    "#     vector_db.insert_pdf_file(pdf_filepath, pdf_filename, progress = False, force = False);\n",
    "        "
   ]
  },
  {
   "cell_type": "code",
   "execution_count": 7,
   "metadata": {},
   "outputs": [
    {
     "name": "stdout",
     "output_type": "stream",
     "text": [
      "Is database exists    :  True\n",
      "Is database connected :  True\n",
      "Data number           :  1986\n",
      "Data max id           :  1986\n",
      "check datanumber      :  True\n"
     ]
    }
   ],
   "source": [
    "print(f'Is database exists    : ', vector_db.is_database_exist() )\n",
    "print(f'Is database connected : ', vector_db.is_connected())\n",
    "print(f'Data number           : ', len(vector_db))\n",
    "print(f'Data max id           : ', vector_db._get_max_id())\n",
    "print(f'check datanumber      : ', vector_db.check_datanumber_in_database())\n",
    "# vector_db._get_datanumber_in_faiss_index(), vector_db._get_datanumber_in_sqlite3()"
   ]
  },
  {
   "cell_type": "code",
   "execution_count": 8,
   "metadata": {},
   "outputs": [
    {
     "name": "stderr",
     "output_type": "stream",
     "text": [
      "Ignoring wrong pointing object 17 0 (offset 0)\n",
      "Ignoring wrong pointing object 17 0 (offset 0)\n"
     ]
    },
    {
     "data": {
      "text/plain": [
       "(array([1.0109465, 1.0704274, 1.0802474, 1.0844302, 1.0850697],\n",
       "       dtype=float32),\n",
       " array([ 922,  900,  919, 1545, 1544]))"
      ]
     },
     "execution_count": 8,
     "metadata": {},
     "output_type": "execute_result"
    }
   ],
   "source": [
    "ans, D, I = vector_db.query('What is the most important display technology', k = 5, get_distance_and_index=True)\n",
    "D, I"
   ]
  },
  {
   "cell_type": "code",
   "execution_count": 15,
   "metadata": {},
   "outputs": [
    {
     "name": "stdout",
     "output_type": "stream",
     "text": [
      "[Paper] /Users/weikai/Library/CloudStorage/Dropbox/paper/CCWu/CCWu 2018 A Vision toward Ultimate Optical Out-Coupling for Organic Light-Emitting Diode Displays- 3D Pixel Configuration.pdf\n",
      "Page: 0\n",
      "viewing characteristics are simultaneously achievable with optimized struc -\n",
      "tures using highly transparent top electrodes. This scheme is scalable and  \n",
      "wavelength insensitive, and generally applicable to all red, green, and blue pixels \n",
      "in high-resolution full-color displays. Results of this work are believed to shed \n",
      "light on the development of future generations of advanced OLED displays.Organic Light-Emitting Diodes\n",
      "© 2018 The Authors. Published by WILEY-VCH Verlag GmbH & Co. KGaA, \n",
      "Weinheim. This is an open access article under the terms of the Creative \n",
      "Commons Attribution License, which permits use, distribution and re -\n",
      "production in any medium, provided the original work is properly cited.Active-matrix organic light-emitting diode displays (AMOLEDs) \n",
      "have become one of the major display technologies, due to their \n",
      "various attractive merits for display applications. These include \n",
      "excellent viewing characteristics resulting from their self-\n",
      "emissive nature, vivid and saturated colors, high contrast, fast \n",
      "Adv. Sci. 2018 , 5, 1800467\n",
      "[Paper] /Users/weikai/Library/CloudStorage/Dropbox/paper/CCWu/CCWu 2022 Reflective 3D pixel configuration for enhancing efficiency of OLED displays.pdf\n",
      "Page: 9\n",
      "References \n",
      "[1]R. Dawson, Z. Shen, D. Furst, S. Connor, J. Hsu, M. Kane, R. Stewart, A. Ipri, \n",
      "C. King, P.J. Green, A polysilicon active matrix organic light emitting diode display \n",
      "with integrated drivers, SID Symp. Dig. Tech. Pap. 30 (1999) 438–441. \n",
      "[2]R. Dawson, M. Kane, 24.1: invited paper: pursuit of active matrix organic light \n",
      "emitting diode displays, SID Symp. Dig. Tech. Pap. 32 (2001) 372–375. \n",
      "[3]T. Sasaoka, M. Sekiya, A. Yumoto, J. Yamada, T. Hirano, Y. Iwase, T. Yamada, \n",
      "T. Ishibashi, T. Mori, M. Asano, 24.4 L: Late-news paper: a 13.0-inch AM-OLED \n",
      "display with top emitting structure and adaptive current mode programmed pixel \n",
      "circuit (TAC), SID Symp. Dig. Tech. Pap. 32 (2001) 384–387. \n",
      "[4]J.Y. Lee, J.H. Kwon, H.K. Chung, High efficiency and low power consumption in \n",
      "active matrix organic light emitting diodes, Org. Electron. 4 (2003) 143–148. \n",
      "[5]H.S. Shin, J.B. Koo, J.K. Jeong, Y.G. Mo, H.K. Chung, J.H. Cheon, J.H. Choi, K. \n",
      "M. Kim, J.H. Hur, S.H. Park, 54.4: 4.1 inch top-emission AMOLED on flexible metal \n",
      "foil, SID Symp. Dig. Tech. Pap. 36 (2005) 1642 –1645 . \n",
      "[6]K. Hong, J.-L. Lee, Recent developments in light extraction technologies of organic \n",
      "light emitting diodes, Electron. Mater. Lett. 7 (2011) 77–91. \n",
      "[7]M.A. Baldo, D.F. O’brien, Y. You, A. Shoustikov, S. Sibley, M.E. Thompson, S. \n",
      "R. Forrest, Highly efficient phosphorescent emission from organic \n",
      "electroluminescent devices, Nature 395 (1998) 151–154. \n",
      "[8]C.-C. Wu, C.-W. Chen, C.-L. Lin, C.-J. Yang, Advanced organic light-emitting \n",
      "devices for enhancing display performances, J. Disp. Technol. 1 (2005) 248. \n",
      "[9]H. Riel, S. Karg, T. Beierlein, B. Ruhstaller, W. Rieß, Phosphorescent top-emitting \n",
      "organic light-emitting devices with improved light outcoupling, Appl. Phys. Lett. \n",
      "82 (2003) 466–468. \n",
      "[10] H. Riel, S. Karg, T. Beierlein, W. Rieß, K. Neyts, Tuning the emission characteristics \n",
      "of top-emitting organic light-emitting devices by means of a dielectric capping\n",
      "[Paper] /Users/weikai/Library/CloudStorage/Dropbox/paper/CCWu/CCWu 2018 A Vision toward Ultimate Optical Out-Coupling for Organic Light-Emitting Diode Displays- 3D Pixel Configuration.pdf\n",
      "Page: 0\n",
      "COMMUNI CATION\n",
      "1800467  (1 of 12) © 2018 The Authors. Published by WILEY-VCH Verlag GmbH & Co. KGaA, Weinheimwww.advancedscience.com\n",
      "A Vision toward Ultimate Optical Out-Coupling for Organic \n",
      "Light-Emitting Diode Displays: 3D Pixel Conﬁguration\n",
      "Yi-Jiun Chen, Wei-Kai Lee, Yi-Ting Chen, Chun-Yu Lin, Sheng-Wen Wen, Min Jiao, \n",
      "Guo-Dong Su, Hoang Yan Lin, Robert J. Visser, Byungsung Leo Kwak, Chung-Chia Chen, \n",
      "Wan-Yu Lin, Steve Wang, Chorng-Ping Chang, and Chung-Chih Wu*\n",
      "Y .-J. Chen, Dr. W.-K. Lee, Y .-T. Chen, Dr. C.-Y . Lin, S.-W. Wen, Dr. M. Jiao, \n",
      "Prof. G.-D. Su, Prof. H. Y . Lin, Prof. C.-C. Wu\n",
      "Graduate Institute of Photonics and Optoelectronics\n",
      "Graduate Institute of Electronics Engineering\n",
      "Department of Electrical Engineering\n",
      "National Taiwan University\n",
      "Taipei 106, Taiwan\n",
      "E-mail: wuCC@ntu.edu.tw\n",
      "Dr. R. J. Visser, Dr. B. L. Kwak, Dr. C.-C. Chen, Dr. W.-Y . Lin, Dr. S. Wang, \n",
      "Dr. C.-P. Chang\n",
      "Applied Materials, Inc.\n",
      "Santa Clara, CA 95052, USA\n",
      "DOI: 10.1002/advs.201800467response, wide operation temperatures, \n",
      "compatibility with ﬂexible and wearable \n",
      "applications, etc.[1–5] For many AMOLED \n",
      "applications (e.g., mobile and wearable \n",
      "applications), the power consumption \n",
      "is a critical issue and thus achieving the \n",
      "highest possible external quantum efﬁ -\n",
      "ciency (EQE) of pixel organic light-emitting \n",
      "diodes (OLEDs) is essential. The EQE of \n",
      "an OLED is governed by both the internal \n",
      "quantum efﬁciency (IQE) of charge-to-\n",
      "photon conversion in the device and the \n",
      "extraction efﬁciency of internally gener -\n",
      "ated light for external viewing. Substantial \n",
      "progresses have been made in developing \n",
      "emitting materials with high IQE, such \n",
      "as phosphorescent and other triplet-\n",
      "harvesting emitters that can give nearly \n",
      "ideal 100% IQE.[6,7] However, current \n",
      "AMOLEDs still suffer poor light extraction \n",
      "and far from ideal EQEs. Figure  1a shows \n",
      "the schematic conﬁguration for an OLED \n",
      "pixel in a typical AMOLED, which usually \n",
      "adopts a top-emitting conﬁguration for\n",
      "[Paper] /Users/weikai/Library/CloudStorage/Dropbox/paper/CCWu/CCWu 2022 High-Directivity Emitting Pixel Devices for Advanced Display Applications.pdf\n",
      "Page: 0\n",
      "other hand, wearable VR/AR devices,  usually also with 3D visual \n",
      "functionalities, are also being  widely developed to give users rich \n",
      "immersive and interactive experiences. To real ize light-field 3D \n",
      "displays, it is necessary to generate 3D images by discretizing light \n",
      "fields into multiple views of high angular resolutions and sending \n",
      "view images precisely to speci fic viewing angles and viewers’ eyes \n",
      "to stimulate realistic and visual dept h responses. To realize such \n",
      "advanced 3D displays with 2D display panels/pixel arrays, it is \n",
      "desirable that the light output of  the display pixels possess \n",
      "tight/narrow angular distribution (i.e., high directivity) such that it \n",
      "can be further precisely projecte d to designated directions by other \n",
      "optical elements, suppressing cross-tal ks between image views as \n",
      "much as possible. [1] Meanwhile, for AR devices, it is also desired \n",
      "that light output of the image generation devices (li ke \n",
      "microdisplays) possess tight/narrow angular distribution (i.e., high  \n",
      "directivity), as image light can be more effectively and precisely \n",
      "delivered to viewers’ eyes with much simplified optical designs/ \n",
      "Figure. 1.  Microcavity OLED structure s with DBR pairs. structures, lower optical loss and thus higher light utilization \n",
      "efficiency. [2] \n",
      "Due to their various merits for di splay applications, OLED(organic \n",
      "light-emitting diode) displays are certainly also being adopted or \n",
      "being considered important candidate  technologies for these \n",
      "advanced display applications (e.g., OLED microdisplays for AR \n",
      "glasses). To meet demands  of these advanced applications, it would \n",
      "be highly desired and useful that OLED devices with small-\n",
      "divergence-angle (i.e., high-direct ivity) emission and yet still \n",
      "maintaining decent efficiencies can be realized. In this wor k, \n",
      "through simulation, we investigate d possible device structures for \n",
      "such purposes and devise prospective  high-directivity OLED\n",
      "[Paper] /Users/weikai/Library/CloudStorage/Dropbox/paper/CCWu/CCWu 2022 High-Directivity Emitting Pixel Devices for Advanced Display Applications.pdf\n",
      "Page: 0\n",
      "High-Directivity Emitting Pixel Devi ces for Advanced Display Applications \n",
      "Po-Jui Chen*, Chi-Jui Chang*, Wei-Kai Lee*, Zih-Rou Cyue*, Li-Yu Yu**, Hoang Yan Lin**, \n",
      "Guo-Dung J. Su**,  Chung-Chia Chen ***, Wan-Yu Lin ***, B. Leo Kwak ***,  \n",
      "Robert Jan Visser *** and Chung-Chih Wu* \n",
      "* Graduate Institute of Electro nics Engineering, National Taiwan University, Taipei 106, Taiwan \n",
      "** Graduate Institute of Photonics and Optoelect ronics, National Taiwan U niversity, Taipei 106, Taiwan \n",
      "*** Applied Materials, Inc., California 95052, United States of America \n",
      " \n",
      "Abstract \n",
      "For advanced displays like AR or light-field 3D displays, highly \n",
      "narrow emission patterns (high di rectivity) from display pixels are \n",
      "highly desired for achieving angula r resolutions or higher optical \n",
      "efficiency. In this work, we report an OLED pixel device \n",
      "architecture that can generate hi ghly directional emission and yet \n",
      "also keep decent efficiency. By combining with other optical \n",
      "elements and optical systems, su ch OLED pixel device architecture \n",
      "shall find use in advanced displays.  \n",
      "Author Keywords \n",
      "high-directivity pixel; OLED displays ; nanostructures; light field \n",
      "displays. \n",
      "1. Objective and Background \n",
      "To pursue more vivid and realistic vi ewing experiences and human-\n",
      "computer interactions, advanced three-dimensional (3D) display \n",
      "technologies such as light field displays, ei ther direct-view or near-\n",
      "to-eye (like VR and AR), are being  intensively investigated. On the \n",
      "other hand, wearable VR/AR devices,  usually also with 3D visual \n",
      "functionalities, are also being  widely developed to give users rich \n",
      "immersive and interactive experiences. To real ize light-field 3D \n",
      "displays, it is necessary to generate 3D images by discretizing light \n",
      "fields into multiple views of high angular resolutions and sending \n",
      "view images precisely to speci fic viewing angles and viewers’ eyes \n",
      "to stimulate realistic and visual dept h responses. To realize such\n"
     ]
    }
   ],
   "source": [
    "for r in ans:\n",
    "    print( f'[Paper] {r.metadata['source']}' )\n",
    "    print( f'Page: {r.metadata['page']}' )\n",
    "    print( r.page_content )"
   ]
  },
  {
   "cell_type": "code",
   "execution_count": null,
   "metadata": {},
   "outputs": [],
   "source": []
  },
  {
   "cell_type": "code",
   "execution_count": null,
   "metadata": {},
   "outputs": [],
   "source": []
  },
  {
   "cell_type": "code",
   "execution_count": null,
   "metadata": {},
   "outputs": [],
   "source": []
  }
 ],
 "metadata": {
  "kernelspec": {
   "display_name": "OLED_RAG",
   "language": "python",
   "name": "python3"
  },
  "language_info": {
   "codemirror_mode": {
    "name": "ipython",
    "version": 3
   },
   "file_extension": ".py",
   "mimetype": "text/x-python",
   "name": "python",
   "nbconvert_exporter": "python",
   "pygments_lexer": "ipython3",
   "version": "3.12.1"
  }
 },
 "nbformat": 4,
 "nbformat_minor": 2
}
