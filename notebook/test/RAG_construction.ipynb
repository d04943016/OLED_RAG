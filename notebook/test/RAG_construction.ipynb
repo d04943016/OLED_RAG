{
 "cells": [
  {
   "cell_type": "markdown",
   "metadata": {},
   "source": [
    "# Environment"
   ]
  },
  {
   "cell_type": "code",
   "execution_count": 1,
   "metadata": {},
   "outputs": [],
   "source": [
    "# !pip install langchain langchain_openai rich\n",
    "# !pip install pypdf chromadb rapidocr-onnxruntime"
   ]
  },
  {
   "cell_type": "markdown",
   "metadata": {},
   "source": [
    "# Import"
   ]
  },
  {
   "cell_type": "code",
   "execution_count": 2,
   "metadata": {},
   "outputs": [],
   "source": [
    "# 匯入套件和金鑰\n",
    "import os\n",
    "from rich import print as pprint\n",
    "from langchain_openai import ChatOpenAI\n",
    "\n",
    "from dotenv import load_dotenv\n",
    "load_dotenv()\n",
    "\n",
    "from langchain_community.document_loaders import PyPDFLoader\n",
    "from langchain.indexes import VectorstoreIndexCreator\n",
    "from langchain_openai import OpenAIEmbeddings\n",
    "from langchain_community.vectorstores import Chroma\n",
    "\n",
    "from langchain_core.output_parsers import StrOutputParser\n",
    "from langchain_core.prompts import ChatPromptTemplate\n",
    "from langchain_core.runnables import RunnablePassthrough"
   ]
  },
  {
   "cell_type": "code",
   "execution_count": 3,
   "metadata": {},
   "outputs": [],
   "source": [
    "# load LLM model\n",
    "chat_model = ChatOpenAI(model_name=\"gpt-3.5-turbo\", api_key=os.getenv(\"OPENAI_API_KEY\"))"
   ]
  },
  {
   "cell_type": "code",
   "execution_count": 4,
   "metadata": {},
   "outputs": [
    {
     "data": {
      "text/html": [
       "<pre style=\"white-space:pre;overflow-x:auto;line-height:normal;font-family:Menlo,'DejaVu Sans Mono',consolas,'Courier New',monospace\">The PDF file has <span style=\"color: #008080; text-decoration-color: #008080; font-weight: bold\">12</span> pages\n",
       "</pre>\n"
      ],
      "text/plain": [
       "The PDF file has \u001b[1;36m12\u001b[0m pages\n"
      ]
     },
     "metadata": {},
     "output_type": "display_data"
    }
   ],
   "source": [
    "# load PDF file\n",
    "pdf_filepath = '/Users/weikai/Library/CloudStorage/Dropbox/paper/CCWu'\n",
    "pdf_filename = 'CCWu 2021 Modified distributed Bragg reflector for protecting organic light-emitting diode displays against ultraviolet light.pdf'\n",
    "\n",
    "loader = PyPDFLoader(file_path=os.path.join(pdf_filepath, pdf_filename))\n",
    "docs = loader.load()\n",
    "pprint(f'The PDF file has {len(docs)} pages')\n",
    "\n",
    "# pprint(docs[0])"
   ]
  },
  {
   "cell_type": "code",
   "execution_count": 5,
   "metadata": {},
   "outputs": [
    {
     "name": "stderr",
     "output_type": "stream",
     "text": [
      "/Users/weikai/opt/anaconda3/envs/OLED_RAG/lib/python3.12/site-packages/langchain/indexes/vectorstore.py:129: UserWarning: Using InMemoryVectorStore as the default vectorstore.This memory store won't persist data. You should explicitlyspecify a vectorstore when using VectorstoreIndexCreator\n",
      "  warnings.warn(\n"
     ]
    }
   ],
   "source": [
    "# load embeddings model\n",
    "embeddings_model=OpenAIEmbeddings(model='text-embedding-3-large')\n",
    "index = VectorstoreIndexCreator(embedding=embeddings_model).from_loaders([loader])"
   ]
  },
  {
   "cell_type": "code",
   "execution_count": 6,
   "metadata": {},
   "outputs": [
    {
     "data": {
      "text/html": [
       "<pre style=\"white-space:pre;overflow-x:auto;line-height:normal;font-family:Menlo,'DejaVu Sans Mono',consolas,'Courier New',monospace\">The key idea of this paper is to develop a UV/HEV-blocking structure that can provide effective UV/HEV blocking \n",
       "<span style=\"font-weight: bold\">(</span>absorption<span style=\"font-weight: bold\">)</span>, high visible transmission, and a sharp transmission transition at specific wavelength ranges while \n",
       "also being simple, cost-effective, and capable of maintaining the emission characteristics of displays like OLEDs. \n",
       "The paper discusses the challenges of achieving these optical properties and explores the use of optical \n",
       "structures, such as DBR <span style=\"font-weight: bold\">(</span>Distributed Bragg Reflector<span style=\"font-weight: bold\">)</span> pairs, in combination with UV absorption materials to meet \n",
       "these requirements. It also emphasizes the importance of protecting OLED panels against solar degradation by using \n",
       "a combination of polarizers and UV-blocking DBRs.\n",
       "</pre>\n"
      ],
      "text/plain": [
       "The key idea of this paper is to develop a UV/HEV-blocking structure that can provide effective UV/HEV blocking \n",
       "\u001b[1m(\u001b[0mabsorption\u001b[1m)\u001b[0m, high visible transmission, and a sharp transmission transition at specific wavelength ranges while \n",
       "also being simple, cost-effective, and capable of maintaining the emission characteristics of displays like OLEDs. \n",
       "The paper discusses the challenges of achieving these optical properties and explores the use of optical \n",
       "structures, such as DBR \u001b[1m(\u001b[0mDistributed Bragg Reflector\u001b[1m)\u001b[0m pairs, in combination with UV absorption materials to meet \n",
       "these requirements. It also emphasizes the importance of protecting OLED panels against solar degradation by using \n",
       "a combination of polarizers and UV-blocking DBRs.\n"
      ]
     },
     "metadata": {},
     "output_type": "display_data"
    }
   ],
   "source": [
    "query = \"What is the key idea of this paper?\"\n",
    "response = index.query(llm=chat_model, question=query)\n",
    "pprint(response)"
   ]
  },
  {
   "cell_type": "code",
   "execution_count": 7,
   "metadata": {},
   "outputs": [
    {
     "data": {
      "text/plain": [
       "<langchain_community.vectorstores.chroma.Chroma at 0x11b7a6b70>"
      ]
     },
     "execution_count": 7,
     "metadata": {},
     "output_type": "execute_result"
    }
   ],
   "source": [
    "Chroma.from_documents(documents=docs,\n",
    "                      embedding=embeddings_model,\n",
    "                      persist_directory='./chromadb',\n",
    "                      collection_metadata={\"hnsw:space\": \"cosine\"})"
   ]
  },
  {
   "cell_type": "code",
   "execution_count": 8,
   "metadata": {},
   "outputs": [],
   "source": [
    "db = Chroma(persist_directory='./chromadb', \n",
    "            embedding_function=embeddings_model)"
   ]
  },
  {
   "cell_type": "code",
   "execution_count": 18,
   "metadata": {},
   "outputs": [
    {
     "name": "stdout",
     "output_type": "stream",
     "text": [
      "傳回 2 筆資料\n"
     ]
    },
    {
     "data": {
      "text/html": [
       "<pre style=\"white-space:pre;overflow-x:auto;line-height:normal;font-family:Menlo,'DejaVu Sans Mono',consolas,'Courier New',monospace\"><span style=\"font-weight: bold\">[</span>\n",
       "    <span style=\"color: #800080; text-decoration-color: #800080; font-weight: bold\">Document</span><span style=\"font-weight: bold\">(</span>\n",
       "        <span style=\"color: #808000; text-decoration-color: #808000\">page_content</span>=<span style=\"color: #008000; text-decoration-color: #008000\">'Research Article Vol. 29, No. 5 / 1 March 2021 / Optics Express 7660\\nis the peak wavelength </span>\n",
       "<span style=\"color: #008000; text-decoration-color: #008000\">of the first ripple in the conventional DBR (Fig. 4(a)), the peak-to-valley\\nmodulation of the total electric field</span>\n",
       "<span style=\"color: #008000; text-decoration-color: #008000\">in the conventional DBR (Fig. 5(a)) is larger than that in the\\n2ndmodified DBR (Fig. 5(b)). Since the total field </span>\n",
       "<span style=\"color: #008000; text-decoration-color: #008000\">is composed of waves propagating toward </span>\n",
       "<span style=\"color: #008000; text-decoration-color: #008000\">+z\\nand-z,largerpeak-to-valleymodulationindicatesthatmoresimilarintensitiesbetween </span>\n",
       "<span style=\"color: #008000; text-decoration-color: #008000\">+zand-z\\npropagatingwaves(strongercollectivereflection). </span>\n",
       "<span style=\"color: #008000; text-decoration-color: #008000\">Meanwhile,thelowpeak-to-valleymodulation\\ninthe2ndmodifiedDBRshowsthatadjustingthelayerthicknessesinthefirstpairand</span>\n",
       "<span style=\"color: #008000; text-decoration-color: #008000\">thelast\\npair can effectively suppressing the intensity of the -z propagating (reflecting) wave and </span>\n",
       "<span style=\"color: #008000; text-decoration-color: #008000\">thus\\nsubstantially enhance the overall transmittance.\\nFig. 5.Simulated distributions of total electric field </span>\n",
       "<span style=\"color: #008000; text-decoration-color: #008000\">intensities in the 6-pair DBRs for\\nwavelengthsof300nm,370nm,and493nm: </span>\n",
       "<span style=\"color: #008000; text-decoration-color: #008000\">(a)theconventionalDBRstructure,(b)2nd\\nmodified DBR </span>\n",
       "<span style=\"color: #008000; text-decoration-color: #008000\">design.\\nFollowingthe2ndmodifiedDBRdesignstrategy,Fig.6showscalculatedT-R-Aspectrafor\\n6-pair 2ndmodified DBR </span>\n",
       "<span style=\"color: #008000; text-decoration-color: #008000\">structures with varied λTof 350nm to 390nm (while more detailed\\nproperties are summarized in Table S2 of </span>\n",
       "<span style=\"color: #008000; text-decoration-color: #008000\">Supplement 1). It is seen that boundaries/edges of\\ntheir transmittance and reflection spectra can be readily </span>\n",
       "<span style=\"color: #008000; text-decoration-color: #008000\">blue-shifted with reducing the target\\nresonant wavelength λT(simply by adjusting the layer thicknesses), if </span>\n",
       "<span style=\"color: #008000; text-decoration-color: #008000\">desired (e.g., when deeper\\nblue OLED pixels is desired and adopted and thus a different balance between blue EL </span>\n",
       "<span style=\"color: #008000; text-decoration-color: #008000\">and UV\\nblockingisrequired). </span>\n",
       "<span style=\"color: #008000; text-decoration-color: #008000\">This(easyandprecisetuningofthetransitionwavelengthandsharpness\\nofthetransmittancespectrum)perhapsisaparticularadva</span>\n",
       "<span style=\"color: #008000; text-decoration-color: #008000\">ntageandconvenienceofusingthe\\nDBRstructureforUVblocking,comparedtootherapproaches(e.g.,simplyusingabsorption\\nprop</span>\n",
       "<span style=\"color: #008000; text-decoration-color: #008000\">erties of materials). From these results, it is also clear that for a blue OLED pixel with\\nELpeakingaround460nm, </span>\n",
       "<span style=\"color: #008000; text-decoration-color: #008000\">λTof370nmgivesareasonablebalancebetweenblueELandUV\\nblocking.\\nFig. 6.Calculated (a) transmittance spectra, (b) </span>\n",
       "<span style=\"color: #008000; text-decoration-color: #008000\">reflectance spectra, and (c) absorptance\\nspectra for 2ndmodified DBR structures with 6 pairs and λT=350nm, 360nm, </span>\n",
       "<span style=\"color: #008000; text-decoration-color: #008000\">370nm,\\n380nm, and 390nm.\\nIt is also worthy of stressing other advantages of the current modified DBR design </span>\n",
       "<span style=\"color: #008000; text-decoration-color: #008000\">compared\\nto conventional DBR designs. Although DBR is a common technology, it is still generally'</span>,\n",
       "        <span style=\"color: #808000; text-decoration-color: #808000\">metadata</span>=<span style=\"font-weight: bold\">{</span>\n",
       "            <span style=\"color: #008000; text-decoration-color: #008000\">'page'</span>: <span style=\"color: #008080; text-decoration-color: #008080; font-weight: bold\">6</span>,\n",
       "            <span style=\"color: #008000; text-decoration-color: #008000\">'source'</span>: <span style=\"color: #008000; text-decoration-color: #008000\">'/Users/weikai/Library/CloudStorage/Dropbox/paper/CCWu/CCWu 2021 Modified distributed Bragg </span>\n",
       "<span style=\"color: #008000; text-decoration-color: #008000\">reflector for protecting organic light-emitting diode displays against ultraviolet light.pdf'</span>\n",
       "        <span style=\"font-weight: bold\">}</span>\n",
       "    <span style=\"font-weight: bold\">)</span>,\n",
       "    <span style=\"color: #800080; text-decoration-color: #800080; font-weight: bold\">Document</span><span style=\"font-weight: bold\">(</span>\n",
       "        <span style=\"color: #808000; text-decoration-color: #808000\">page_content</span>=<span style=\"color: #008000; text-decoration-color: #008000\">'Research Article Vol. 29, No. 5 / 1 March 2021 / Optics Express 7664\\n(architecture </span>\n",
       "<span style=\"color: #008000; text-decoration-color: #008000\">A)sufferlargevoltageshift( </span>\n",
       "<span style=\"color: #008000; text-decoration-color: #008000\">∆V=2.62Vafter25testcycles),clearlymanifesting\\ndetrimentaleffectofsunlightirradiationonOLEDs. </span>\n",
       "<span style=\"color: #008000; text-decoration-color: #008000\">Thepolarizerinarchitecture B(conventional\\nOLEDpanelstructure)providespartialUVprotectionandthusreduces </span>\n",
       "<span style=\"color: #008000; text-decoration-color: #008000\">∆V(∆V=1.3∼1.5Vafter\\n25 cycles). Finally, combining the polarizer and UV-blocking DBR (architecture C) </span>\n",
       "<span style=\"color: #008000; text-decoration-color: #008000\">provides\\nfurther protection of OLED panels against solar degradation, and ∆V after 25 test cycles </span>\n",
       "<span style=\"color: #008000; text-decoration-color: #008000\">is\\nfurtherreduceddownto ∆V∼0.8V,confirmingeffectivenessofthedesignedUV-blockingDBRs\\nherein. </span>\n",
       "<span style=\"color: #008000; text-decoration-color: #008000\">Itisalsonoticedthatboth6-pairand7-pairUV-blockingDBRsstructuresprovidesimilar\\nprotection against UV/HEV light. </span>\n",
       "<span style=\"color: #008000; text-decoration-color: #008000\">Table S4 in Supplement 1 further provides a summary of\\nthe luminanceof theOLED device undera sameoperation voltage</span>\n",
       "<span style=\"color: #008000; text-decoration-color: #008000\">(4V) before andafter being\\nsubjectedtothesolartestarchitectures A,B,and </span>\n",
       "<span style=\"color: #008000; text-decoration-color: #008000\">C(with6-pair2ndmodifiedDBRstructure),\\nagain confirming effectiveness of the designed UV-blocking DBR </span>\n",
       "<span style=\"color: #008000; text-decoration-color: #008000\">structures.\\n5. Conclusion\\nIn summary, we developed modified DBR structures composed of UV-absorbing and </span>\n",
       "<span style=\"color: #008000; text-decoration-color: #008000\">dielectric\\nmaterials for protecting OLED panels against UV/HEV irradiation and degradation, </span>\n",
       "<span style=\"color: #008000; text-decoration-color: #008000\">thus\\nstrengtheningtheiroutdoorapplications. Bytuningthicknessesofhigh-index/low-indexlayers\\nin the DBR pairs, we </span>\n",
       "<span style=\"color: #008000; text-decoration-color: #008000\">designed and fabricated 6-pair and 7-pair UV-blocking structures with\\nseveral significant merits, such as nearly </span>\n",
       "<span style=\"color: #008000; text-decoration-color: #008000\">constant high transmittance of up to 91% over the\\nwhole spectral range, very sharp drop of transmittance around </span>\n",
       "<span style=\"color: #008000; text-decoration-color: #008000\">the deep-blue/near-UV region,\\nand effective protection against UV/HEV light, making them suitable for </span>\n",
       "<span style=\"color: #008000; text-decoration-color: #008000\">incorporation into\\nOLED display panels with minimal impacts on display colors and efficiencies, etc. </span>\n",
       "<span style=\"color: #008000; text-decoration-color: #008000\">Furthermore,\\nwe also studied the total electric fields in the modified DBR structure. The simulation </span>\n",
       "<span style=\"color: #008000; text-decoration-color: #008000\">results\\nreveal that in the modified UV-blocking DBR structure, the reflection at visible wavelengths can\\nbe </span>\n",
       "<span style=\"color: #008000; text-decoration-color: #008000\">effectively suppressed by adjusting the thicknesses of the first and the last pair in the DBR\\nstructure. </span>\n",
       "<span style=\"color: #008000; text-decoration-color: #008000\">SuchUV/HEV-blockingstructureswithhighandflattransmittanceinthevisiblerange\\nare applicable not only in displays but</span>\n",
       "<span style=\"color: #008000; text-decoration-color: #008000\">maybe also in the other areas requiring high-performance\\noptical thin-film coating. Finally, solar test </span>\n",
       "<span style=\"color: #008000; text-decoration-color: #008000\">experiments of OLED panels verified usefulness\\nof developed UV-blocking DBRs for reducing UV/HEV/solar-induced </span>\n",
       "<span style=\"color: #008000; text-decoration-color: #008000\">degradation and voltage\\nshifts in OLED devices.\\nFunding. AU Optronics.\\nDisclosures. The authors declare that </span>\n",
       "<span style=\"color: #008000; text-decoration-color: #008000\">there are no conflicts of interest related to this article.\\nSupplemental document. See Supplement 1 for supporting</span>\n",
       "<span style=\"color: #008000; text-decoration-color: #008000\">content.\\nReferences\\n1.Y. Zhang, M. M. A. Abdelmalek, Q. Wang, and H. Aziz, “Degradation mechanism in simplified </span>\n",
       "<span style=\"color: #008000; text-decoration-color: #008000\">phosphorescent\\norganiclight-emittingdevicesutilizingonematerialforholetransportandemitterhost,”Appl.Phys.Lett. </span>\n",
       "<span style=\"color: #008000; text-decoration-color: #008000\">103(6),\\n063307 </span>\n",
       "<span style=\"color: #008000; text-decoration-color: #008000\">(2013).\\n2.H.J.O.Colditz,R.Kurt,andM.Büchel,“Photodegradationandwavelengthdependencyofbluepolymerlight-emitting\\ndi</span>\n",
       "<span style=\"color: #008000; text-decoration-color: #008000\">ode devices,” Appl. Phys. Lett. 87(25), 253505 </span>\n",
       "<span style=\"color: #008000; text-decoration-color: #008000\">(2005).\\n3.K.Thangaraju,J.Kumar,P.Amaladass,A.K.Mohanakrishnan,andV.Narayanan,“Studyonphotoluminescence\\nfrom </span>\n",
       "<span style=\"color: #008000; text-decoration-color: #008000\">tris-(8-hydroxyquinoline) aluminum thin films and influence of light,” Appl. Phys. Lett. 89(8), 082106 </span>\n",
       "<span style=\"color: #008000; text-decoration-color: #008000\">(2006).\\n4.R.Seifert,S.Scholz,B.Lüssem,andK.Leo,“Comparisonofultraviolet-andchargeinduceddegradationphenomena\\nin </span>\n",
       "<span style=\"color: #008000; text-decoration-color: #008000\">blue fluorescent organic light emitting diodes,” Appl. Phys. Lett. 97(1), 013308 (2010).\\n5.Q. Wang, G.Williams, T.</span>\n",
       "<span style=\"color: #008000; text-decoration-color: #008000\">Tsui, andH. Aziz,“Photochemical deteriorationof the organic/metalcontacts inorganic\\noptoelectronic devices,” J. </span>\n",
       "<span style=\"color: #008000; text-decoration-color: #008000\">Appl. Phys. 112(6), 064502 (2012).\\n6.S. Scholz, K. Walzer, and K. Leo, “Analysis of Complete Organic Semiconductor</span>\n",
       "<span style=\"color: #008000; text-decoration-color: #008000\">Devices by Laser Desorp-\\ntion/Ionization Time-of-Flight Mass Spectrometry,” Adv. Funct. Mater. 18(17), 2541–2547 </span>\n",
       "<span style=\"color: #008000; text-decoration-color: #008000\">(2008).\\n7.F.P.Rosselli,W.G.Quirino,C.Legnani,V.L.Calil,K.C.Teixeira,A.A.Leitão,R.B.Capaz,M.Cremona,and\\nC.A.Achete</span>\n",
       "<span style=\"color: #008000; text-decoration-color: #008000\">,“Experimentalandtheoreticalinvestigationoftris-(8-hydroxy-quinolinate)aluminum(Alq 3)photo\\ndegradation,” Org. </span>\n",
       "<span style=\"color: #008000; text-decoration-color: #008000\">Electron. 10(8), 1417–1423 </span>\n",
       "<span style=\"color: #008000; text-decoration-color: #008000\">(2009).\\n8.Q.Wang,Y.Luo,andH.Aziz,“Photodegradationoftheorganic/metalcathodeinterfaceinorganiclight-emitting\\ndevic</span>\n",
       "<span style=\"color: #008000; text-decoration-color: #008000\">es,” Appl. Phys. Lett. 97(6), 063309 (2010).'</span>,\n",
       "        <span style=\"color: #808000; text-decoration-color: #808000\">metadata</span>=<span style=\"font-weight: bold\">{</span>\n",
       "            <span style=\"color: #008000; text-decoration-color: #008000\">'page'</span>: <span style=\"color: #008080; text-decoration-color: #008080; font-weight: bold\">10</span>,\n",
       "            <span style=\"color: #008000; text-decoration-color: #008000\">'source'</span>: <span style=\"color: #008000; text-decoration-color: #008000\">'/Users/weikai/Library/CloudStorage/Dropbox/paper/CCWu/CCWu 2021 Modified distributed Bragg </span>\n",
       "<span style=\"color: #008000; text-decoration-color: #008000\">reflector for protecting organic light-emitting diode displays against ultraviolet light.pdf'</span>\n",
       "        <span style=\"font-weight: bold\">}</span>\n",
       "    <span style=\"font-weight: bold\">)</span>\n",
       "<span style=\"font-weight: bold\">]</span>\n",
       "</pre>\n"
      ],
      "text/plain": [
       "\u001b[1m[\u001b[0m\n",
       "    \u001b[1;35mDocument\u001b[0m\u001b[1m(\u001b[0m\n",
       "        \u001b[33mpage_content\u001b[0m=\u001b[32m'Research Article Vol. 29, No. 5 / 1 March 2021 / Optics Express 7660\\nis the peak wavelength \u001b[0m\n",
       "\u001b[32mof the first ripple in the conventional DBR \u001b[0m\u001b[32m(\u001b[0m\u001b[32mFig. 4\u001b[0m\u001b[32m(\u001b[0m\u001b[32ma\u001b[0m\u001b[32m)\u001b[0m\u001b[32m)\u001b[0m\u001b[32m, the peak-to-valley\\nmodulation of the total electric field\u001b[0m\n",
       "\u001b[32min the conventional DBR \u001b[0m\u001b[32m(\u001b[0m\u001b[32mFig. 5\u001b[0m\u001b[32m(\u001b[0m\u001b[32ma\u001b[0m\u001b[32m)\u001b[0m\u001b[32m)\u001b[0m\u001b[32m is larger than that in the\\n2ndmodified DBR \u001b[0m\u001b[32m(\u001b[0m\u001b[32mFig. 5\u001b[0m\u001b[32m(\u001b[0m\u001b[32mb\u001b[0m\u001b[32m)\u001b[0m\u001b[32m)\u001b[0m\u001b[32m. Since the total field \u001b[0m\n",
       "\u001b[32mis composed of waves propagating toward \u001b[0m\n",
       "\u001b[32m+z\\nand-z,largerpeak-to-valleymodulationindicatesthatmoresimilarintensitiesbetween \u001b[0m\n",
       "\u001b[32m+zand-z\\npropagatingwaves\u001b[0m\u001b[32m(\u001b[0m\u001b[32mstrongercollectivereflection\u001b[0m\u001b[32m)\u001b[0m\u001b[32m. \u001b[0m\n",
       "\u001b[32mMeanwhile,thelowpeak-to-valleymodulation\\ninthe2ndmodifiedDBRshowsthatadjustingthelayerthicknessesinthefirstpairand\u001b[0m\n",
       "\u001b[32mthelast\\npair can effectively suppressing the intensity of the -z propagating \u001b[0m\u001b[32m(\u001b[0m\u001b[32mreflecting\u001b[0m\u001b[32m)\u001b[0m\u001b[32m wave and \u001b[0m\n",
       "\u001b[32mthus\\nsubstantially enhance the overall transmittance.\\nFig. 5.Simulated distributions of total electric field \u001b[0m\n",
       "\u001b[32mintensities in the 6-pair DBRs for\\nwavelengthsof300nm,370nm,and493nm: \u001b[0m\n",
       "\u001b[32m(\u001b[0m\u001b[32ma\u001b[0m\u001b[32m)\u001b[0m\u001b[32mtheconventionalDBRstructure,\u001b[0m\u001b[32m(\u001b[0m\u001b[32mb\u001b[0m\u001b[32m)\u001b[0m\u001b[32m2nd\\nmodified DBR \u001b[0m\n",
       "\u001b[32mdesign.\\nFollowingthe2ndmodifiedDBRdesignstrategy,Fig.6showscalculatedT-R-Aspectrafor\\n6-pair 2ndmodified DBR \u001b[0m\n",
       "\u001b[32mstructures with varied λTof 350nm to 390nm \u001b[0m\u001b[32m(\u001b[0m\u001b[32mwhile more detailed\\nproperties are summarized in Table S2 of \u001b[0m\n",
       "\u001b[32mSupplement 1\u001b[0m\u001b[32m)\u001b[0m\u001b[32m. It is seen that boundaries/edges of\\ntheir transmittance and reflection spectra can be readily \u001b[0m\n",
       "\u001b[32mblue-shifted with reducing the target\\nresonant wavelength λT\u001b[0m\u001b[32m(\u001b[0m\u001b[32msimply by adjusting the layer thicknesses\u001b[0m\u001b[32m)\u001b[0m\u001b[32m, if \u001b[0m\n",
       "\u001b[32mdesired \u001b[0m\u001b[32m(\u001b[0m\u001b[32me.g., when deeper\\nblue OLED pixels is desired and adopted and thus a different balance between blue EL \u001b[0m\n",
       "\u001b[32mand UV\\nblockingisrequired\u001b[0m\u001b[32m)\u001b[0m\u001b[32m. \u001b[0m\n",
       "\u001b[32mThis\u001b[0m\u001b[32m(\u001b[0m\u001b[32measyandprecisetuningofthetransitionwavelengthandsharpness\\nofthetransmittancespectrum\u001b[0m\u001b[32m)\u001b[0m\u001b[32mperhapsisaparticularadva\u001b[0m\n",
       "\u001b[32mntageandconvenienceofusingthe\\nDBRstructureforUVblocking,comparedtootherapproaches\u001b[0m\u001b[32m(\u001b[0m\u001b[32me.g.,simplyusingabsorption\\nprop\u001b[0m\n",
       "\u001b[32merties of materials\u001b[0m\u001b[32m)\u001b[0m\u001b[32m. From these results, it is also clear that for a blue OLED pixel with\\nELpeakingaround460nm, \u001b[0m\n",
       "\u001b[32mλTof370nmgivesareasonablebalancebetweenblueELandUV\\nblocking.\\nFig. 6.Calculated \u001b[0m\u001b[32m(\u001b[0m\u001b[32ma\u001b[0m\u001b[32m)\u001b[0m\u001b[32m transmittance spectra, \u001b[0m\u001b[32m(\u001b[0m\u001b[32mb\u001b[0m\u001b[32m)\u001b[0m\u001b[32m \u001b[0m\n",
       "\u001b[32mreflectance spectra, and \u001b[0m\u001b[32m(\u001b[0m\u001b[32mc\u001b[0m\u001b[32m)\u001b[0m\u001b[32m absorptance\\nspectra for 2ndmodified DBR structures with 6 pairs and \u001b[0m\u001b[32mλT\u001b[0m\u001b[32m=\u001b[0m\u001b[32m350nm\u001b[0m\u001b[32m, 360nm, \u001b[0m\n",
       "\u001b[32m370nm,\\n380nm, and 390nm.\\nIt is also worthy of stressing other advantages of the current modified DBR design \u001b[0m\n",
       "\u001b[32mcompared\\nto conventional DBR designs. Although DBR is a common technology, it is still generally'\u001b[0m,\n",
       "        \u001b[33mmetadata\u001b[0m=\u001b[1m{\u001b[0m\n",
       "            \u001b[32m'page'\u001b[0m: \u001b[1;36m6\u001b[0m,\n",
       "            \u001b[32m'source'\u001b[0m: \u001b[32m'/Users/weikai/Library/CloudStorage/Dropbox/paper/CCWu/CCWu 2021 Modified distributed Bragg \u001b[0m\n",
       "\u001b[32mreflector for protecting organic light-emitting diode displays against ultraviolet light.pdf'\u001b[0m\n",
       "        \u001b[1m}\u001b[0m\n",
       "    \u001b[1m)\u001b[0m,\n",
       "    \u001b[1;35mDocument\u001b[0m\u001b[1m(\u001b[0m\n",
       "        \u001b[33mpage_content\u001b[0m=\u001b[32m'Research Article Vol. 29, No. 5 / 1 March 2021 / Optics Express 7664\\n\u001b[0m\u001b[32m(\u001b[0m\u001b[32marchitecture \u001b[0m\n",
       "\u001b[32mA\u001b[0m\u001b[32m)\u001b[0m\u001b[32msufferlargevoltageshift\u001b[0m\u001b[32m(\u001b[0m\u001b[32m \u001b[0m\n",
       "\u001b[32m∆\u001b[0m\u001b[32mV\u001b[0m\u001b[32m=\u001b[0m\u001b[32m2\u001b[0m\u001b[32m.62Vafter25testcycles\u001b[0m\u001b[32m)\u001b[0m\u001b[32m,clearlymanifesting\\ndetrimentaleffectofsunlightirradiationonOLEDs. \u001b[0m\n",
       "\u001b[32mThepolarizerinarchitecture B\u001b[0m\u001b[32m(\u001b[0m\u001b[32mconventional\\nOLEDpanelstructure\u001b[0m\u001b[32m)\u001b[0m\u001b[32mprovidespartialUVprotectionandthusreduces \u001b[0m\n",
       "\u001b[32m∆V\u001b[0m\u001b[32m(\u001b[0m\u001b[32m∆\u001b[0m\u001b[32mV\u001b[0m\u001b[32m=\u001b[0m\u001b[32m1\u001b[0m\u001b[32m.3∼1.5Vafter\\n25 cycles\u001b[0m\u001b[32m)\u001b[0m\u001b[32m. Finally, combining the polarizer and UV-blocking DBR \u001b[0m\u001b[32m(\u001b[0m\u001b[32marchitecture C\u001b[0m\u001b[32m)\u001b[0m\u001b[32m \u001b[0m\n",
       "\u001b[32mprovides\\nfurther protection of OLED panels against solar degradation, and ∆V after 25 test cycles \u001b[0m\n",
       "\u001b[32mis\\nfurtherreduceddownto ∆V∼0.8V,confirmingeffectivenessofthedesignedUV-blockingDBRs\\nherein. \u001b[0m\n",
       "\u001b[32mItisalsonoticedthatboth6-pairand7-pairUV-blockingDBRsstructuresprovidesimilar\\nprotection against UV/HEV light. \u001b[0m\n",
       "\u001b[32mTable S4 in Supplement 1 further provides a summary of\\nthe luminanceof theOLED device undera sameoperation voltage\u001b[0m\n",
       "\u001b[32m(\u001b[0m\u001b[32m4V\u001b[0m\u001b[32m)\u001b[0m\u001b[32m before andafter being\\nsubjectedtothesolartestarchitectures A,B,and \u001b[0m\n",
       "\u001b[32mC\u001b[0m\u001b[32m(\u001b[0m\u001b[32mwith6-pair2ndmodifiedDBRstructure\u001b[0m\u001b[32m)\u001b[0m\u001b[32m,\\nagain confirming effectiveness of the designed UV-blocking DBR \u001b[0m\n",
       "\u001b[32mstructures.\\n5. Conclusion\\nIn summary, we developed modified DBR structures composed of UV-absorbing and \u001b[0m\n",
       "\u001b[32mdielectric\\nmaterials for protecting OLED panels against UV/HEV irradiation and degradation, \u001b[0m\n",
       "\u001b[32mthus\\nstrengtheningtheiroutdoorapplications. Bytuningthicknessesofhigh-index/low-indexlayers\\nin the DBR pairs, we \u001b[0m\n",
       "\u001b[32mdesigned and fabricated 6-pair and 7-pair UV-blocking structures with\\nseveral significant merits, such as nearly \u001b[0m\n",
       "\u001b[32mconstant high transmittance of up to 91% over the\\nwhole spectral range, very sharp drop of transmittance around \u001b[0m\n",
       "\u001b[32mthe deep-blue/near-UV region,\\nand effective protection against UV/HEV light, making them suitable for \u001b[0m\n",
       "\u001b[32mincorporation into\\nOLED display panels with minimal impacts on display colors and efficiencies, etc. \u001b[0m\n",
       "\u001b[32mFurthermore,\\nwe also studied the total electric fields in the modified DBR structure. The simulation \u001b[0m\n",
       "\u001b[32mresults\\nreveal that in the modified UV-blocking DBR structure, the reflection at visible wavelengths can\\nbe \u001b[0m\n",
       "\u001b[32meffectively suppressed by adjusting the thicknesses of the first and the last pair in the DBR\\nstructure. \u001b[0m\n",
       "\u001b[32mSuchUV/HEV-blockingstructureswithhighandflattransmittanceinthevisiblerange\\nare applicable not only in displays but\u001b[0m\n",
       "\u001b[32mmaybe also in the other areas requiring high-performance\\noptical thin-film coating. Finally, solar test \u001b[0m\n",
       "\u001b[32mexperiments of OLED panels verified usefulness\\nof developed UV-blocking DBRs for reducing UV/HEV/solar-induced \u001b[0m\n",
       "\u001b[32mdegradation and voltage\\nshifts in OLED devices.\\nFunding. AU Optronics.\\nDisclosures. The authors declare that \u001b[0m\n",
       "\u001b[32mthere are no conflicts of interest related to this article.\\nSupplemental document. See Supplement 1 for supporting\u001b[0m\n",
       "\u001b[32mcontent.\\nReferences\\n1.Y. Zhang, M. M. A. Abdelmalek, Q. Wang, and H. Aziz, “Degradation mechanism in simplified \u001b[0m\n",
       "\u001b[32mphosphorescent\\norganiclight-emittingdevicesutilizingonematerialforholetransportandemitterhost,”Appl.Phys.Lett. \u001b[0m\n",
       "\u001b[32m103\u001b[0m\u001b[32m(\u001b[0m\u001b[32m6\u001b[0m\u001b[32m)\u001b[0m\u001b[32m,\\n063307 \u001b[0m\n",
       "\u001b[32m(\u001b[0m\u001b[32m2013\u001b[0m\u001b[32m)\u001b[0m\u001b[32m.\\n2.H.J.O.Colditz,R.Kurt,andM.Büchel,“Photodegradationandwavelengthdependencyofbluepolymerlight-emitting\\ndi\u001b[0m\n",
       "\u001b[32mode devices,” Appl. Phys. Lett. 87\u001b[0m\u001b[32m(\u001b[0m\u001b[32m25\u001b[0m\u001b[32m)\u001b[0m\u001b[32m, 253505 \u001b[0m\n",
       "\u001b[32m(\u001b[0m\u001b[32m2005\u001b[0m\u001b[32m)\u001b[0m\u001b[32m.\\n3.K.Thangaraju,J.Kumar,P.Amaladass,A.K.Mohanakrishnan,andV.Narayanan,“Studyonphotoluminescence\\nfrom \u001b[0m\n",
       "\u001b[32mtris-\u001b[0m\u001b[32m(\u001b[0m\u001b[32m8-hydroxyquinoline\u001b[0m\u001b[32m)\u001b[0m\u001b[32m aluminum thin films and influence of light,” Appl. Phys. Lett. 89\u001b[0m\u001b[32m(\u001b[0m\u001b[32m8\u001b[0m\u001b[32m)\u001b[0m\u001b[32m, 082106 \u001b[0m\n",
       "\u001b[32m(\u001b[0m\u001b[32m2006\u001b[0m\u001b[32m)\u001b[0m\u001b[32m.\\n4.R.Seifert,S.Scholz,B.Lüssem,andK.Leo,“Comparisonofultraviolet-andchargeinduceddegradationphenomena\\nin \u001b[0m\n",
       "\u001b[32mblue fluorescent organic light emitting diodes,” Appl. Phys. Lett. 97\u001b[0m\u001b[32m(\u001b[0m\u001b[32m1\u001b[0m\u001b[32m)\u001b[0m\u001b[32m, 013308 \u001b[0m\u001b[32m(\u001b[0m\u001b[32m2010\u001b[0m\u001b[32m)\u001b[0m\u001b[32m.\\n5.Q. Wang, G.Williams, T.\u001b[0m\n",
       "\u001b[32mTsui, andH. Aziz,“Photochemical deteriorationof the organic/metalcontacts inorganic\\noptoelectronic devices,” J. \u001b[0m\n",
       "\u001b[32mAppl. Phys. 112\u001b[0m\u001b[32m(\u001b[0m\u001b[32m6\u001b[0m\u001b[32m)\u001b[0m\u001b[32m, 064502 \u001b[0m\u001b[32m(\u001b[0m\u001b[32m2012\u001b[0m\u001b[32m)\u001b[0m\u001b[32m.\\n6.S. Scholz, K. Walzer, and K. Leo, “Analysis of Complete Organic Semiconductor\u001b[0m\n",
       "\u001b[32mDevices by Laser Desorp-\\ntion/Ionization Time-of-Flight Mass Spectrometry,” Adv. Funct. Mater. 18\u001b[0m\u001b[32m(\u001b[0m\u001b[32m17\u001b[0m\u001b[32m)\u001b[0m\u001b[32m, 2541–2547 \u001b[0m\n",
       "\u001b[32m(\u001b[0m\u001b[32m2008\u001b[0m\u001b[32m)\u001b[0m\u001b[32m.\\n7.F.P.Rosselli,W.G.Quirino,C.Legnani,V.L.Calil,K.C.Teixeira,A.A.Leitão,R.B.Capaz,M.Cremona,and\\nC.A.Achete\u001b[0m\n",
       "\u001b[32m,“Experimentalandtheoreticalinvestigationoftris-\u001b[0m\u001b[32m(\u001b[0m\u001b[32m8-hydroxy-quinolinate\u001b[0m\u001b[32m)\u001b[0m\u001b[32maluminum\u001b[0m\u001b[32m(\u001b[0m\u001b[32mAlq 3\u001b[0m\u001b[32m)\u001b[0m\u001b[32mphoto\\ndegradation,” Org. \u001b[0m\n",
       "\u001b[32mElectron. 10\u001b[0m\u001b[32m(\u001b[0m\u001b[32m8\u001b[0m\u001b[32m)\u001b[0m\u001b[32m, 1417–1423 \u001b[0m\n",
       "\u001b[32m(\u001b[0m\u001b[32m2009\u001b[0m\u001b[32m)\u001b[0m\u001b[32m.\\n8.Q.Wang,Y.Luo,andH.Aziz,“Photodegradationoftheorganic/metalcathodeinterfaceinorganiclight-emitting\\ndevic\u001b[0m\n",
       "\u001b[32mes,” Appl. Phys. Lett. 97\u001b[0m\u001b[32m(\u001b[0m\u001b[32m6\u001b[0m\u001b[32m)\u001b[0m\u001b[32m, 063309 \u001b[0m\u001b[32m(\u001b[0m\u001b[32m2010\u001b[0m\u001b[32m)\u001b[0m\u001b[32m.'\u001b[0m,\n",
       "        \u001b[33mmetadata\u001b[0m=\u001b[1m{\u001b[0m\n",
       "            \u001b[32m'page'\u001b[0m: \u001b[1;36m10\u001b[0m,\n",
       "            \u001b[32m'source'\u001b[0m: \u001b[32m'/Users/weikai/Library/CloudStorage/Dropbox/paper/CCWu/CCWu 2021 Modified distributed Bragg \u001b[0m\n",
       "\u001b[32mreflector for protecting organic light-emitting diode displays against ultraviolet light.pdf'\u001b[0m\n",
       "        \u001b[1m}\u001b[0m\n",
       "    \u001b[1m)\u001b[0m\n",
       "\u001b[1m]\u001b[0m\n"
      ]
     },
     "metadata": {},
     "output_type": "display_data"
    }
   ],
   "source": [
    "retriever = db.as_retriever(search_type=\"similarity\",\n",
    "                            search_kwargs={\"k\": 2})\n",
    "\n",
    "retrieved_docs = retriever.invoke(\"What is the key idea of this paper?\")\n",
    "print(f'傳回 {len(retrieved_docs)} 筆資料')\n",
    "\n",
    "pprint( retrieved_docs )"
   ]
  },
  {
   "cell_type": "code",
   "execution_count": 10,
   "metadata": {},
   "outputs": [],
   "source": [
    "str_parser = StrOutputParser()\n",
    "template = (\n",
    "    \"請根據以下內容加上自身判斷回答問題:\\n\"\n",
    "    \"{context}\\n\"\n",
    "    \"問題: {question}\"\n",
    "    )\n",
    "prompt = ChatPromptTemplate.from_template(template)\n",
    "chain = (\n",
    "    {\"context\": retriever, \"question\": RunnablePassthrough()}\n",
    "    | prompt\n",
    "    | chat_model\n",
    "    | str_parser\n",
    ")"
   ]
  },
  {
   "cell_type": "code",
   "execution_count": 11,
   "metadata": {},
   "outputs": [
    {
     "data": {
      "text/html": [
       "<pre style=\"white-space:pre;overflow-x:auto;line-height:normal;font-family:Menlo,'DejaVu Sans Mono',consolas,'Courier New',monospace\">這篇論文的關鍵觀點是開發了修改後的分佈布拉格反射器結構，由UV吸收和介電材料組成，用於保護OLED面板免受UV/HEV輻射和降\n",
       "解，從而增強它們在戶外應用的能力。通過調節DBR對的高折射率/低折射率層的厚度，設計和製造了具有多個顯著優點的6對和7對U\n",
       "V阻擋結構，例如整個光譜範圍內高達91％的傳遞率幾乎恒定，深藍/近紫外光區域的傳遞率急劇下降，以及有效防護光譜範圍內的U\n",
       "V/HEV光，使其適用於OLED顯示面板，對顯示顏色和效率等幾乎沒有影響。\n",
       "</pre>\n"
      ],
      "text/plain": [
       "這篇論文的關鍵觀點是開發了修改後的分佈布拉格反射器結構，由UV吸收和介電材料組成，用於保護OLED面板免受UV/HEV輻射和降\n",
       "解，從而增強它們在戶外應用的能力。通過調節DBR對的高折射率/低折射率層的厚度，設計和製造了具有多個顯著優點的6對和7對U\n",
       "V阻擋結構，例如整個光譜範圍內高達91％的傳遞率幾乎恒定，深藍/近紫外光區域的傳遞率急劇下降，以及有效防護光譜範圍內的U\n",
       "V/HEV光，使其適用於OLED顯示面板，對顯示顏色和效率等幾乎沒有影響。\n"
      ]
     },
     "metadata": {},
     "output_type": "display_data"
    }
   ],
   "source": [
    "pprint(chain.invoke(\"What is the key idea of this paper?\"))"
   ]
  },
  {
   "cell_type": "code",
   "execution_count": 12,
   "metadata": {},
   "outputs": [],
   "source": [
    "rag_chain_from_docs = (\n",
    "    prompt\n",
    "    | chat_model\n",
    "    | StrOutputParser()\n",
    ")"
   ]
  },
  {
   "cell_type": "code",
   "execution_count": 13,
   "metadata": {},
   "outputs": [],
   "source": [
    "from langchain_core.runnables import RunnableParallel\n",
    "\n",
    "rag_chain_with_source = RunnableParallel(\n",
    "    {\"context\": retriever, \"question\": RunnablePassthrough()}\n",
    ").assign(answer=rag_chain_from_docs)"
   ]
  },
  {
   "cell_type": "code",
   "execution_count": 14,
   "metadata": {},
   "outputs": [
    {
     "name": "stdout",
     "output_type": "stream",
     "text": [
      "\n",
      "\n",
      "question: What is the key idea of this paper?\n",
      "\n",
      "context: [Document(page_content='Research Article Vol. 29, No. 5 / 1 March 2021 / Optics Express 7660\\nis the peak wavelength of the first ripple in the conventional DBR (Fig. 4(a)), the peak-to-valley\\nmodulation of the total electric field in the conventional DBR (Fig. 5(a)) is larger than that in the\\n2ndmodified DBR (Fig. 5(b)). Since the total field is composed of waves propagating toward +z\\nand-z,largerpeak-to-valleymodulationindicatesthatmoresimilarintensitiesbetween +zand-z\\npropagatingwaves(strongercollectivereflection). Meanwhile,thelowpeak-to-valleymodulation\\ninthe2ndmodifiedDBRshowsthatadjustingthelayerthicknessesinthefirstpairandthelast\\npair can effectively suppressing the intensity of the -z propagating (reflecting) wave and thus\\nsubstantially enhance the overall transmittance.\\nFig. 5.Simulated distributions of total electric field intensities in the 6-pair DBRs for\\nwavelengthsof300nm,370nm,and493nm: (a)theconventionalDBRstructure,(b)2nd\\nmodified DBR design.\\nFollowingthe2ndmodifiedDBRdesignstrategy,Fig.6showscalculatedT-R-Aspectrafor\\n6-pair 2ndmodified DBR structures with varied λTof 350nm to 390nm (while more detailed\\nproperties are summarized in Table S2 of Supplement 1). It is seen that boundaries/edges of\\ntheir transmittance and reflection spectra can be readily blue-shifted with reducing the target\\nresonant wavelength λT(simply by adjusting the layer thicknesses), if desired (e.g., when deeper\\nblue OLED pixels is desired and adopted and thus a different balance between blue EL and UV\\nblockingisrequired). This(easyandprecisetuningofthetransitionwavelengthandsharpness\\nofthetransmittancespectrum)perhapsisaparticularadvantageandconvenienceofusingthe\\nDBRstructureforUVblocking,comparedtootherapproaches(e.g.,simplyusingabsorption\\nproperties of materials). From these results, it is also clear that for a blue OLED pixel with\\nELpeakingaround460nm, λTof370nmgivesareasonablebalancebetweenblueELandUV\\nblocking.\\nFig. 6.Calculated (a) transmittance spectra, (b) reflectance spectra, and (c) absorptance\\nspectra for 2ndmodified DBR structures with 6 pairs and λT=350nm, 360nm, 370nm,\\n380nm, and 390nm.\\nIt is also worthy of stressing other advantages of the current modified DBR design compared\\nto conventional DBR designs. Although DBR is a common technology, it is still generally', metadata={'page': 6, 'source': '/Users/weikai/Library/CloudStorage/Dropbox/paper/CCWu/CCWu 2021 Modified distributed Bragg reflector for protecting organic light-emitting diode displays against ultraviolet light.pdf'}), Document(page_content='Research Article Vol. 29, No. 5 / 1 March 2021 / Optics Express 7664\\n(architecture A)sufferlargevoltageshift( ∆V=2.62Vafter25testcycles),clearlymanifesting\\ndetrimentaleffectofsunlightirradiationonOLEDs. Thepolarizerinarchitecture B(conventional\\nOLEDpanelstructure)providespartialUVprotectionandthusreduces ∆V(∆V=1.3∼1.5Vafter\\n25 cycles). Finally, combining the polarizer and UV-blocking DBR (architecture C) provides\\nfurther protection of OLED panels against solar degradation, and ∆V after 25 test cycles is\\nfurtherreduceddownto ∆V∼0.8V,confirmingeffectivenessofthedesignedUV-blockingDBRs\\nherein. Itisalsonoticedthatboth6-pairand7-pairUV-blockingDBRsstructuresprovidesimilar\\nprotection against UV/HEV light. Table S4 in Supplement 1 further provides a summary of\\nthe luminanceof theOLED device undera sameoperation voltage (4V) before andafter being\\nsubjectedtothesolartestarchitectures A,B,and C(with6-pair2ndmodifiedDBRstructure),\\nagain confirming effectiveness of the designed UV-blocking DBR structures.\\n5. Conclusion\\nIn summary, we developed modified DBR structures composed of UV-absorbing and dielectric\\nmaterials for protecting OLED panels against UV/HEV irradiation and degradation, thus\\nstrengtheningtheiroutdoorapplications. Bytuningthicknessesofhigh-index/low-indexlayers\\nin the DBR pairs, we designed and fabricated 6-pair and 7-pair UV-blocking structures with\\nseveral significant merits, such as nearly constant high transmittance of up to 91% over the\\nwhole spectral range, very sharp drop of transmittance around the deep-blue/near-UV region,\\nand effective protection against UV/HEV light, making them suitable for incorporation into\\nOLED display panels with minimal impacts on display colors and efficiencies, etc. Furthermore,\\nwe also studied the total electric fields in the modified DBR structure. The simulation results\\nreveal that in the modified UV-blocking DBR structure, the reflection at visible wavelengths can\\nbe effectively suppressed by adjusting the thicknesses of the first and the last pair in the DBR\\nstructure. SuchUV/HEV-blockingstructureswithhighandflattransmittanceinthevisiblerange\\nare applicable not only in displays but maybe also in the other areas requiring high-performance\\noptical thin-film coating. Finally, solar test experiments of OLED panels verified usefulness\\nof developed UV-blocking DBRs for reducing UV/HEV/solar-induced degradation and voltage\\nshifts in OLED devices.\\nFunding. AU Optronics.\\nDisclosures. The authors declare that there are no conflicts of interest related to this article.\\nSupplemental document. See Supplement 1 for supporting content.\\nReferences\\n1.Y. Zhang, M. M. A. Abdelmalek, Q. Wang, and H. Aziz, “Degradation mechanism in simplified phosphorescent\\norganiclight-emittingdevicesutilizingonematerialforholetransportandemitterhost,”Appl.Phys.Lett. 103(6),\\n063307 (2013).\\n2.H.J.O.Colditz,R.Kurt,andM.Büchel,“Photodegradationandwavelengthdependencyofbluepolymerlight-emitting\\ndiode devices,” Appl. Phys. Lett. 87(25), 253505 (2005).\\n3.K.Thangaraju,J.Kumar,P.Amaladass,A.K.Mohanakrishnan,andV.Narayanan,“Studyonphotoluminescence\\nfrom tris-(8-hydroxyquinoline) aluminum thin films and influence of light,” Appl. Phys. Lett. 89(8), 082106 (2006).\\n4.R.Seifert,S.Scholz,B.Lüssem,andK.Leo,“Comparisonofultraviolet-andchargeinduceddegradationphenomena\\nin blue fluorescent organic light emitting diodes,” Appl. Phys. Lett. 97(1), 013308 (2010).\\n5.Q. Wang, G.Williams, T. Tsui, andH. Aziz,“Photochemical deteriorationof the organic/metalcontacts inorganic\\noptoelectronic devices,” J. Appl. Phys. 112(6), 064502 (2012).\\n6.S. Scholz, K. Walzer, and K. Leo, “Analysis of Complete Organic Semiconductor Devices by Laser Desorp-\\ntion/Ionization Time-of-Flight Mass Spectrometry,” Adv. Funct. Mater. 18(17), 2541–2547 (2008).\\n7.F.P.Rosselli,W.G.Quirino,C.Legnani,V.L.Calil,K.C.Teixeira,A.A.Leitão,R.B.Capaz,M.Cremona,and\\nC.A.Achete,“Experimentalandtheoreticalinvestigationoftris-(8-hydroxy-quinolinate)aluminum(Alq 3)photo\\ndegradation,” Org. Electron. 10(8), 1417–1423 (2009).\\n8.Q.Wang,Y.Luo,andH.Aziz,“Photodegradationoftheorganic/metalcathodeinterfaceinorganiclight-emitting\\ndevices,” Appl. Phys. Lett. 97(6), 063309 (2010).', metadata={'page': 10, 'source': '/Users/weikai/Library/CloudStorage/Dropbox/paper/CCWu/CCWu 2021 Modified distributed Bragg reflector for protecting organic light-emitting diode displays against ultraviolet light.pdf'})]\n",
      "\n",
      "answer: 這篇論文的主要想法是開發了修改後的DBR結構，用於保護有機發光二極管(OLED)面板免受紫外線/高能可見光(HEV)輻射和降解的影響，並強化它們的戶外應用。通過調整DBR對中高折射率/低折射率層的厚度，設計並製造了6對和7對UV阻擋結構，具有幾個重要優點，例如在整個光譜範圍內高達91%的幾乎恆定高透射率，深藍/近紫外光譜範圍內透射率的非常快速下降，以及對UV/HEV光的有效保護，使其適用於將其納入OLED顯示面板中，對顯示顏色和效率幾乎沒有影響等。"
     ]
    }
   ],
   "source": [
    "def chat(query):\n",
    "    output = {}\n",
    "    curr_key = None\n",
    "    for chunk in rag_chain_with_source.stream(query):\n",
    "        for key in chunk:\n",
    "            if key not in output:\n",
    "                output[key] = chunk[key]\n",
    "            else:\n",
    "                output[key] += chunk[key]\n",
    "            if key != curr_key:\n",
    "                print(f\"\\n\\n{key}: {chunk[key]}\", end=\"\", flush=True)\n",
    "            else:\n",
    "                print(chunk[key], end=\"\", flush=True)\n",
    "            curr_key = key\n",
    "chat(\"What is the key idea of this paper?\")"
   ]
  },
  {
   "cell_type": "code",
   "execution_count": null,
   "metadata": {},
   "outputs": [],
   "source": []
  }
 ],
 "metadata": {
  "kernelspec": {
   "display_name": "OLED_RAG",
   "language": "python",
   "name": "python3"
  },
  "language_info": {
   "codemirror_mode": {
    "name": "ipython",
    "version": 3
   },
   "file_extension": ".py",
   "mimetype": "text/x-python",
   "name": "python",
   "nbconvert_exporter": "python",
   "pygments_lexer": "ipython3",
   "version": "3.12.1"
  }
 },
 "nbformat": 4,
 "nbformat_minor": 2
}
