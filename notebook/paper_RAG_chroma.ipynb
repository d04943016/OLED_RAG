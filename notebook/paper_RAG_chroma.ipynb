{
 "cells": [
  {
   "cell_type": "code",
   "execution_count": 1,
   "metadata": {},
   "outputs": [],
   "source": [
    "# 匯入套件和金鑰\n",
    "import os\n",
    "from rich import print as pprint\n",
    "from langchain_openai import ChatOpenAI\n",
    "from tqdm import tqdm\n",
    "\n",
    "from dotenv import load_dotenv\n",
    "load_dotenv()\n",
    "\n",
    "from langchain_community.document_loaders import PyPDFLoader\n",
    "from langchain.indexes import VectorstoreIndexCreator\n",
    "from langchain_openai import OpenAIEmbeddings\n",
    "from langchain_community.vectorstores import Chroma\n",
    "\n",
    "from langchain_core.output_parsers import StrOutputParser\n",
    "from langchain_core.prompts import ChatPromptTemplate\n",
    "from langchain_core.runnables import RunnablePassthrough"
   ]
  },
  {
   "cell_type": "markdown",
   "metadata": {},
   "source": [
    "# LLM Model"
   ]
  },
  {
   "cell_type": "code",
   "execution_count": 12,
   "metadata": {},
   "outputs": [],
   "source": [
    "# load LLM model\n",
    "chat_model = ChatOpenAI(model_name=\"gpt-3.5-turbo\", api_key=os.getenv(\"OPENAI_API_KEY\")) # \"gpt-3.5-turbo\", \"gpt-4o\"\n",
    "embeddings_model=OpenAIEmbeddings(model='text-embedding-3-large')"
   ]
  },
  {
   "cell_type": "markdown",
   "metadata": {},
   "source": [
    "# To Chroma"
   ]
  },
  {
   "cell_type": "code",
   "execution_count": 3,
   "metadata": {},
   "outputs": [],
   "source": [
    "# load PDF file\n",
    "pdf_filepath = '/Users/weikai/Library/CloudStorage/Dropbox/paper/CCWu'\n",
    "pdf_filenames = [\\\n",
    "    'CCWu 2021 Modified distributed Bragg reflector for protecting organic light-emitting diode displays against ultraviolet light.pdf',\n",
    "    'CCWu 2022 Analyses of emission efficiencies of white organic light-emitting diodes having multiple emitters in single emitting layer.pdf',\n",
    "    'CCWu 2019 Three‐dimensional pixel configurations for optical outcoupling of OLED displays-optical simulation.pdf',\n",
    "    'CCWu 2013 Analyzing nanostructures in mesogenic host–guest systems for polarized phosphorescence.pdf',\n",
    "    'CCWu 2022 Analyses of emission efficiencies of white organic light-emitting diodes having multiple emitters in single emitting layer.pdf',\n",
    "    'CCWu 2023 Fully electromagnetic wave optic simulation and analyses of the cross-scale reflective 3D OLED pixel configuration.pdf',\n",
    "    'CCWu 2022 Using angle-selective optical film to enhance the light extraction of a thin-film encapsulated 3D reflective pixel for OLED displays.pdf',\n",
    "    'CCWu 2022 P-128 Optimizing OLED Pixel Structures for Consistently Low Ambient Light Reflection over Viewing Angles.pdf',\n",
    "    'CCWu 2020 Integrating Molecular Rigidity and Chirality into TADF for Highly Efficient Sky-Blue CPEL.pdf',\n",
    "    'CCWu 2020 High-efficiency organic light emitting diodes using high-index transparent electrode.pdf',\n",
    "    'CCWu 2019 SID P-179 Optics of Curved OLEDs.pdf',\n",
    "    'CCWu 2020 Enhance external quantum efficiency of organic light-emitting devices using thin transparent electrodes.pdf',\n",
    "    'CCWu 2016 Triboluminescence and Metal Phosphor for Organic Light-Emitting Diodes Functional Pt(II) Complexes with Both 2‑Pyridylimidazol-2-ylidene and Bipyrazolate Chelates.pdf',\n",
    "    'CCWu 2018 Quantitative analyses of high electroluminescence efficiency of thermally activated delayed fluorescence emitters based on acridine–triazine hybrids.pdf',\n",
    "    'CCWu 2017 Achieving Nearly 30% External Quantum Efﬁciency for Orange–Red Organic Light Emitting Diodes by Employing Thermally Activated Delayed Fluorescence Emitters  Composed of 1,8-Naphthalimide-Acridine Hybrids.pdf',\n",
    "    'CCWu 2016 Efﬁcient and Tunable Thermally Activated Delayed Fluorescence Emitters Having Orientation-Adjustable  CN-Substituted Pyridine and Pyrimidine Acceptor Units.pdf'\n",
    "]\n",
    "\n",
    "# pdf_filepath = '/Users/weikai/Library/CloudStorage/Dropbox/paper/CCWu'\n",
    "# pdf_filenames = [ fname for fname in os.listdir(pdf_filepath) if fname.endswith('.pdf') ]\n"
   ]
  },
  {
   "cell_type": "code",
   "execution_count": 4,
   "metadata": {},
   "outputs": [
    {
     "name": "stderr",
     "output_type": "stream",
     "text": [
      "100%|██████████| 16/16 [00:11<00:00,  1.41it/s]"
     ]
    },
    {
     "name": "stdout",
     "output_type": "stream",
     "text": [
      "Loaded 182 documents\n"
     ]
    },
    {
     "name": "stderr",
     "output_type": "stream",
     "text": [
      "\n"
     ]
    }
   ],
   "source": [
    "docs = []\n",
    "for pdf_filename in tqdm(pdf_filenames):\n",
    "    loader = PyPDFLoader(file_path=os.path.join(pdf_filepath, pdf_filename))\n",
    "    docs += loader.load()\n",
    "print(f\"Loaded {len(docs)} documents\")"
   ]
  },
  {
   "cell_type": "code",
   "execution_count": 5,
   "metadata": {},
   "outputs": [],
   "source": [
    "database_path = './database/vector_db_chroma/'\n",
    "# Chroma.from_documents(documents=docs,\n",
    "#                       embedding=embeddings_model,\n",
    "#                       persist_directory=database_path,\n",
    "#                       collection_metadata={\"hnsw:space\": \"cosine\"})\n",
    "\n",
    "# load Chroma\n",
    "db = Chroma(persist_directory=database_path, \n",
    "            embedding_function=embeddings_model)"
   ]
  },
  {
   "cell_type": "markdown",
   "metadata": {},
   "source": [
    "# Retrieve"
   ]
  },
  {
   "cell_type": "code",
   "execution_count": 6,
   "metadata": {},
   "outputs": [
    {
     "name": "stdout",
     "output_type": "stream",
     "text": [
      "傳回 5 筆資料\n"
     ]
    }
   ],
   "source": [
    "question = \"how to protect OLED display against UV light?\"\n",
    "retriever = db.as_retriever(search_type=\"similarity\",\n",
    "                            search_kwargs={\"k\": 5})\n",
    "retrieved_docs = retriever.invoke(question)\n",
    "print(f'傳回 {len(retrieved_docs)} 筆資料')\n",
    "# pprint( retrieved_docs )"
   ]
  },
  {
   "cell_type": "markdown",
   "metadata": {},
   "source": [
    "# Question-Answer"
   ]
  },
  {
   "cell_type": "code",
   "execution_count": 13,
   "metadata": {},
   "outputs": [],
   "source": [
    "str_parser = StrOutputParser()\n",
    "template = (\n",
    "    \"請根據以下內容加上自身判斷回答問題 (請用繁體中文回答/專有名詞則使用英文):\\n\"\n",
    "    \"{context}\\n\"\n",
    "    \"問題: {question}\"\n",
    "    )\n",
    "prompt = ChatPromptTemplate.from_template(template)\n",
    "chain = (\n",
    "    {\"context\": retriever, \"question\": RunnablePassthrough()}\n",
    "    | prompt\n",
    "    | chat_model\n",
    "    | str_parser\n",
    ")"
   ]
  },
  {
   "cell_type": "code",
   "execution_count": 14,
   "metadata": {},
   "outputs": [
    {
     "data": {
      "text/html": [
       "<pre style=\"white-space:pre;overflow-x:auto;line-height:normal;font-family:Menlo,'DejaVu Sans Mono',consolas,'Courier New',monospace\">問題-<span style=\"color: #008080; text-decoration-color: #008080; font-weight: bold\">1</span>: how to protect OLED display against UV light?\n",
       "</pre>\n"
      ],
      "text/plain": [
       "問題-\u001b[1;36m1\u001b[0m: how to protect OLED display against UV light?\n"
      ]
     },
     "metadata": {},
     "output_type": "display_data"
    },
    {
     "data": {
      "text/html": [
       "<pre style=\"white-space:pre;overflow-x:auto;line-height:normal;font-family:Menlo,'DejaVu Sans Mono',consolas,'Courier New',monospace\">回答-<span style=\"color: #008080; text-decoration-color: #008080; font-weight: bold\">1</span>: 要保護OLED顯示屏免受紫外線（UV）光的影響，可以採取以下措施：\n",
       "\n",
       "<span style=\"color: #008080; text-decoration-color: #008080; font-weight: bold\">1</span>. **使用抗UV/HEV結構**：在OLED顯示屏的保護結構中引入抗UV/HEV的功能層。根據文獻，將這些結構整合到保護玻璃（cover \n",
       "lens）中是最理想的選擇。由於保護玻璃位於OLED顯示屏的最外層，不會直接影響OLED的發光性能。\n",
       "\n",
       "<span style=\"color: #008080; text-decoration-color: #008080; font-weight: bold\">2</span>. \n",
       "**改良布拉格反射器（DBR）結構**：文獻中提到，使用改良過的布拉格反射器（DBR）結構，其中包含UV吸收的介電材料，並調整\n",
       "層/對的厚度，以實現高效的UV阻擋效果（在400nm以下的透射率接近0%），並在可見光範圍內保持高透射率（約92%）。這種結構可\n",
       "以有效防止UV光對OLED顯示屏造成的降解。\n",
       "\n",
       "<span style=\"color: #008080; text-decoration-color: #008080; font-weight: bold\">3</span>. \n",
       "**使用圓偏振片**：圓偏振片可以部分阻擋UV/HEV光，但需注意的是長期暴露在UV/HEV光下會使圓偏振片本身降解，因此這種方法\n",
       "更適合於室內或短期的戶外應用。\n",
       "\n",
       "<span style=\"color: #008080; text-decoration-color: #008080; font-weight: bold\">4</span>. \n",
       "**結構設計的策略**：在設計抗UV/HEV結構時，應考慮在410-420nm以下的UV/HEV阻擋區域內，透射率應保持在低（理想情況下為零\n",
       "）；同時，在440-450nm以上的可見光範圍內，透射率應保持高，以確保不影響OLED顯示屏的R/G/B顏色性能。\n",
       "\n",
       "<span style=\"color: #008080; text-decoration-color: #008080; font-weight: bold\">5</span>. \n",
       "**實驗驗證**：根據文獻，實驗測試證實這些抗UV結構可以有效減少UV/太陽光引起的降解現象，從而保護OLED顯示屏的性能，例如\n",
       "減少電壓漂移等。\n",
       "\n",
       "總結來說，保護OLED顯示屏免受UV光影響的最佳方法是在顯示屏的保護玻璃上集成抗UV/HEV結構，這些結構應使用更穩定的無機材\n",
       "料，並且需經過實驗驗證其有效性。\n",
       "</pre>\n"
      ],
      "text/plain": [
       "回答-\u001b[1;36m1\u001b[0m: 要保護OLED顯示屏免受紫外線（UV）光的影響，可以採取以下措施：\n",
       "\n",
       "\u001b[1;36m1\u001b[0m. **使用抗UV/HEV結構**：在OLED顯示屏的保護結構中引入抗UV/HEV的功能層。根據文獻，將這些結構整合到保護玻璃（cover \n",
       "lens）中是最理想的選擇。由於保護玻璃位於OLED顯示屏的最外層，不會直接影響OLED的發光性能。\n",
       "\n",
       "\u001b[1;36m2\u001b[0m. \n",
       "**改良布拉格反射器（DBR）結構**：文獻中提到，使用改良過的布拉格反射器（DBR）結構，其中包含UV吸收的介電材料，並調整\n",
       "層/對的厚度，以實現高效的UV阻擋效果（在400nm以下的透射率接近0%），並在可見光範圍內保持高透射率（約92%）。這種結構可\n",
       "以有效防止UV光對OLED顯示屏造成的降解。\n",
       "\n",
       "\u001b[1;36m3\u001b[0m. \n",
       "**使用圓偏振片**：圓偏振片可以部分阻擋UV/HEV光，但需注意的是長期暴露在UV/HEV光下會使圓偏振片本身降解，因此這種方法\n",
       "更適合於室內或短期的戶外應用。\n",
       "\n",
       "\u001b[1;36m4\u001b[0m. \n",
       "**結構設計的策略**：在設計抗UV/HEV結構時，應考慮在410-420nm以下的UV/HEV阻擋區域內，透射率應保持在低（理想情況下為零\n",
       "）；同時，在440-450nm以上的可見光範圍內，透射率應保持高，以確保不影響OLED顯示屏的R/G/B顏色性能。\n",
       "\n",
       "\u001b[1;36m5\u001b[0m. \n",
       "**實驗驗證**：根據文獻，實驗測試證實這些抗UV結構可以有效減少UV/太陽光引起的降解現象，從而保護OLED顯示屏的性能，例如\n",
       "減少電壓漂移等。\n",
       "\n",
       "總結來說，保護OLED顯示屏免受UV光影響的最佳方法是在顯示屏的保護玻璃上集成抗UV/HEV結構，這些結構應使用更穩定的無機材\n",
       "料，並且需經過實驗驗證其有效性。\n"
      ]
     },
     "metadata": {},
     "output_type": "display_data"
    },
    {
     "data": {
      "text/html": [
       "<pre style=\"white-space:pre;overflow-x:auto;line-height:normal;font-family:Menlo,'DejaVu Sans Mono',consolas,'Courier New',monospace\">\n",
       "</pre>\n"
      ],
      "text/plain": [
       "\n"
      ]
     },
     "metadata": {},
     "output_type": "display_data"
    },
    {
     "data": {
      "text/html": [
       "<pre style=\"white-space:pre;overflow-x:auto;line-height:normal;font-family:Menlo,'DejaVu Sans Mono',consolas,'Courier New',monospace\">問題-<span style=\"color: #008080; text-decoration-color: #008080; font-weight: bold\">2</span>: What is the key idea of 3D pixel OLED?\n",
       "</pre>\n"
      ],
      "text/plain": [
       "問題-\u001b[1;36m2\u001b[0m: What is the key idea of 3D pixel OLED?\n"
      ]
     },
     "metadata": {},
     "output_type": "display_data"
    },
    {
     "data": {
      "text/html": [
       "<pre style=\"white-space:pre;overflow-x:auto;line-height:normal;font-family:Menlo,'DejaVu Sans Mono',consolas,'Courier New',monospace\">回答-<span style=\"color: #008080; text-decoration-color: #008080; font-weight: bold\">2</span>: 3D pixel \n",
       "OLED的關鍵概念是通過引入三維像素結構來增強光的出耦合效率。傳統AMOLED像素結構中的主要光學損失來自於波導模式（WG模式\n",
       "）和表面等離子體模式（SP模式），這使得其外量子效率（EQE）通常只有約20%。為了解決這個問題，研究者提出了一種三維像素\n",
       "配置，具體包括以下幾個關鍵點：\n",
       "\n",
       "<span style=\"color: #008080; text-decoration-color: #008080; font-weight: bold\">1</span>. \n",
       "**底部反射電極延伸**：將底部反射電極延伸到像素定義層（PDL）的斜坡上，形成一個凹形結構，這樣可以更有效地引導內部生成\n",
       "的光子進入高折射率填充區域。\n",
       "\n",
       "<span style=\"color: #008080; text-decoration-color: #008080; font-weight: bold\">2</span>. **高折射率填充材料**：在凹形區域填充高折射率材料（折射率n ≥ \n",
       "<span style=\"color: #008080; text-decoration-color: #008080; font-weight: bold\">1.8</span>），通過選擇性沉積方法（如噴墨打印、蒸汽噴射打印、精細掩模蒸鍍等）進行圖案化填充。這些材料有助於將內部生成的光子\n",
       "耦合進入高折射率填充區域。\n",
       "\n",
       "<span style=\"color: #008080; text-decoration-color: #008080; font-weight: bold\">3</span>. \n",
       "**光的多重反射和重定向**：利用凹形結構的反射特性，將原本被限制的光線（即進入填充材料的內部角度θ_int大於填充材料-空\n",
       "氣界面的全內反射臨界角θ_c的光線）通過一個或多個反射重定向到外部，從而提高光的出耦合效率。\n",
       "\n",
       "<span style=\"color: #008080; text-decoration-color: #008080; font-weight: bold\">4</span>. **波長不敏感的提取機制**：這種光提取機制對波長不敏感，因此對所有R/G/B顏色均有效。\n",
       "\n",
       "<span style=\"color: #008080; text-decoration-color: #008080; font-weight: bold\">5</span>. \n",
       "**適合高解析度顯示**：隨著像素/子像素尺寸縮小，光線在厚的高折射率填充層中的反射次數減少，從而減少了底部/頂部電極和\n",
       "其他吸收層的吸收損失，進而在更小的子像素/更高解析度下達到更高的光出耦合效率。\n",
       "\n",
       "總的來說，3D像素OLED通過結構設計和材料選擇，顯著改進了光的出耦合效率，從而提升了AMOLED顯示的性能和能效。\n",
       "</pre>\n"
      ],
      "text/plain": [
       "回答-\u001b[1;36m2\u001b[0m: 3D pixel \n",
       "OLED的關鍵概念是通過引入三維像素結構來增強光的出耦合效率。傳統AMOLED像素結構中的主要光學損失來自於波導模式（WG模式\n",
       "）和表面等離子體模式（SP模式），這使得其外量子效率（EQE）通常只有約20%。為了解決這個問題，研究者提出了一種三維像素\n",
       "配置，具體包括以下幾個關鍵點：\n",
       "\n",
       "\u001b[1;36m1\u001b[0m. \n",
       "**底部反射電極延伸**：將底部反射電極延伸到像素定義層（PDL）的斜坡上，形成一個凹形結構，這樣可以更有效地引導內部生成\n",
       "的光子進入高折射率填充區域。\n",
       "\n",
       "\u001b[1;36m2\u001b[0m. **高折射率填充材料**：在凹形區域填充高折射率材料（折射率n ≥ \n",
       "\u001b[1;36m1.8\u001b[0m），通過選擇性沉積方法（如噴墨打印、蒸汽噴射打印、精細掩模蒸鍍等）進行圖案化填充。這些材料有助於將內部生成的光子\n",
       "耦合進入高折射率填充區域。\n",
       "\n",
       "\u001b[1;36m3\u001b[0m. \n",
       "**光的多重反射和重定向**：利用凹形結構的反射特性，將原本被限制的光線（即進入填充材料的內部角度θ_int大於填充材料-空\n",
       "氣界面的全內反射臨界角θ_c的光線）通過一個或多個反射重定向到外部，從而提高光的出耦合效率。\n",
       "\n",
       "\u001b[1;36m4\u001b[0m. **波長不敏感的提取機制**：這種光提取機制對波長不敏感，因此對所有R/G/B顏色均有效。\n",
       "\n",
       "\u001b[1;36m5\u001b[0m. \n",
       "**適合高解析度顯示**：隨著像素/子像素尺寸縮小，光線在厚的高折射率填充層中的反射次數減少，從而減少了底部/頂部電極和\n",
       "其他吸收層的吸收損失，進而在更小的子像素/更高解析度下達到更高的光出耦合效率。\n",
       "\n",
       "總的來說，3D像素OLED通過結構設計和材料選擇，顯著改進了光的出耦合效率，從而提升了AMOLED顯示的性能和能效。\n"
      ]
     },
     "metadata": {},
     "output_type": "display_data"
    },
    {
     "data": {
      "text/html": [
       "<pre style=\"white-space:pre;overflow-x:auto;line-height:normal;font-family:Menlo,'DejaVu Sans Mono',consolas,'Courier New',monospace\">\n",
       "</pre>\n"
      ],
      "text/plain": [
       "\n"
      ]
     },
     "metadata": {},
     "output_type": "display_data"
    },
    {
     "data": {
      "text/html": [
       "<pre style=\"white-space:pre;overflow-x:auto;line-height:normal;font-family:Menlo,'DejaVu Sans Mono',consolas,'Courier New',monospace\">問題-<span style=\"color: #008080; text-decoration-color: #008080; font-weight: bold\">3</span>: How to achieve high emission efficient OLED?\n",
       "</pre>\n"
      ],
      "text/plain": [
       "問題-\u001b[1;36m3\u001b[0m: How to achieve high emission efficient OLED?\n"
      ]
     },
     "metadata": {},
     "output_type": "display_data"
    },
    {
     "data": {
      "text/html": [
       "<pre style=\"white-space:pre;overflow-x:auto;line-height:normal;font-family:Menlo,'DejaVu Sans Mono',consolas,'Courier New',monospace\">回答-<span style=\"color: #008080; text-decoration-color: #008080; font-weight: bold\">3</span>: 要實現高發光效率的有機發光二極體 <span style=\"font-weight: bold\">(</span>OLED<span style=\"font-weight: bold\">)</span>，可以考慮以下幾個關鍵因素和技術：\n",
       "\n",
       "<span style=\"color: #008080; text-decoration-color: #008080; font-weight: bold\">1</span>. **高內部量子效率 <span style=\"font-weight: bold\">(</span>Internal Quantum Efficiency, IQE<span style=\"font-weight: bold\">)</span>：**\n",
       "   - 使用磷光發光材料和熱活化延遲螢光 <span style=\"font-weight: bold\">(</span>Thermally Activated Delayed Fluorescence, TADF<span style=\"font-weight: bold\">)</span> \n",
       "發光材料，這些材料能夠有效地收集三重態激子，從而達到接近100%的內部量子效率。\n",
       "\n",
       "<span style=\"color: #008080; text-decoration-color: #008080; font-weight: bold\">2</span>. **光提取效率 <span style=\"font-weight: bold\">(</span>Light Extraction Efficiency<span style=\"font-weight: bold\">)</span>：**\n",
       "   - **高折射率基板 <span style=\"font-weight: bold\">(</span>High-Index Substrates<span style=\"font-weight: bold\">)</span>：** \n",
       "使用折射率較高的基板，如藍寶石基板，可以有效地提高光的提取效率。高折射率基板可以減少光在有機層和透明電極中的波導模\n",
       "態 <span style=\"font-weight: bold\">(</span>Waveguided Modes<span style=\"font-weight: bold\">)</span> 和表面等離子體模態 <span style=\"font-weight: bold\">(</span>Surface Plasmon Modes<span style=\"font-weight: bold\">)</span> 損失。\n",
       "   - **水平偶極發射體 <span style=\"font-weight: bold\">(</span>Horizontal Dipole Emitters<span style=\"font-weight: bold\">)</span>：** \n",
       "發射偶極子水平排列的發光材料可以顯著提高光的提取效率。這些材料能夠將更多的光從有機層中發射出來，而不是被困在器件內\n",
       "部。\n",
       "   - **低折射率或折射率匹配的載流子傳輸層 <span style=\"font-weight: bold\">(</span>Low-Index or Index-Matching Carrier Transport Layers<span style=\"font-weight: bold\">)</span>：** \n",
       "使用折射率較低或與有機層折射率匹配的載流子傳輸層，可以進一步減少波導模態和表面等離子體模態損失。\n",
       "   - **外部提取元件 <span style=\"font-weight: bold\">(</span>External Extraction Elements<span style=\"font-weight: bold\">)</span>：** \n",
       "結合外部提取元件如透鏡或微透鏡陣列，可以進一步提高光的提取效率。\n",
       "\n",
       "<span style=\"color: #008080; text-decoration-color: #008080; font-weight: bold\">3</span>. **器件結構優化 <span style=\"font-weight: bold\">(</span>Device Structure Optimization<span style=\"font-weight: bold\">)</span>：**\n",
       "   - **多層結構設計 <span style=\"font-weight: bold\">(</span>Multilayer Structure Design<span style=\"font-weight: bold\">)</span>：** 通過優化有機層和透明電極的厚度，可以最大化光的耦合效率。\n",
       "   - **微腔效應 <span style=\"font-weight: bold\">(</span>Microcavity Effect<span style=\"font-weight: bold\">)</span>：** 利用微腔效應來集中發射光的角度，從而提高光的直接提取效率。\n",
       "\n",
       "<span style=\"color: #008080; text-decoration-color: #008080; font-weight: bold\">4</span>. **材料選擇 <span style=\"font-weight: bold\">(</span>Material Selection<span style=\"font-weight: bold\">)</span>：**\n",
       "   - **高光致發光量子產率 <span style=\"font-weight: bold\">(</span>High Photoluminescence Quantum Yields, PLQYs<span style=\"font-weight: bold\">)</span>：** \n",
       "選擇具有高光致發光量子產率的發光材料，確保更多的內部生成光子能夠被有效提取。\n",
       "   - **低折射率的有機層材料 <span style=\"font-weight: bold\">(</span>Low Refractive Index Organic Layers<span style=\"font-weight: bold\">)</span>：** \n",
       "選擇低折射率的載流子傳輸層材料，如TAPC和3TPYMB，這些材料能夠減少波導模態和表面等離子體模態的損失。\n",
       "\n",
       "總結來說，通過結合使用高內部量子效率的發光材料、提高光提取效率的技術以及優化器件結構，可以實現高發光效率的OLED。實\n",
       "驗結果顯示，使用上述技術可以使OLED的外部量子效率 <span style=\"font-weight: bold\">(</span>External Quantum Efficiency, EQE<span style=\"font-weight: bold\">)</span> 超過80%。\n",
       "</pre>\n"
      ],
      "text/plain": [
       "回答-\u001b[1;36m3\u001b[0m: 要實現高發光效率的有機發光二極體 \u001b[1m(\u001b[0mOLED\u001b[1m)\u001b[0m，可以考慮以下幾個關鍵因素和技術：\n",
       "\n",
       "\u001b[1;36m1\u001b[0m. **高內部量子效率 \u001b[1m(\u001b[0mInternal Quantum Efficiency, IQE\u001b[1m)\u001b[0m：**\n",
       "   - 使用磷光發光材料和熱活化延遲螢光 \u001b[1m(\u001b[0mThermally Activated Delayed Fluorescence, TADF\u001b[1m)\u001b[0m \n",
       "發光材料，這些材料能夠有效地收集三重態激子，從而達到接近100%的內部量子效率。\n",
       "\n",
       "\u001b[1;36m2\u001b[0m. **光提取效率 \u001b[1m(\u001b[0mLight Extraction Efficiency\u001b[1m)\u001b[0m：**\n",
       "   - **高折射率基板 \u001b[1m(\u001b[0mHigh-Index Substrates\u001b[1m)\u001b[0m：** \n",
       "使用折射率較高的基板，如藍寶石基板，可以有效地提高光的提取效率。高折射率基板可以減少光在有機層和透明電極中的波導模\n",
       "態 \u001b[1m(\u001b[0mWaveguided Modes\u001b[1m)\u001b[0m 和表面等離子體模態 \u001b[1m(\u001b[0mSurface Plasmon Modes\u001b[1m)\u001b[0m 損失。\n",
       "   - **水平偶極發射體 \u001b[1m(\u001b[0mHorizontal Dipole Emitters\u001b[1m)\u001b[0m：** \n",
       "發射偶極子水平排列的發光材料可以顯著提高光的提取效率。這些材料能夠將更多的光從有機層中發射出來，而不是被困在器件內\n",
       "部。\n",
       "   - **低折射率或折射率匹配的載流子傳輸層 \u001b[1m(\u001b[0mLow-Index or Index-Matching Carrier Transport Layers\u001b[1m)\u001b[0m：** \n",
       "使用折射率較低或與有機層折射率匹配的載流子傳輸層，可以進一步減少波導模態和表面等離子體模態損失。\n",
       "   - **外部提取元件 \u001b[1m(\u001b[0mExternal Extraction Elements\u001b[1m)\u001b[0m：** \n",
       "結合外部提取元件如透鏡或微透鏡陣列，可以進一步提高光的提取效率。\n",
       "\n",
       "\u001b[1;36m3\u001b[0m. **器件結構優化 \u001b[1m(\u001b[0mDevice Structure Optimization\u001b[1m)\u001b[0m：**\n",
       "   - **多層結構設計 \u001b[1m(\u001b[0mMultilayer Structure Design\u001b[1m)\u001b[0m：** 通過優化有機層和透明電極的厚度，可以最大化光的耦合效率。\n",
       "   - **微腔效應 \u001b[1m(\u001b[0mMicrocavity Effect\u001b[1m)\u001b[0m：** 利用微腔效應來集中發射光的角度，從而提高光的直接提取效率。\n",
       "\n",
       "\u001b[1;36m4\u001b[0m. **材料選擇 \u001b[1m(\u001b[0mMaterial Selection\u001b[1m)\u001b[0m：**\n",
       "   - **高光致發光量子產率 \u001b[1m(\u001b[0mHigh Photoluminescence Quantum Yields, PLQYs\u001b[1m)\u001b[0m：** \n",
       "選擇具有高光致發光量子產率的發光材料，確保更多的內部生成光子能夠被有效提取。\n",
       "   - **低折射率的有機層材料 \u001b[1m(\u001b[0mLow Refractive Index Organic Layers\u001b[1m)\u001b[0m：** \n",
       "選擇低折射率的載流子傳輸層材料，如TAPC和3TPYMB，這些材料能夠減少波導模態和表面等離子體模態的損失。\n",
       "\n",
       "總結來說，通過結合使用高內部量子效率的發光材料、提高光提取效率的技術以及優化器件結構，可以實現高發光效率的OLED。實\n",
       "驗結果顯示，使用上述技術可以使OLED的外部量子效率 \u001b[1m(\u001b[0mExternal Quantum Efficiency, EQE\u001b[1m)\u001b[0m 超過80%。\n"
      ]
     },
     "metadata": {},
     "output_type": "display_data"
    },
    {
     "data": {
      "text/html": [
       "<pre style=\"white-space:pre;overflow-x:auto;line-height:normal;font-family:Menlo,'DejaVu Sans Mono',consolas,'Courier New',monospace\">\n",
       "</pre>\n"
      ],
      "text/plain": [
       "\n"
      ]
     },
     "metadata": {},
     "output_type": "display_data"
    },
    {
     "data": {
      "text/html": [
       "<pre style=\"white-space:pre;overflow-x:auto;line-height:normal;font-family:Menlo,'DejaVu Sans Mono',consolas,'Courier New',monospace\">問題-<span style=\"color: #008080; text-decoration-color: #008080; font-weight: bold\">4</span>: How to fabricate high emission OLED pixel device? What is the possible structure and material?\n",
       "</pre>\n"
      ],
      "text/plain": [
       "問題-\u001b[1;36m4\u001b[0m: How to fabricate high emission OLED pixel device? What is the possible structure and material?\n"
      ]
     },
     "metadata": {},
     "output_type": "display_data"
    },
    {
     "data": {
      "text/html": [
       "<pre style=\"white-space:pre;overflow-x:auto;line-height:normal;font-family:Menlo,'DejaVu Sans Mono',consolas,'Courier New',monospace\">回答-<span style=\"color: #008080; text-decoration-color: #008080; font-weight: bold\">4</span>: 要製造高發光效率的OLED像素裝置，以下是可能的結構和材料，以及製造步驟：\n",
       "\n",
       "### 結構和材料\n",
       "<span style=\"color: #008080; text-decoration-color: #008080; font-weight: bold\">1</span>. **基板（Substrate）**：\n",
       "   - 一般使用玻璃基板。\n",
       "\n",
       "<span style=\"color: #008080; text-decoration-color: #008080; font-weight: bold\">2</span>. **底部電極（Anode）**：\n",
       "   - 使用高反射率材料，如ITO <span style=\"font-weight: bold\">(</span>Indium Tin Oxide<span style=\"font-weight: bold\">)</span>、Ag <span style=\"font-weight: bold\">(</span>銀<span style=\"font-weight: bold\">)</span>等材料。<span style=\"color: #800080; text-decoration-color: #800080; font-weight: bold\">常見的結構為ITO</span><span style=\"font-weight: bold\">(</span><span style=\"color: #008080; text-decoration-color: #008080; font-weight: bold\">10</span> nm<span style=\"font-weight: bold\">)</span><span style=\"color: #800080; text-decoration-color: #800080\">/</span><span style=\"color: #ff00ff; text-decoration-color: #ff00ff\">Ag</span><span style=\"font-weight: bold\">(</span><span style=\"color: #008080; text-decoration-color: #008080; font-weight: bold\">150</span> nm<span style=\"font-weight: bold\">)</span><span style=\"color: #800080; text-decoration-color: #800080\">/</span><span style=\"color: #ff00ff; text-decoration-color: #ff00ff\">ITO</span><span style=\"font-weight: bold\">(</span><span style=\"color: #008080; text-decoration-color: #008080; font-weight: bold\">10</span> nm<span style=\"font-weight: bold\">)</span>。\n",
       "\n",
       "<span style=\"color: #008080; text-decoration-color: #008080; font-weight: bold\">3</span>. **像素定義層（PDL）**：\n",
       "   - 使用光刻膠材料，厚度約為2.<span style=\"color: #008080; text-decoration-color: #008080; font-weight: bold\">11</span> ± <span style=\"color: #008080; text-decoration-color: #008080; font-weight: bold\">0.07</span> μm。通過旋轉塗佈和光刻技術形成微小的開口，定義像素區。\n",
       "\n",
       "<span style=\"color: #008080; text-decoration-color: #008080; font-weight: bold\">4</span>. **有機層（Organic Layers）**：\n",
       "   - 包括孔傳輸層（HTL）、發光層（EML）和電子傳輸層（ETL）。\n",
       "   - 例如，藍光發光裝置可以使用TAPC <span style=\"font-weight: bold\">(</span><span style=\"color: #008080; text-decoration-color: #008080; font-weight: bold\">60</span> nm<span style=\"font-weight: bold\">)</span><span style=\"color: #800080; text-decoration-color: #800080\">/</span><span style=\"color: #ff00ff; text-decoration-color: #ff00ff\">mCP</span> <span style=\"font-weight: bold\">(</span><span style=\"color: #008080; text-decoration-color: #008080; font-weight: bold\">10</span> nm<span style=\"font-weight: bold\">)</span><span style=\"color: #800080; text-decoration-color: #800080\">/</span><span style=\"color: #ff00ff; text-decoration-color: #ff00ff\">mCPCN</span>:FIrpic 8wt.% <span style=\"font-weight: bold\">(</span><span style=\"color: #008080; text-decoration-color: #008080; font-weight: bold\">20</span> nm<span style=\"font-weight: bold\">)</span><span style=\"color: #800080; text-decoration-color: #800080\">/</span><span style=\"color: #ff00ff; text-decoration-color: #ff00ff\">3TPYMB</span> <span style=\"font-weight: bold\">(</span><span style=\"color: #008080; text-decoration-color: #008080; font-weight: bold\">50</span> nm<span style=\"font-weight: bold\">)</span>。\n",
       "\n",
       "<span style=\"color: #008080; text-decoration-color: #008080; font-weight: bold\">5</span>. **頂部陰極（Cathode）**：\n",
       "   - 常用材料為LiF <span style=\"font-weight: bold\">(</span><span style=\"color: #008080; text-decoration-color: #008080; font-weight: bold\">0.5</span> nm<span style=\"font-weight: bold\">)</span><span style=\"color: #800080; text-decoration-color: #800080\">/</span><span style=\"color: #ff00ff; text-decoration-color: #ff00ff\">Al</span> <span style=\"font-weight: bold\">(</span><span style=\"color: #008080; text-decoration-color: #008080; font-weight: bold\">150</span> nm<span style=\"font-weight: bold\">)</span>。\n",
       "\n",
       "<span style=\"color: #008080; text-decoration-color: #008080; font-weight: bold\">6</span>. **填充材料（Filler Material）**：\n",
       "   - 高折射率材料，如N,N′-<span style=\"color: #800080; text-decoration-color: #800080; font-weight: bold\">bis</span><span style=\"font-weight: bold\">(</span>naphthalen-<span style=\"color: #008080; text-decoration-color: #008080; font-weight: bold\">1</span>-yl<span style=\"font-weight: bold\">)</span>-N,N′-<span style=\"color: #800080; text-decoration-color: #800080; font-weight: bold\">bis</span><span style=\"font-weight: bold\">(</span>phenyl<span style=\"font-weight: bold\">)</span>benzidine <span style=\"font-weight: bold\">(</span>NPB<span style=\"font-weight: bold\">)</span>，厚度約為2.<span style=\"color: #008080; text-decoration-color: #008080; font-weight: bold\">11</span> ± <span style=\"color: #008080; text-decoration-color: #008080; font-weight: bold\">0.07</span> μm。\n",
       "\n",
       "<span style=\"color: #008080; text-decoration-color: #008080; font-weight: bold\">7</span>. **封裝層（Capping Layer）**：\n",
       "   - 使用有機材料進行封裝。\n",
       "\n",
       "### 製造步驟\n",
       "<span style=\"color: #008080; text-decoration-color: #008080; font-weight: bold\">1</span>. **基板準備**：\n",
       "   - 清洗和處理玻璃基板，確保表面清潔無污染。\n",
       "\n",
       "<span style=\"color: #008080; text-decoration-color: #008080; font-weight: bold\">2</span>. **底部電極沉積**：\n",
       "   - 通過濺射技術在基板上沉積ITO/Ag/ITO三層結構，並進行圖案化。\n",
       "\n",
       "<span style=\"color: #008080; text-decoration-color: #008080; font-weight: bold\">3</span>. **像素定義層（PDL）製作**：\n",
       "   - 使用光刻膠材料，通過旋轉塗佈和光刻技術形成微小的開口，定義每個像素區域。\n",
       "\n",
       "<span style=\"color: #008080; text-decoration-color: #008080; font-weight: bold\">4</span>. **有機層沉積**：\n",
       "   - 通過真空蒸鍍技術，依次沉積孔傳輸層、發光層、電子傳輸層等有機材料。\n",
       "\n",
       "<span style=\"color: #008080; text-decoration-color: #008080; font-weight: bold\">5</span>. **頂部陰極沉積**：\n",
       "   - 通過真空蒸鍍技術沉積LiF/Al層，形成頂部陰極。\n",
       "\n",
       "<span style=\"color: #008080; text-decoration-color: #008080; font-weight: bold\">6</span>. **填充材料沉積**：\n",
       "   - 使用細金屬掩模（FMM），通過真空蒸鍍技術在每個3D像素區域選擇性地沉積高折射率填充材料。\n",
       "\n",
       "<span style=\"color: #008080; text-decoration-color: #008080; font-weight: bold\">7</span>. **封裝**：\n",
       "   - 最後，沉積有機封裝層，保護OLED裝置。\n",
       "\n",
       "<span style=\"color: #008080; text-decoration-color: #008080; font-weight: bold\">8</span>. **測試和驗證**：\n",
       "   - 對製成的OLED像素裝置進行測試，檢查其電特性和光特性，確保其發光效率和性能。\n",
       "\n",
       "### 注意事項\n",
       "- **對準和對齊**：特別是在使用細金屬掩模（FMM）進行填充材料沉積時，需確保精確的對準和對齊。\n",
       "- **厚度控制**：各層材料的厚度需要精確控制，以確保最佳的光電性能。\n",
       "- **清潔處理**：基板和各層材料之間的界面需要進行UV臭氧處理，以提高界面粘附性和材料的電性能。\n",
       "\n",
       "藉由上述結構和製造步驟，可以製造出高發光效率的OLED像素裝置，適用於高解析度顯示器和低功耗應用。\n",
       "</pre>\n"
      ],
      "text/plain": [
       "回答-\u001b[1;36m4\u001b[0m: 要製造高發光效率的OLED像素裝置，以下是可能的結構和材料，以及製造步驟：\n",
       "\n",
       "### 結構和材料\n",
       "\u001b[1;36m1\u001b[0m. **基板（Substrate）**：\n",
       "   - 一般使用玻璃基板。\n",
       "\n",
       "\u001b[1;36m2\u001b[0m. **底部電極（Anode）**：\n",
       "   - 使用高反射率材料，如ITO \u001b[1m(\u001b[0mIndium Tin Oxide\u001b[1m)\u001b[0m、Ag \u001b[1m(\u001b[0m銀\u001b[1m)\u001b[0m等材料。\u001b[1;35m常見的結構為ITO\u001b[0m\u001b[1m(\u001b[0m\u001b[1;36m10\u001b[0m nm\u001b[1m)\u001b[0m\u001b[35m/\u001b[0m\u001b[95mAg\u001b[0m\u001b[1m(\u001b[0m\u001b[1;36m150\u001b[0m nm\u001b[1m)\u001b[0m\u001b[35m/\u001b[0m\u001b[95mITO\u001b[0m\u001b[1m(\u001b[0m\u001b[1;36m10\u001b[0m nm\u001b[1m)\u001b[0m。\n",
       "\n",
       "\u001b[1;36m3\u001b[0m. **像素定義層（PDL）**：\n",
       "   - 使用光刻膠材料，厚度約為2.\u001b[1;36m11\u001b[0m ± \u001b[1;36m0.07\u001b[0m μm。通過旋轉塗佈和光刻技術形成微小的開口，定義像素區。\n",
       "\n",
       "\u001b[1;36m4\u001b[0m. **有機層（Organic Layers）**：\n",
       "   - 包括孔傳輸層（HTL）、發光層（EML）和電子傳輸層（ETL）。\n",
       "   - 例如，藍光發光裝置可以使用TAPC \u001b[1m(\u001b[0m\u001b[1;36m60\u001b[0m nm\u001b[1m)\u001b[0m\u001b[35m/\u001b[0m\u001b[95mmCP\u001b[0m \u001b[1m(\u001b[0m\u001b[1;36m10\u001b[0m nm\u001b[1m)\u001b[0m\u001b[35m/\u001b[0m\u001b[95mmCPCN\u001b[0m:FIrpic 8wt.% \u001b[1m(\u001b[0m\u001b[1;36m20\u001b[0m nm\u001b[1m)\u001b[0m\u001b[35m/\u001b[0m\u001b[95m3TPYMB\u001b[0m \u001b[1m(\u001b[0m\u001b[1;36m50\u001b[0m nm\u001b[1m)\u001b[0m。\n",
       "\n",
       "\u001b[1;36m5\u001b[0m. **頂部陰極（Cathode）**：\n",
       "   - 常用材料為LiF \u001b[1m(\u001b[0m\u001b[1;36m0.5\u001b[0m nm\u001b[1m)\u001b[0m\u001b[35m/\u001b[0m\u001b[95mAl\u001b[0m \u001b[1m(\u001b[0m\u001b[1;36m150\u001b[0m nm\u001b[1m)\u001b[0m。\n",
       "\n",
       "\u001b[1;36m6\u001b[0m. **填充材料（Filler Material）**：\n",
       "   - 高折射率材料，如N,N′-\u001b[1;35mbis\u001b[0m\u001b[1m(\u001b[0mnaphthalen-\u001b[1;36m1\u001b[0m-yl\u001b[1m)\u001b[0m-N,N′-\u001b[1;35mbis\u001b[0m\u001b[1m(\u001b[0mphenyl\u001b[1m)\u001b[0mbenzidine \u001b[1m(\u001b[0mNPB\u001b[1m)\u001b[0m，厚度約為2.\u001b[1;36m11\u001b[0m ± \u001b[1;36m0.07\u001b[0m μm。\n",
       "\n",
       "\u001b[1;36m7\u001b[0m. **封裝層（Capping Layer）**：\n",
       "   - 使用有機材料進行封裝。\n",
       "\n",
       "### 製造步驟\n",
       "\u001b[1;36m1\u001b[0m. **基板準備**：\n",
       "   - 清洗和處理玻璃基板，確保表面清潔無污染。\n",
       "\n",
       "\u001b[1;36m2\u001b[0m. **底部電極沉積**：\n",
       "   - 通過濺射技術在基板上沉積ITO/Ag/ITO三層結構，並進行圖案化。\n",
       "\n",
       "\u001b[1;36m3\u001b[0m. **像素定義層（PDL）製作**：\n",
       "   - 使用光刻膠材料，通過旋轉塗佈和光刻技術形成微小的開口，定義每個像素區域。\n",
       "\n",
       "\u001b[1;36m4\u001b[0m. **有機層沉積**：\n",
       "   - 通過真空蒸鍍技術，依次沉積孔傳輸層、發光層、電子傳輸層等有機材料。\n",
       "\n",
       "\u001b[1;36m5\u001b[0m. **頂部陰極沉積**：\n",
       "   - 通過真空蒸鍍技術沉積LiF/Al層，形成頂部陰極。\n",
       "\n",
       "\u001b[1;36m6\u001b[0m. **填充材料沉積**：\n",
       "   - 使用細金屬掩模（FMM），通過真空蒸鍍技術在每個3D像素區域選擇性地沉積高折射率填充材料。\n",
       "\n",
       "\u001b[1;36m7\u001b[0m. **封裝**：\n",
       "   - 最後，沉積有機封裝層，保護OLED裝置。\n",
       "\n",
       "\u001b[1;36m8\u001b[0m. **測試和驗證**：\n",
       "   - 對製成的OLED像素裝置進行測試，檢查其電特性和光特性，確保其發光效率和性能。\n",
       "\n",
       "### 注意事項\n",
       "- **對準和對齊**：特別是在使用細金屬掩模（FMM）進行填充材料沉積時，需確保精確的對準和對齊。\n",
       "- **厚度控制**：各層材料的厚度需要精確控制，以確保最佳的光電性能。\n",
       "- **清潔處理**：基板和各層材料之間的界面需要進行UV臭氧處理，以提高界面粘附性和材料的電性能。\n",
       "\n",
       "藉由上述結構和製造步驟，可以製造出高發光效率的OLED像素裝置，適用於高解析度顯示器和低功耗應用。\n"
      ]
     },
     "metadata": {},
     "output_type": "display_data"
    },
    {
     "data": {
      "text/html": [
       "<pre style=\"white-space:pre;overflow-x:auto;line-height:normal;font-family:Menlo,'DejaVu Sans Mono',consolas,'Courier New',monospace\">\n",
       "</pre>\n"
      ],
      "text/plain": [
       "\n"
      ]
     },
     "metadata": {},
     "output_type": "display_data"
    },
    {
     "data": {
      "text/html": [
       "<pre style=\"white-space:pre;overflow-x:auto;line-height:normal;font-family:Menlo,'DejaVu Sans Mono',consolas,'Courier New',monospace\">問題-<span style=\"color: #008080; text-decoration-color: #008080; font-weight: bold\">5</span>: What is the issue to fabricate high efficient red OLED?\n",
       "</pre>\n"
      ],
      "text/plain": [
       "問題-\u001b[1;36m5\u001b[0m: What is the issue to fabricate high efficient red OLED?\n"
      ]
     },
     "metadata": {},
     "output_type": "display_data"
    },
    {
     "data": {
      "text/html": [
       "<pre style=\"white-space:pre;overflow-x:auto;line-height:normal;font-family:Menlo,'DejaVu Sans Mono',consolas,'Courier New',monospace\">回答-<span style=\"color: #008080; text-decoration-color: #008080; font-weight: bold\">5</span>: 製造高效紅色有機發光二極體（OLED）面臨的主要問題包括：\n",
       "\n",
       "<span style=\"color: #008080; text-decoration-color: #008080; font-weight: bold\">1</span>. \n",
       "**分子設計複雜性**：紅色OLED需要能夠有效上轉換從三重態（T1）到單重態（S1）的發射材料，這需要精確設計具有小能隙（ΔES\n",
       "T）和適當前沿分子軌道重疊的分子。\n",
       "\n",
       "<span style=\"color: #008080; text-decoration-color: #008080; font-weight: bold\">2</span>. \n",
       "**光致發光量子產率（ΦPL）**：紅色OLED的發射材料必須具有高光致發光量子產率，以確保高效的光輸出。然而，設計出同時具有\n",
       "高ΦPL和合適能級結構的分子非常困難。\n",
       "\n",
       "<span style=\"color: #008080; text-decoration-color: #008080; font-weight: bold\">3</span>. \n",
       "**水平發射偶極取向**：為了提高OLED的外部量子效率（EQE），發射材料的偶極子取向最好是水平的。然而，實現這種取向在分子\n",
       "設計和材料製造上都是一個挑戰。\n",
       "\n",
       "<span style=\"color: #008080; text-decoration-color: #008080; font-weight: bold\">4</span>. **微腔效應**：紅色OLED的效率還受到微腔效應的影響，需要在設計和製造過程中考慮這些效應以優化器件性能。\n",
       "\n",
       "<span style=\"color: #008080; text-decoration-color: #008080; font-weight: bold\">5</span>. \n",
       "**少量報告的高效紅色TADF發射體**：目前報導的高效紅色TADF（熱活化延遲螢光）發射體很少，這限制了紅色OLED的進一步發展\n",
       "。紅色TADF OLED的發展遠遠落後於藍色和綠色TADF OLED。\n",
       "\n",
       "總的來說，製造高效紅色OLED需要克服在分子設計、材料選擇和製造工藝上的多重挑戰。\n",
       "</pre>\n"
      ],
      "text/plain": [
       "回答-\u001b[1;36m5\u001b[0m: 製造高效紅色有機發光二極體（OLED）面臨的主要問題包括：\n",
       "\n",
       "\u001b[1;36m1\u001b[0m. \n",
       "**分子設計複雜性**：紅色OLED需要能夠有效上轉換從三重態（T1）到單重態（S1）的發射材料，這需要精確設計具有小能隙（ΔES\n",
       "T）和適當前沿分子軌道重疊的分子。\n",
       "\n",
       "\u001b[1;36m2\u001b[0m. \n",
       "**光致發光量子產率（ΦPL）**：紅色OLED的發射材料必須具有高光致發光量子產率，以確保高效的光輸出。然而，設計出同時具有\n",
       "高ΦPL和合適能級結構的分子非常困難。\n",
       "\n",
       "\u001b[1;36m3\u001b[0m. \n",
       "**水平發射偶極取向**：為了提高OLED的外部量子效率（EQE），發射材料的偶極子取向最好是水平的。然而，實現這種取向在分子\n",
       "設計和材料製造上都是一個挑戰。\n",
       "\n",
       "\u001b[1;36m4\u001b[0m. **微腔效應**：紅色OLED的效率還受到微腔效應的影響，需要在設計和製造過程中考慮這些效應以優化器件性能。\n",
       "\n",
       "\u001b[1;36m5\u001b[0m. \n",
       "**少量報告的高效紅色TADF發射體**：目前報導的高效紅色TADF（熱活化延遲螢光）發射體很少，這限制了紅色OLED的進一步發展\n",
       "。紅色TADF OLED的發展遠遠落後於藍色和綠色TADF OLED。\n",
       "\n",
       "總的來說，製造高效紅色OLED需要克服在分子設計、材料選擇和製造工藝上的多重挑戰。\n"
      ]
     },
     "metadata": {},
     "output_type": "display_data"
    },
    {
     "data": {
      "text/html": [
       "<pre style=\"white-space:pre;overflow-x:auto;line-height:normal;font-family:Menlo,'DejaVu Sans Mono',consolas,'Courier New',monospace\">\n",
       "</pre>\n"
      ],
      "text/plain": [
       "\n"
      ]
     },
     "metadata": {},
     "output_type": "display_data"
    },
    {
     "data": {
      "text/html": [
       "<pre style=\"white-space:pre;overflow-x:auto;line-height:normal;font-family:Menlo,'DejaVu Sans Mono',consolas,'Courier New',monospace\">問題-<span style=\"color: #008080; text-decoration-color: #008080; font-weight: bold\">6</span>: What is the optical issue in curve OLED?\n",
       "</pre>\n"
      ],
      "text/plain": [
       "問題-\u001b[1;36m6\u001b[0m: What is the optical issue in curve OLED?\n"
      ]
     },
     "metadata": {},
     "output_type": "display_data"
    },
    {
     "data": {
      "text/html": [
       "<pre style=\"white-space:pre;overflow-x:auto;line-height:normal;font-family:Menlo,'DejaVu Sans Mono',consolas,'Courier New',monospace\">回答-<span style=\"color: #008080; text-decoration-color: #008080; font-weight: bold\">6</span>: 根據提供的文件內容，曲面OLED的光學問題主要有以下幾個方面：\n",
       "\n",
       "<span style=\"color: #008080; text-decoration-color: #008080; font-weight: bold\">1</span>. **光提取效率（Light Extraction Efficiency）**：\n",
       "   - \n",
       "曲面OLED的光提取效率會受到曲率的影響。例如，球面凸曲面（spherical-convex）結構能顯著提高光提取效率，達到接近100%。\n",
       "然而，球面凹曲面（spherical-concave）結構可能會導致光提取效率降低。\n",
       "\n",
       "<span style=\"color: #008080; text-decoration-color: #008080; font-weight: bold\">2</span>. **發光角度和出射角度的變化（Emission and Exit Angles）**：\n",
       "   - \n",
       "在曲面OLED中，發光角度與出射角度之間存在差異，這會影響光的出射效率和角度分布。例如，凸曲面結構會擴大有效的臨界角，\n",
       "可能導致光提取效率顯著提高，而凹曲面結構可能會減少光提取。\n",
       "\n",
       "<span style=\"color: #008080; text-decoration-color: #008080; font-weight: bold\">3</span>. **影像幾何變形（Geometric Distortion）**：\n",
       "   - \n",
       "曲面結構會導致影像的幾何變形，這會影響顯示品質和觀看體驗。例如，曲面顯示器上的影像邊緣可能會被壓縮或拉伸，導致觀察\n",
       "到的影像變形。\n",
       "\n",
       "<span style=\"color: #008080; text-decoration-color: #008080; font-weight: bold\">4</span>. **亮度減少（Brightness Reduction）**：\n",
       "   - 曲面結構會導致影像邊緣亮度降低，這是由於不同發光角度和出射角度的影響。需要進行亮度校正以改善觀看體驗。\n",
       "\n",
       "這些光學問題對於曲面OLED顯示器的設計和應用至關重要，需要進行仔細研究和考量，以提升顯示品質和使用者體驗。\n",
       "</pre>\n"
      ],
      "text/plain": [
       "回答-\u001b[1;36m6\u001b[0m: 根據提供的文件內容，曲面OLED的光學問題主要有以下幾個方面：\n",
       "\n",
       "\u001b[1;36m1\u001b[0m. **光提取效率（Light Extraction Efficiency）**：\n",
       "   - \n",
       "曲面OLED的光提取效率會受到曲率的影響。例如，球面凸曲面（spherical-convex）結構能顯著提高光提取效率，達到接近100%。\n",
       "然而，球面凹曲面（spherical-concave）結構可能會導致光提取效率降低。\n",
       "\n",
       "\u001b[1;36m2\u001b[0m. **發光角度和出射角度的變化（Emission and Exit Angles）**：\n",
       "   - \n",
       "在曲面OLED中，發光角度與出射角度之間存在差異，這會影響光的出射效率和角度分布。例如，凸曲面結構會擴大有效的臨界角，\n",
       "可能導致光提取效率顯著提高，而凹曲面結構可能會減少光提取。\n",
       "\n",
       "\u001b[1;36m3\u001b[0m. **影像幾何變形（Geometric Distortion）**：\n",
       "   - \n",
       "曲面結構會導致影像的幾何變形，這會影響顯示品質和觀看體驗。例如，曲面顯示器上的影像邊緣可能會被壓縮或拉伸，導致觀察\n",
       "到的影像變形。\n",
       "\n",
       "\u001b[1;36m4\u001b[0m. **亮度減少（Brightness Reduction）**：\n",
       "   - 曲面結構會導致影像邊緣亮度降低，這是由於不同發光角度和出射角度的影響。需要進行亮度校正以改善觀看體驗。\n",
       "\n",
       "這些光學問題對於曲面OLED顯示器的設計和應用至關重要，需要進行仔細研究和考量，以提升顯示品質和使用者體驗。\n"
      ]
     },
     "metadata": {},
     "output_type": "display_data"
    },
    {
     "data": {
      "text/html": [
       "<pre style=\"white-space:pre;overflow-x:auto;line-height:normal;font-family:Menlo,'DejaVu Sans Mono',consolas,'Courier New',monospace\">\n",
       "</pre>\n"
      ],
      "text/plain": [
       "\n"
      ]
     },
     "metadata": {},
     "output_type": "display_data"
    },
    {
     "data": {
      "text/html": [
       "<pre style=\"white-space:pre;overflow-x:auto;line-height:normal;font-family:Menlo,'DejaVu Sans Mono',consolas,'Courier New',monospace\">問題-<span style=\"color: #008080; text-decoration-color: #008080; font-weight: bold\">7</span>: Can you summarize the outcoupling techniques for OLED?\n",
       "</pre>\n"
      ],
      "text/plain": [
       "問題-\u001b[1;36m7\u001b[0m: Can you summarize the outcoupling techniques for OLED?\n"
      ]
     },
     "metadata": {},
     "output_type": "display_data"
    },
    {
     "data": {
      "text/html": [
       "<pre style=\"white-space:pre;overflow-x:auto;line-height:normal;font-family:Menlo,'DejaVu Sans Mono',consolas,'Courier New',monospace\">回答-<span style=\"color: #008080; text-decoration-color: #008080; font-weight: bold\">7</span>: 有機發光二極體（OLED）的光耦合技術是提高其光提取效率（Light Extraction Efficiency, \n",
       "LEE）的關鍵。以下是幾種常見的光耦合技術：\n",
       "\n",
       "<span style=\"color: #008080; text-decoration-color: #008080; font-weight: bold\">1</span>. **高指數填充區域**：\n",
       "   - 使用高指數填充材料來替代空氣，提升內部光的耦合效率。這種方法通過計算OLED內部輻射耦合到高指數填充區域的效率（η \n",
       "filler）來實現。\n",
       "\n",
       "<span style=\"color: #008080; text-decoration-color: #008080; font-weight: bold\">2</span>. **光子晶體**：\n",
       "   - \n",
       "在OLED表面引入光子晶體結構，如SiO2/SiNx光子晶體，可以增強光提取。光子晶體能有效地改變光的傳播方向，減少內部全反射的\n",
       "損失。\n",
       "\n",
       "<span style=\"color: #008080; text-decoration-color: #008080; font-weight: bold\">3</span>. **納米結構電極**：\n",
       "   - 使用納米結構的複合電極，如ITO納米網（Indium Tin Oxide \n",
       "Nanomesh）和導電聚合物的結合，提高光的耦合效率。這些納米結構可以減少電極對光的阻擋和吸收。\n",
       "\n",
       "<span style=\"color: #008080; text-decoration-color: #008080; font-weight: bold\">4</span>. **表面等離子體共振（Surface Plasmon Polaritons, SPP）**：\n",
       "   - 利用SPP模式進行能量轉移，增強光的提取效應。這種技術通過在有機層和金屬層之間引入SPP效應來實現。\n",
       "\n",
       "<span style=\"color: #008080; text-decoration-color: #008080; font-weight: bold\">5</span>. **多層結構和微腔效應**：\n",
       "   - 優化OLED的多層結構，如調整空穴傳輸層（HTL）和電子傳輸層（ETL）的厚度，並利用微腔效應（Microcavity \n",
       "Effect），使發光層（EML）位於反射金屬電極的第二反節點處，提高光的耦合效率。\n",
       "\n",
       "<span style=\"color: #008080; text-decoration-color: #008080; font-weight: bold\">6</span>. **低折射率層**：\n",
       "   - 在OLED表面添加低折射率層，通過納米壓印技術（Nanoimprinting Technique）創建低折射率結構，增強正向光的耦合。\n",
       "\n",
       "<span style=\"color: #008080; text-decoration-color: #008080; font-weight: bold\">7</span>. **3D像素配置**：\n",
       "   - \n",
       "採用三維（3D）像素結構，通過綜合考慮角度、光譜和偏振依賴性的3D光線追踪模擬，來提高光從高指數填充區域到空氣的提取效\n",
       "率（η air）。\n",
       "\n",
       "這些技術的綜合應用，可以顯著提高OLED的光提取效率，從而提高其整體亮度和能效。\n",
       "</pre>\n"
      ],
      "text/plain": [
       "回答-\u001b[1;36m7\u001b[0m: 有機發光二極體（OLED）的光耦合技術是提高其光提取效率（Light Extraction Efficiency, \n",
       "LEE）的關鍵。以下是幾種常見的光耦合技術：\n",
       "\n",
       "\u001b[1;36m1\u001b[0m. **高指數填充區域**：\n",
       "   - 使用高指數填充材料來替代空氣，提升內部光的耦合效率。這種方法通過計算OLED內部輻射耦合到高指數填充區域的效率（η \n",
       "filler）來實現。\n",
       "\n",
       "\u001b[1;36m2\u001b[0m. **光子晶體**：\n",
       "   - \n",
       "在OLED表面引入光子晶體結構，如SiO2/SiNx光子晶體，可以增強光提取。光子晶體能有效地改變光的傳播方向，減少內部全反射的\n",
       "損失。\n",
       "\n",
       "\u001b[1;36m3\u001b[0m. **納米結構電極**：\n",
       "   - 使用納米結構的複合電極，如ITO納米網（Indium Tin Oxide \n",
       "Nanomesh）和導電聚合物的結合，提高光的耦合效率。這些納米結構可以減少電極對光的阻擋和吸收。\n",
       "\n",
       "\u001b[1;36m4\u001b[0m. **表面等離子體共振（Surface Plasmon Polaritons, SPP）**：\n",
       "   - 利用SPP模式進行能量轉移，增強光的提取效應。這種技術通過在有機層和金屬層之間引入SPP效應來實現。\n",
       "\n",
       "\u001b[1;36m5\u001b[0m. **多層結構和微腔效應**：\n",
       "   - 優化OLED的多層結構，如調整空穴傳輸層（HTL）和電子傳輸層（ETL）的厚度，並利用微腔效應（Microcavity \n",
       "Effect），使發光層（EML）位於反射金屬電極的第二反節點處，提高光的耦合效率。\n",
       "\n",
       "\u001b[1;36m6\u001b[0m. **低折射率層**：\n",
       "   - 在OLED表面添加低折射率層，通過納米壓印技術（Nanoimprinting Technique）創建低折射率結構，增強正向光的耦合。\n",
       "\n",
       "\u001b[1;36m7\u001b[0m. **3D像素配置**：\n",
       "   - \n",
       "採用三維（3D）像素結構，通過綜合考慮角度、光譜和偏振依賴性的3D光線追踪模擬，來提高光從高指數填充區域到空氣的提取效\n",
       "率（η air）。\n",
       "\n",
       "這些技術的綜合應用，可以顯著提高OLED的光提取效率，從而提高其整體亮度和能效。\n"
      ]
     },
     "metadata": {},
     "output_type": "display_data"
    },
    {
     "data": {
      "text/html": [
       "<pre style=\"white-space:pre;overflow-x:auto;line-height:normal;font-family:Menlo,'DejaVu Sans Mono',consolas,'Courier New',monospace\">\n",
       "</pre>\n"
      ],
      "text/plain": [
       "\n"
      ]
     },
     "metadata": {},
     "output_type": "display_data"
    }
   ],
   "source": [
    "questions = [\\\n",
    "    \"how to protect OLED display against UV light?\", \n",
    "    \"What is the key idea of 3D pixel OLED?\",\n",
    "    \"How to achieve high emission efficient OLED?\",\n",
    "    \"How to fabricate high emission OLED pixel device? What is the possible structure and material?\",\n",
    "    \"What is the issue to fabricate high efficient red OLED?\",\n",
    "    \"What is the optical issue in curve OLED?\",\n",
    "    \"Can you summarize the outcoupling techniques for OLED?\",\n",
    "]\n",
    "\n",
    "for ii, question in enumerate( questions ):\n",
    "    pprint(f'問題-{ii+1}: {question}')\n",
    "    pprint(f'回答-{ii+1}: {chain.invoke(question)}')\n",
    "    pprint('')"
   ]
  },
  {
   "cell_type": "code",
   "execution_count": null,
   "metadata": {},
   "outputs": [],
   "source": []
  },
  {
   "cell_type": "code",
   "execution_count": null,
   "metadata": {},
   "outputs": [],
   "source": []
  },
  {
   "cell_type": "markdown",
   "metadata": {},
   "source": []
  }
 ],
 "metadata": {
  "kernelspec": {
   "display_name": "OLED_RAG",
   "language": "python",
   "name": "python3"
  },
  "language_info": {
   "codemirror_mode": {
    "name": "ipython",
    "version": 3
   },
   "file_extension": ".py",
   "mimetype": "text/x-python",
   "name": "python",
   "nbconvert_exporter": "python",
   "pygments_lexer": "ipython3",
   "version": "3.12.1"
  }
 },
 "nbformat": 4,
 "nbformat_minor": 2
}
